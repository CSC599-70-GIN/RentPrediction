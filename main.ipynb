{
 "cells": [
  {
   "cell_type": "code",
   "execution_count": 1,
   "metadata": {},
   "outputs": [
    {
     "ename": "ModuleNotFoundError",
     "evalue": "No module named 'numpy'",
     "output_type": "error",
     "traceback": [
      "\u001b[0;31m---------------------------------------------------------------------------\u001b[0m",
      "\u001b[0;31mModuleNotFoundError\u001b[0m                       Traceback (most recent call last)",
      "\u001b[0;32m<ipython-input-1-b49517e533ac>\u001b[0m in \u001b[0;36m<module>\u001b[0;34m\u001b[0m\n\u001b[0;32m----> 1\u001b[0;31m \u001b[0;32mimport\u001b[0m \u001b[0mnumpy\u001b[0m \u001b[0;32mas\u001b[0m \u001b[0mnp\u001b[0m\u001b[0;34m\u001b[0m\u001b[0;34m\u001b[0m\u001b[0m\n\u001b[0m\u001b[1;32m      2\u001b[0m \u001b[0;32mimport\u001b[0m \u001b[0mpandas\u001b[0m \u001b[0;32mas\u001b[0m \u001b[0mpd\u001b[0m\u001b[0;34m\u001b[0m\u001b[0;34m\u001b[0m\u001b[0m\n\u001b[1;32m      3\u001b[0m \u001b[0;32mimport\u001b[0m \u001b[0mmatplotlib\u001b[0m\u001b[0;34m.\u001b[0m\u001b[0mpyplot\u001b[0m \u001b[0;32mas\u001b[0m \u001b[0mplt\u001b[0m\u001b[0;34m\u001b[0m\u001b[0;34m\u001b[0m\u001b[0m\n\u001b[1;32m      4\u001b[0m \u001b[0;32mimport\u001b[0m \u001b[0mjoiningFunctions\u001b[0m \u001b[0;32mas\u001b[0m \u001b[0mjf\u001b[0m\u001b[0;34m\u001b[0m\u001b[0;34m\u001b[0m\u001b[0m\n\u001b[1;32m      5\u001b[0m \u001b[0;32mfrom\u001b[0m \u001b[0mmatplotlib\u001b[0m\u001b[0;34m.\u001b[0m\u001b[0mlegend_handler\u001b[0m \u001b[0;32mimport\u001b[0m \u001b[0mHandlerLine2D\u001b[0m\u001b[0;34m\u001b[0m\u001b[0;34m\u001b[0m\u001b[0m\n",
      "\u001b[0;31mModuleNotFoundError\u001b[0m: No module named 'numpy'"
     ]
    }
   ],
   "source": [
    "import numpy as np\n",
    "import pandas as pd\n",
    "import matplotlib.pyplot as plt\n",
    "import joiningFunctions as jf\n",
    "from matplotlib.legend_handler import HandlerLine2D\n",
    "from sklearn.linear_model import LinearRegression\n",
    "from sklearn.tree import DecisionTreeRegressor\n",
    "from sklearn.metrics import mean_squared_error\n",
    "from sklearn.ensemble import RandomForestRegressor\n",
    "from sklearn.ensemble import GradientBoostingRegressor\n",
    "from sklearn.model_selection import cross_val_score\n",
    "from sklearn.model_selection import GridSearchCV\n",
    "from sklearn.model_selection import RandomizedSearchCV\n",
    "import time\n",
    "\n",
    "%matplotlib inline"
   ]
  },
  {
   "cell_type": "code",
   "execution_count": 2,
   "metadata": {},
   "outputs": [],
   "source": [
    "train_df = pd.read_csv('https://grantmlong.com/data/SE_rents2018_train.csv', index_col=0)\n",
    "test_df = pd.read_csv('https://grantmlong.com/data/SE_rents2018_test1.csv', index_col=0)\n",
    "submit1_df = pd.read_csv('https://grantmlong.com/data/SE_rents2018_test2.csv',index_col=0)\n",
    "submit2_df = pd.read_csv('https://grantmlong.com/data/SE_rents2018_test3.csv')\n",
    "nypd_complaints = pd.read_csv('2018_NYPD_Complaints.csv', index_col=0)\n",
    "zip_incident =  pd.read_csv('zip_incident_df.csv',index_col=0)"
   ]
  },
  {
   "cell_type": "code",
   "execution_count": 3,
   "metadata": {},
   "outputs": [
    {
     "data": {
      "text/plain": [
       "Index(['addr_unit', 'building_id', 'bedrooms', 'bathrooms', 'size_sqft',\n",
       "       'created_at', 'addr_street', 'addr_city', 'addr_zip', 'addr_lat',\n",
       "       'addr_lon', 'bin', 'bbl', 'floor_count', 'year_built', 'min_to_subway',\n",
       "       'has_doorman', 'has_elevator', 'has_fireplace', 'has_dishwasher',\n",
       "       'is_furnished', 'has_gym', 'allows_pets', 'has_washer_dryer',\n",
       "       'has_garage', 'has_roofdeck', 'has_concierge', 'has_pool', 'has_garden',\n",
       "       'has_childrens_playroom', 'rent', 'no_fee', 'description',\n",
       "       'neighborhood', 'borough', 'unit', 'floornumber', 'line', 'precinct',\n",
       "       'petit_larceny', 'harrassment_2', 'assault_3', 'criminal_mischief',\n",
       "       'grand_larceny', 'public_order', 'felony_assault', 'dangerous_drugs',\n",
       "       'penal_law', 'robbery', 'burglary', 'misdemenor', 'felony', 'violation',\n",
       "       'Number of Incidents'],\n",
       "      dtype='object')"
      ]
     },
     "execution_count": 3,
     "metadata": {},
     "output_type": "execute_result"
    }
   ],
   "source": [
    "train_df = jf.joinRentNYPD(train_df, nypd_complaints)\n",
    "train_df = jf.jointRent311(train_df, zip_incident)\n",
    "\n",
    "test_df = jf.joinRentNYPD(test_df, nypd_complaints)\n",
    "test_df = jf.jointRent311(test_df, zip_incident)\n",
    "\n",
    "submit1_df = jf.joinRentNYPD(submit1_df, nypd_complaints)\n",
    "submit1_df = jf.jointRent311(submit1_df, zip_incident)\n",
    "\n",
    "submit2_df = jf.joinRentNYPD(submit2_df, nypd_complaints)\n",
    "submit2_df = jf.jointRent311(submit2_df, zip_incident)\n",
    "\n",
    "train_df.columns"
   ]
  },
  {
   "cell_type": "code",
   "execution_count": 4,
   "metadata": {},
   "outputs": [
    {
     "data": {
      "text/plain": [
       "(12000, 54)"
      ]
     },
     "execution_count": 4,
     "metadata": {},
     "output_type": "execute_result"
    }
   ],
   "source": [
    "train_df.shape"
   ]
  },
  {
   "cell_type": "code",
   "execution_count": 5,
   "metadata": {},
   "outputs": [
    {
     "data": {
      "text/plain": [
       "(2000, 54)"
      ]
     },
     "execution_count": 5,
     "metadata": {},
     "output_type": "execute_result"
    }
   ],
   "source": [
    "test_df.shape"
   ]
  },
  {
   "cell_type": "code",
   "execution_count": 6,
   "metadata": {},
   "outputs": [
    {
     "data": {
      "text/html": [
       "<div>\n",
       "<style scoped>\n",
       "    .dataframe tbody tr th:only-of-type {\n",
       "        vertical-align: middle;\n",
       "    }\n",
       "\n",
       "    .dataframe tbody tr th {\n",
       "        vertical-align: top;\n",
       "    }\n",
       "\n",
       "    .dataframe thead th {\n",
       "        text-align: right;\n",
       "    }\n",
       "</style>\n",
       "<table border=\"1\" class=\"dataframe\">\n",
       "  <thead>\n",
       "    <tr style=\"text-align: right;\">\n",
       "      <th></th>\n",
       "      <th>5347</th>\n",
       "      <th>7328</th>\n",
       "      <th>9773</th>\n",
       "      <th>7149</th>\n",
       "      <th>3235</th>\n",
       "    </tr>\n",
       "  </thead>\n",
       "  <tbody>\n",
       "    <tr>\n",
       "      <th>addr_unit</th>\n",
       "      <td>#203</td>\n",
       "      <td>#1W</td>\n",
       "      <td>#1</td>\n",
       "      <td>#2C</td>\n",
       "      <td>#2D</td>\n",
       "    </tr>\n",
       "    <tr>\n",
       "      <th>building_id</th>\n",
       "      <td>54661</td>\n",
       "      <td>105916</td>\n",
       "      <td>1266391</td>\n",
       "      <td>34648</td>\n",
       "      <td>796354</td>\n",
       "    </tr>\n",
       "    <tr>\n",
       "      <th>bedrooms</th>\n",
       "      <td>0</td>\n",
       "      <td>3</td>\n",
       "      <td>2</td>\n",
       "      <td>0</td>\n",
       "      <td>2</td>\n",
       "    </tr>\n",
       "    <tr>\n",
       "      <th>bathrooms</th>\n",
       "      <td>1</td>\n",
       "      <td>2</td>\n",
       "      <td>1</td>\n",
       "      <td>1</td>\n",
       "      <td>1</td>\n",
       "    </tr>\n",
       "    <tr>\n",
       "      <th>size_sqft</th>\n",
       "      <td>300</td>\n",
       "      <td>1400</td>\n",
       "      <td>1200</td>\n",
       "      <td>550</td>\n",
       "      <td>900</td>\n",
       "    </tr>\n",
       "    <tr>\n",
       "      <th>created_at</th>\n",
       "      <td>2018-05-26 14:02:09</td>\n",
       "      <td>2018-06-14 19:01:11</td>\n",
       "      <td>2018-06-03 17:21:49</td>\n",
       "      <td>2018-05-11 12:33:57</td>\n",
       "      <td>2018-07-24 13:02:48</td>\n",
       "    </tr>\n",
       "    <tr>\n",
       "      <th>addr_street</th>\n",
       "      <td>457 WEST 57 STREET</td>\n",
       "      <td>205 WEST 107 STREET</td>\n",
       "      <td>33-05 28 AVENUE</td>\n",
       "      <td>85 8 AVENUE</td>\n",
       "      <td>2612 WEST 2 STREET</td>\n",
       "    </tr>\n",
       "    <tr>\n",
       "      <th>addr_city</th>\n",
       "      <td>New York</td>\n",
       "      <td>New York</td>\n",
       "      <td>Astoria</td>\n",
       "      <td>New York</td>\n",
       "      <td>Brooklyn</td>\n",
       "    </tr>\n",
       "    <tr>\n",
       "      <th>addr_zip</th>\n",
       "      <td>10019</td>\n",
       "      <td>10025</td>\n",
       "      <td>11103</td>\n",
       "      <td>10011</td>\n",
       "      <td>11223</td>\n",
       "    </tr>\n",
       "    <tr>\n",
       "      <th>addr_lat</th>\n",
       "      <td>40.769</td>\n",
       "      <td>40.8016</td>\n",
       "      <td>40.7678</td>\n",
       "      <td>40.7403</td>\n",
       "      <td>40.5849</td>\n",
       "    </tr>\n",
       "    <tr>\n",
       "      <th>addr_lon</th>\n",
       "      <td>-73.9875</td>\n",
       "      <td>-73.9658</td>\n",
       "      <td>-73.9181</td>\n",
       "      <td>-74.0026</td>\n",
       "      <td>-73.9715</td>\n",
       "    </tr>\n",
       "    <tr>\n",
       "      <th>bin</th>\n",
       "      <td>1.02688e+06</td>\n",
       "      <td>1.05666e+06</td>\n",
       "      <td>4.00932e+06</td>\n",
       "      <td>1.07613e+06</td>\n",
       "      <td>3.19606e+06</td>\n",
       "    </tr>\n",
       "    <tr>\n",
       "      <th>bbl</th>\n",
       "      <td>1010670008</td>\n",
       "      <td>1018790026</td>\n",
       "      <td>4006310069</td>\n",
       "      <td>1007387501</td>\n",
       "      <td>3072340001</td>\n",
       "    </tr>\n",
       "    <tr>\n",
       "      <th>floor_count</th>\n",
       "      <td>16</td>\n",
       "      <td>5</td>\n",
       "      <td>3</td>\n",
       "      <td>6</td>\n",
       "      <td>6</td>\n",
       "    </tr>\n",
       "    <tr>\n",
       "      <th>year_built</th>\n",
       "      <td>1930</td>\n",
       "      <td>1900</td>\n",
       "      <td>1950</td>\n",
       "      <td>1973</td>\n",
       "      <td>1951</td>\n",
       "    </tr>\n",
       "    <tr>\n",
       "      <th>min_to_subway</th>\n",
       "      <td>3.3167</td>\n",
       "      <td>3.0667</td>\n",
       "      <td>2.4833</td>\n",
       "      <td>0.65</td>\n",
       "      <td>5.3333</td>\n",
       "    </tr>\n",
       "    <tr>\n",
       "      <th>has_doorman</th>\n",
       "      <td>1</td>\n",
       "      <td>0</td>\n",
       "      <td>0</td>\n",
       "      <td>0</td>\n",
       "      <td>0</td>\n",
       "    </tr>\n",
       "    <tr>\n",
       "      <th>has_elevator</th>\n",
       "      <td>1</td>\n",
       "      <td>0</td>\n",
       "      <td>0</td>\n",
       "      <td>1</td>\n",
       "      <td>0</td>\n",
       "    </tr>\n",
       "    <tr>\n",
       "      <th>has_fireplace</th>\n",
       "      <td>0</td>\n",
       "      <td>0</td>\n",
       "      <td>0</td>\n",
       "      <td>0</td>\n",
       "      <td>0</td>\n",
       "    </tr>\n",
       "    <tr>\n",
       "      <th>has_dishwasher</th>\n",
       "      <td>0</td>\n",
       "      <td>1</td>\n",
       "      <td>0</td>\n",
       "      <td>1</td>\n",
       "      <td>0</td>\n",
       "    </tr>\n",
       "    <tr>\n",
       "      <th>is_furnished</th>\n",
       "      <td>0</td>\n",
       "      <td>1</td>\n",
       "      <td>0</td>\n",
       "      <td>0</td>\n",
       "      <td>0</td>\n",
       "    </tr>\n",
       "    <tr>\n",
       "      <th>has_gym</th>\n",
       "      <td>0</td>\n",
       "      <td>0</td>\n",
       "      <td>0</td>\n",
       "      <td>0</td>\n",
       "      <td>0</td>\n",
       "    </tr>\n",
       "    <tr>\n",
       "      <th>allows_pets</th>\n",
       "      <td>1</td>\n",
       "      <td>1</td>\n",
       "      <td>0</td>\n",
       "      <td>0</td>\n",
       "      <td>0</td>\n",
       "    </tr>\n",
       "    <tr>\n",
       "      <th>has_washer_dryer</th>\n",
       "      <td>0</td>\n",
       "      <td>1</td>\n",
       "      <td>0</td>\n",
       "      <td>0</td>\n",
       "      <td>0</td>\n",
       "    </tr>\n",
       "    <tr>\n",
       "      <th>has_garage</th>\n",
       "      <td>0</td>\n",
       "      <td>0</td>\n",
       "      <td>0</td>\n",
       "      <td>1</td>\n",
       "      <td>0</td>\n",
       "    </tr>\n",
       "    <tr>\n",
       "      <th>has_roofdeck</th>\n",
       "      <td>0</td>\n",
       "      <td>0</td>\n",
       "      <td>0</td>\n",
       "      <td>0</td>\n",
       "      <td>0</td>\n",
       "    </tr>\n",
       "    <tr>\n",
       "      <th>has_concierge</th>\n",
       "      <td>0</td>\n",
       "      <td>0</td>\n",
       "      <td>0</td>\n",
       "      <td>0</td>\n",
       "      <td>0</td>\n",
       "    </tr>\n",
       "    <tr>\n",
       "      <th>has_pool</th>\n",
       "      <td>0</td>\n",
       "      <td>0</td>\n",
       "      <td>0</td>\n",
       "      <td>0</td>\n",
       "      <td>0</td>\n",
       "    </tr>\n",
       "    <tr>\n",
       "      <th>has_garden</th>\n",
       "      <td>0</td>\n",
       "      <td>0</td>\n",
       "      <td>1</td>\n",
       "      <td>0</td>\n",
       "      <td>0</td>\n",
       "    </tr>\n",
       "    <tr>\n",
       "      <th>has_childrens_playroom</th>\n",
       "      <td>0</td>\n",
       "      <td>0</td>\n",
       "      <td>0</td>\n",
       "      <td>0</td>\n",
       "      <td>0</td>\n",
       "    </tr>\n",
       "    <tr>\n",
       "      <th>rent</th>\n",
       "      <td>2200</td>\n",
       "      <td>5950</td>\n",
       "      <td>2500</td>\n",
       "      <td>3200</td>\n",
       "      <td>1925</td>\n",
       "    </tr>\n",
       "    <tr>\n",
       "      <th>no_fee</th>\n",
       "      <td>0</td>\n",
       "      <td>0</td>\n",
       "      <td>0</td>\n",
       "      <td>0</td>\n",
       "      <td>0</td>\n",
       "    </tr>\n",
       "    <tr>\n",
       "      <th>description</th>\n",
       "      <td>Very Special, Perfectly located studio in prew...</td>\n",
       "      <td>**Great Location and Great Price** Beautiful l...</td>\n",
       "      <td>Apartment under renovation....Ready June 20th\\...</td>\n",
       "      <td>Located at the intersection of Chelsea, the We...</td>\n",
       "      <td>Visit our on-site office located in the Beach ...</td>\n",
       "    </tr>\n",
       "    <tr>\n",
       "      <th>neighborhood</th>\n",
       "      <td>Midtown West</td>\n",
       "      <td>Upper West Side</td>\n",
       "      <td>Astoria</td>\n",
       "      <td>Chelsea</td>\n",
       "      <td>Gravesend</td>\n",
       "    </tr>\n",
       "    <tr>\n",
       "      <th>borough</th>\n",
       "      <td>Manhattan</td>\n",
       "      <td>Manhattan</td>\n",
       "      <td>Queens</td>\n",
       "      <td>Manhattan</td>\n",
       "      <td>Brooklyn</td>\n",
       "    </tr>\n",
       "    <tr>\n",
       "      <th>unit</th>\n",
       "      <td>203</td>\n",
       "      <td>1W</td>\n",
       "      <td>1</td>\n",
       "      <td>2C</td>\n",
       "      <td>2D</td>\n",
       "    </tr>\n",
       "    <tr>\n",
       "      <th>floornumber</th>\n",
       "      <td>2</td>\n",
       "      <td>1</td>\n",
       "      <td>1</td>\n",
       "      <td>2</td>\n",
       "      <td>2</td>\n",
       "    </tr>\n",
       "    <tr>\n",
       "      <th>line</th>\n",
       "      <td>03</td>\n",
       "      <td>W</td>\n",
       "      <td>NaN</td>\n",
       "      <td>C</td>\n",
       "      <td>D</td>\n",
       "    </tr>\n",
       "    <tr>\n",
       "      <th>precinct</th>\n",
       "      <td>18</td>\n",
       "      <td>24</td>\n",
       "      <td>114</td>\n",
       "      <td>10</td>\n",
       "      <td>62</td>\n",
       "    </tr>\n",
       "    <tr>\n",
       "      <th>petit_larceny</th>\n",
       "      <td>2048</td>\n",
       "      <td>1433</td>\n",
       "      <td>1484</td>\n",
       "      <td>810</td>\n",
       "      <td>1061</td>\n",
       "    </tr>\n",
       "    <tr>\n",
       "      <th>harrassment_2</th>\n",
       "      <td>1184</td>\n",
       "      <td>799</td>\n",
       "      <td>1280</td>\n",
       "      <td>588</td>\n",
       "      <td>865</td>\n",
       "    </tr>\n",
       "    <tr>\n",
       "      <th>assault_3</th>\n",
       "      <td>790</td>\n",
       "      <td>339</td>\n",
       "      <td>951</td>\n",
       "      <td>390</td>\n",
       "      <td>557</td>\n",
       "    </tr>\n",
       "    <tr>\n",
       "      <th>criminal_mischief</th>\n",
       "      <td>416</td>\n",
       "      <td>435</td>\n",
       "      <td>869</td>\n",
       "      <td>275</td>\n",
       "      <td>515</td>\n",
       "    </tr>\n",
       "    <tr>\n",
       "      <th>grand_larceny</th>\n",
       "      <td>1877</td>\n",
       "      <td>596</td>\n",
       "      <td>787</td>\n",
       "      <td>745</td>\n",
       "      <td>485</td>\n",
       "    </tr>\n",
       "    <tr>\n",
       "      <th>public_order</th>\n",
       "      <td>333</td>\n",
       "      <td>115</td>\n",
       "      <td>496</td>\n",
       "      <td>201</td>\n",
       "      <td>336</td>\n",
       "    </tr>\n",
       "    <tr>\n",
       "      <th>felony_assault</th>\n",
       "      <td>190</td>\n",
       "      <td>122</td>\n",
       "      <td>357</td>\n",
       "      <td>95</td>\n",
       "      <td>148</td>\n",
       "    </tr>\n",
       "    <tr>\n",
       "      <th>dangerous_drugs</th>\n",
       "      <td>215</td>\n",
       "      <td>64</td>\n",
       "      <td>145</td>\n",
       "      <td>105</td>\n",
       "      <td>87</td>\n",
       "    </tr>\n",
       "    <tr>\n",
       "      <th>penal_law</th>\n",
       "      <td>85</td>\n",
       "      <td>71</td>\n",
       "      <td>323</td>\n",
       "      <td>42</td>\n",
       "      <td>196</td>\n",
       "    </tr>\n",
       "    <tr>\n",
       "      <th>robbery</th>\n",
       "      <td>130</td>\n",
       "      <td>140</td>\n",
       "      <td>193</td>\n",
       "      <td>81</td>\n",
       "      <td>120</td>\n",
       "    </tr>\n",
       "    <tr>\n",
       "      <th>burglary</th>\n",
       "      <td>175</td>\n",
       "      <td>141</td>\n",
       "      <td>171</td>\n",
       "      <td>78</td>\n",
       "      <td>180</td>\n",
       "    </tr>\n",
       "    <tr>\n",
       "      <th>misdemenor</th>\n",
       "      <td>3670</td>\n",
       "      <td>2322</td>\n",
       "      <td>3658</td>\n",
       "      <td>1711</td>\n",
       "      <td>2381</td>\n",
       "    </tr>\n",
       "    <tr>\n",
       "      <th>felony</th>\n",
       "      <td>2575</td>\n",
       "      <td>1131</td>\n",
       "      <td>2108</td>\n",
       "      <td>1107</td>\n",
       "      <td>1289</td>\n",
       "    </tr>\n",
       "    <tr>\n",
       "      <th>violation</th>\n",
       "      <td>1198</td>\n",
       "      <td>802</td>\n",
       "      <td>1290</td>\n",
       "      <td>592</td>\n",
       "      <td>880</td>\n",
       "    </tr>\n",
       "    <tr>\n",
       "      <th>Number of Incidents</th>\n",
       "      <td>6643</td>\n",
       "      <td>11574</td>\n",
       "      <td>3713</td>\n",
       "      <td>7204</td>\n",
       "      <td>7238</td>\n",
       "    </tr>\n",
       "  </tbody>\n",
       "</table>\n",
       "</div>"
      ],
      "text/plain": [
       "                                                                     5347  \\\n",
       "addr_unit                                                            #203   \n",
       "building_id                                                         54661   \n",
       "bedrooms                                                                0   \n",
       "bathrooms                                                               1   \n",
       "size_sqft                                                             300   \n",
       "created_at                                            2018-05-26 14:02:09   \n",
       "addr_street                                            457 WEST 57 STREET   \n",
       "addr_city                                                        New York   \n",
       "addr_zip                                                            10019   \n",
       "addr_lat                                                           40.769   \n",
       "addr_lon                                                         -73.9875   \n",
       "bin                                                           1.02688e+06   \n",
       "bbl                                                            1010670008   \n",
       "floor_count                                                            16   \n",
       "year_built                                                           1930   \n",
       "min_to_subway                                                      3.3167   \n",
       "has_doorman                                                             1   \n",
       "has_elevator                                                            1   \n",
       "has_fireplace                                                           0   \n",
       "has_dishwasher                                                          0   \n",
       "is_furnished                                                            0   \n",
       "has_gym                                                                 0   \n",
       "allows_pets                                                             1   \n",
       "has_washer_dryer                                                        0   \n",
       "has_garage                                                              0   \n",
       "has_roofdeck                                                            0   \n",
       "has_concierge                                                           0   \n",
       "has_pool                                                                0   \n",
       "has_garden                                                              0   \n",
       "has_childrens_playroom                                                  0   \n",
       "rent                                                                 2200   \n",
       "no_fee                                                                  0   \n",
       "description             Very Special, Perfectly located studio in prew...   \n",
       "neighborhood                                                 Midtown West   \n",
       "borough                                                         Manhattan   \n",
       "unit                                                                  203   \n",
       "floornumber                                                             2   \n",
       "line                                                                   03   \n",
       "precinct                                                               18   \n",
       "petit_larceny                                                        2048   \n",
       "harrassment_2                                                        1184   \n",
       "assault_3                                                             790   \n",
       "criminal_mischief                                                     416   \n",
       "grand_larceny                                                        1877   \n",
       "public_order                                                          333   \n",
       "felony_assault                                                        190   \n",
       "dangerous_drugs                                                       215   \n",
       "penal_law                                                              85   \n",
       "robbery                                                               130   \n",
       "burglary                                                              175   \n",
       "misdemenor                                                           3670   \n",
       "felony                                                               2575   \n",
       "violation                                                            1198   \n",
       "Number of Incidents                                                  6643   \n",
       "\n",
       "                                                                     7328  \\\n",
       "addr_unit                                                             #1W   \n",
       "building_id                                                        105916   \n",
       "bedrooms                                                                3   \n",
       "bathrooms                                                               2   \n",
       "size_sqft                                                            1400   \n",
       "created_at                                            2018-06-14 19:01:11   \n",
       "addr_street                                           205 WEST 107 STREET   \n",
       "addr_city                                                        New York   \n",
       "addr_zip                                                            10025   \n",
       "addr_lat                                                          40.8016   \n",
       "addr_lon                                                         -73.9658   \n",
       "bin                                                           1.05666e+06   \n",
       "bbl                                                            1018790026   \n",
       "floor_count                                                             5   \n",
       "year_built                                                           1900   \n",
       "min_to_subway                                                      3.0667   \n",
       "has_doorman                                                             0   \n",
       "has_elevator                                                            0   \n",
       "has_fireplace                                                           0   \n",
       "has_dishwasher                                                          1   \n",
       "is_furnished                                                            1   \n",
       "has_gym                                                                 0   \n",
       "allows_pets                                                             1   \n",
       "has_washer_dryer                                                        1   \n",
       "has_garage                                                              0   \n",
       "has_roofdeck                                                            0   \n",
       "has_concierge                                                           0   \n",
       "has_pool                                                                0   \n",
       "has_garden                                                              0   \n",
       "has_childrens_playroom                                                  0   \n",
       "rent                                                                 5950   \n",
       "no_fee                                                                  0   \n",
       "description             **Great Location and Great Price** Beautiful l...   \n",
       "neighborhood                                              Upper West Side   \n",
       "borough                                                         Manhattan   \n",
       "unit                                                                   1W   \n",
       "floornumber                                                             1   \n",
       "line                                                                    W   \n",
       "precinct                                                               24   \n",
       "petit_larceny                                                        1433   \n",
       "harrassment_2                                                         799   \n",
       "assault_3                                                             339   \n",
       "criminal_mischief                                                     435   \n",
       "grand_larceny                                                         596   \n",
       "public_order                                                          115   \n",
       "felony_assault                                                        122   \n",
       "dangerous_drugs                                                        64   \n",
       "penal_law                                                              71   \n",
       "robbery                                                               140   \n",
       "burglary                                                              141   \n",
       "misdemenor                                                           2322   \n",
       "felony                                                               1131   \n",
       "violation                                                             802   \n",
       "Number of Incidents                                                 11574   \n",
       "\n",
       "                                                                     9773  \\\n",
       "addr_unit                                                              #1   \n",
       "building_id                                                       1266391   \n",
       "bedrooms                                                                2   \n",
       "bathrooms                                                               1   \n",
       "size_sqft                                                            1200   \n",
       "created_at                                            2018-06-03 17:21:49   \n",
       "addr_street                                               33-05 28 AVENUE   \n",
       "addr_city                                                         Astoria   \n",
       "addr_zip                                                            11103   \n",
       "addr_lat                                                          40.7678   \n",
       "addr_lon                                                         -73.9181   \n",
       "bin                                                           4.00932e+06   \n",
       "bbl                                                            4006310069   \n",
       "floor_count                                                             3   \n",
       "year_built                                                           1950   \n",
       "min_to_subway                                                      2.4833   \n",
       "has_doorman                                                             0   \n",
       "has_elevator                                                            0   \n",
       "has_fireplace                                                           0   \n",
       "has_dishwasher                                                          0   \n",
       "is_furnished                                                            0   \n",
       "has_gym                                                                 0   \n",
       "allows_pets                                                             0   \n",
       "has_washer_dryer                                                        0   \n",
       "has_garage                                                              0   \n",
       "has_roofdeck                                                            0   \n",
       "has_concierge                                                           0   \n",
       "has_pool                                                                0   \n",
       "has_garden                                                              1   \n",
       "has_childrens_playroom                                                  0   \n",
       "rent                                                                 2500   \n",
       "no_fee                                                                  0   \n",
       "description             Apartment under renovation....Ready June 20th\\...   \n",
       "neighborhood                                                      Astoria   \n",
       "borough                                                            Queens   \n",
       "unit                                                                    1   \n",
       "floornumber                                                             1   \n",
       "line                                                                  NaN   \n",
       "precinct                                                              114   \n",
       "petit_larceny                                                        1484   \n",
       "harrassment_2                                                        1280   \n",
       "assault_3                                                             951   \n",
       "criminal_mischief                                                     869   \n",
       "grand_larceny                                                         787   \n",
       "public_order                                                          496   \n",
       "felony_assault                                                        357   \n",
       "dangerous_drugs                                                       145   \n",
       "penal_law                                                             323   \n",
       "robbery                                                               193   \n",
       "burglary                                                              171   \n",
       "misdemenor                                                           3658   \n",
       "felony                                                               2108   \n",
       "violation                                                            1290   \n",
       "Number of Incidents                                                  3713   \n",
       "\n",
       "                                                                     7149  \\\n",
       "addr_unit                                                             #2C   \n",
       "building_id                                                         34648   \n",
       "bedrooms                                                                0   \n",
       "bathrooms                                                               1   \n",
       "size_sqft                                                             550   \n",
       "created_at                                            2018-05-11 12:33:57   \n",
       "addr_street                                                   85 8 AVENUE   \n",
       "addr_city                                                        New York   \n",
       "addr_zip                                                            10011   \n",
       "addr_lat                                                          40.7403   \n",
       "addr_lon                                                         -74.0026   \n",
       "bin                                                           1.07613e+06   \n",
       "bbl                                                            1007387501   \n",
       "floor_count                                                             6   \n",
       "year_built                                                           1973   \n",
       "min_to_subway                                                        0.65   \n",
       "has_doorman                                                             0   \n",
       "has_elevator                                                            1   \n",
       "has_fireplace                                                           0   \n",
       "has_dishwasher                                                          1   \n",
       "is_furnished                                                            0   \n",
       "has_gym                                                                 0   \n",
       "allows_pets                                                             0   \n",
       "has_washer_dryer                                                        0   \n",
       "has_garage                                                              1   \n",
       "has_roofdeck                                                            0   \n",
       "has_concierge                                                           0   \n",
       "has_pool                                                                0   \n",
       "has_garden                                                              0   \n",
       "has_childrens_playroom                                                  0   \n",
       "rent                                                                 3200   \n",
       "no_fee                                                                  0   \n",
       "description             Located at the intersection of Chelsea, the We...   \n",
       "neighborhood                                                      Chelsea   \n",
       "borough                                                         Manhattan   \n",
       "unit                                                                   2C   \n",
       "floornumber                                                             2   \n",
       "line                                                                    C   \n",
       "precinct                                                               10   \n",
       "petit_larceny                                                         810   \n",
       "harrassment_2                                                         588   \n",
       "assault_3                                                             390   \n",
       "criminal_mischief                                                     275   \n",
       "grand_larceny                                                         745   \n",
       "public_order                                                          201   \n",
       "felony_assault                                                         95   \n",
       "dangerous_drugs                                                       105   \n",
       "penal_law                                                              42   \n",
       "robbery                                                                81   \n",
       "burglary                                                               78   \n",
       "misdemenor                                                           1711   \n",
       "felony                                                               1107   \n",
       "violation                                                             592   \n",
       "Number of Incidents                                                  7204   \n",
       "\n",
       "                                                                     3235  \n",
       "addr_unit                                                             #2D  \n",
       "building_id                                                        796354  \n",
       "bedrooms                                                                2  \n",
       "bathrooms                                                               1  \n",
       "size_sqft                                                             900  \n",
       "created_at                                            2018-07-24 13:02:48  \n",
       "addr_street                                            2612 WEST 2 STREET  \n",
       "addr_city                                                        Brooklyn  \n",
       "addr_zip                                                            11223  \n",
       "addr_lat                                                          40.5849  \n",
       "addr_lon                                                         -73.9715  \n",
       "bin                                                           3.19606e+06  \n",
       "bbl                                                            3072340001  \n",
       "floor_count                                                             6  \n",
       "year_built                                                           1951  \n",
       "min_to_subway                                                      5.3333  \n",
       "has_doorman                                                             0  \n",
       "has_elevator                                                            0  \n",
       "has_fireplace                                                           0  \n",
       "has_dishwasher                                                          0  \n",
       "is_furnished                                                            0  \n",
       "has_gym                                                                 0  \n",
       "allows_pets                                                             0  \n",
       "has_washer_dryer                                                        0  \n",
       "has_garage                                                              0  \n",
       "has_roofdeck                                                            0  \n",
       "has_concierge                                                           0  \n",
       "has_pool                                                                0  \n",
       "has_garden                                                              0  \n",
       "has_childrens_playroom                                                  0  \n",
       "rent                                                                 1925  \n",
       "no_fee                                                                  0  \n",
       "description             Visit our on-site office located in the Beach ...  \n",
       "neighborhood                                                    Gravesend  \n",
       "borough                                                          Brooklyn  \n",
       "unit                                                                   2D  \n",
       "floornumber                                                             2  \n",
       "line                                                                    D  \n",
       "precinct                                                               62  \n",
       "petit_larceny                                                        1061  \n",
       "harrassment_2                                                         865  \n",
       "assault_3                                                             557  \n",
       "criminal_mischief                                                     515  \n",
       "grand_larceny                                                         485  \n",
       "public_order                                                          336  \n",
       "felony_assault                                                        148  \n",
       "dangerous_drugs                                                        87  \n",
       "penal_law                                                             196  \n",
       "robbery                                                               120  \n",
       "burglary                                                              180  \n",
       "misdemenor                                                           2381  \n",
       "felony                                                               1289  \n",
       "violation                                                             880  \n",
       "Number of Incidents                                                  7238  "
      ]
     },
     "execution_count": 6,
     "metadata": {},
     "output_type": "execute_result"
    }
   ],
   "source": [
    "train_df.sample(5).transpose()"
   ]
  },
  {
   "cell_type": "code",
   "execution_count": 7,
   "metadata": {},
   "outputs": [
    {
     "data": {
      "text/plain": [
       "<matplotlib.collections.PathCollection at 0x1a191150f0>"
      ]
     },
     "execution_count": 7,
     "metadata": {},
     "output_type": "execute_result"
    },
    {
     "data": {
      "image/png": "[encoded data removed]",
      "text/plain": [
       "<Figure size 432x288 with 1 Axes>"
      ]
     },
     "metadata": {},
     "output_type": "display_data"
    }
   ],
   "source": [
    "plt.scatter(train_df['size_sqft'],train_df['rent'])"
   ]
  },
  {
   "cell_type": "code",
   "execution_count": 8,
   "metadata": {},
   "outputs": [
    {
     "name": "stdout",
     "output_type": "stream",
     "text": [
      "Train NaNs:\n",
      "bedrooms                  0\n",
      "bathrooms                 0\n",
      "size_sqft                 0\n",
      "addr_zip                  0\n",
      "bin                       1\n",
      "bbl                       0\n",
      "floor_count               0\n",
      "has_doorman               0\n",
      "has_elevator              0\n",
      "has_fireplace             0\n",
      "has_dishwasher            0\n",
      "is_furnished              0\n",
      "has_gym                   0\n",
      "allows_pets               0\n",
      "has_washer_dryer          0\n",
      "has_garage                0\n",
      "has_roofdeck              0\n",
      "has_concierge             0\n",
      "has_pool                  0\n",
      "precinct                  0\n",
      "petit_larceny             0\n",
      "harrassment_2             0\n",
      "assault_3                 0\n",
      "criminal_mischief         0\n",
      "grand_larceny             0\n",
      "public_order              0\n",
      "felony_assault            0\n",
      "dangerous_drugs           0\n",
      "penal_law                 0\n",
      "robbery                   0\n",
      "burglary                  0\n",
      "misdemenor                0\n",
      "felony                    0\n",
      "violation                 0\n",
      "has_garden                0\n",
      "has_childrens_playroom    0\n",
      "Number of Incidents       0\n",
      "no_fee                    0\n",
      "rent                      0\n",
      "dtype: int64\n",
      "\n",
      "\n",
      "Test NaNs:\n",
      "bedrooms                  0\n",
      "bathrooms                 0\n",
      "size_sqft                 0\n",
      "addr_zip                  0\n",
      "bin                       0\n",
      "bbl                       0\n",
      "floor_count               0\n",
      "has_doorman               0\n",
      "has_elevator              0\n",
      "has_fireplace             0\n",
      "has_dishwasher            0\n",
      "is_furnished              0\n",
      "has_gym                   0\n",
      "allows_pets               0\n",
      "has_washer_dryer          0\n",
      "has_garage                0\n",
      "has_roofdeck              0\n",
      "has_concierge             0\n",
      "has_pool                  0\n",
      "precinct                  0\n",
      "petit_larceny             0\n",
      "harrassment_2             0\n",
      "assault_3                 0\n",
      "criminal_mischief         0\n",
      "grand_larceny             0\n",
      "public_order              0\n",
      "felony_assault            0\n",
      "dangerous_drugs           0\n",
      "penal_law                 0\n",
      "robbery                   0\n",
      "burglary                  0\n",
      "misdemenor                0\n",
      "felony                    0\n",
      "violation                 0\n",
      "has_garden                0\n",
      "has_childrens_playroom    0\n",
      "Number of Incidents       0\n",
      "no_fee                    0\n",
      "rent                      0\n",
      "dtype: int64\n"
     ]
    }
   ],
   "source": [
    "#Had to remove features with strings as the type i.e. 'addr_city', 'neighborhood', 'borough'\n",
    "#Might have to try turning them into numbers to find out how important they are\n",
    "features = ['bedrooms', 'bathrooms', 'size_sqft', 'addr_zip', 'bin', 'bbl',\n",
    "                    'floor_count', 'has_doorman', 'has_elevator',\n",
    "                    'has_fireplace', 'has_dishwasher','is_furnished', 'has_gym', 'allows_pets',\n",
    "                    'has_washer_dryer', 'has_garage', 'has_roofdeck', 'has_concierge', 'has_pool',\n",
    "                    'precinct', 'petit_larceny', 'harrassment_2', 'assault_3', 'criminal_mischief',\n",
    "                    'grand_larceny', 'public_order', 'felony_assault', 'dangerous_drugs', 'penal_law',\n",
    "                    'robbery', 'burglary', 'misdemenor', 'felony', 'violation', 'has_garden', \n",
    "                    'has_childrens_playroom', 'Number of Incidents', 'no_fee', 'rent']\n",
    "\n",
    "\n",
    "#Most important features (comment it out to test every feature)\n",
    "# features = ['size_sqft', 'bbl', 'bathrooms', 'bedrooms', 'rent']\n",
    "\n",
    "print('Train NaNs:', train_df[features].isna().sum(), sep='\\n')\n",
    "print('\\n')\n",
    "print('Test NaNs:', test_df[features].isna().sum(), sep='\\n')\n",
    "\n",
    "train_features = train_df[features].dropna()\n",
    "train_target = train_features['rent']\n",
    "train_features = train_features.drop(labels='rent', axis=1)\n",
    "test_features = test_df[features]\n",
    "test_target = test_features['rent']\n",
    "test_features = test_features.drop(labels='rent', axis=1)"
   ]
  },
  {
   "cell_type": "code",
   "execution_count": 9,
   "metadata": {},
   "outputs": [
    {
     "name": "stdout",
     "output_type": "stream",
     "text": [
      "test2.csv NaNs:\n",
      "bedrooms                     0\n",
      "bathrooms                    0\n",
      "size_sqft                    0\n",
      "addr_zip                     0\n",
      "bin                          0\n",
      "bbl                          0\n",
      "floor_count                  0\n",
      "has_doorman                  0\n",
      "has_elevator                 0\n",
      "has_fireplace                0\n",
      "has_dishwasher               0\n",
      "is_furnished                 0\n",
      "has_gym                      0\n",
      "allows_pets                  0\n",
      "has_washer_dryer             0\n",
      "has_garage                   0\n",
      "has_roofdeck                 0\n",
      "has_concierge                0\n",
      "has_pool                     0\n",
      "precinct                     0\n",
      "petit_larceny                0\n",
      "harrassment_2                0\n",
      "assault_3                    0\n",
      "criminal_mischief            0\n",
      "grand_larceny                0\n",
      "public_order                 0\n",
      "felony_assault               0\n",
      "dangerous_drugs              0\n",
      "penal_law                    0\n",
      "robbery                      0\n",
      "burglary                     0\n",
      "misdemenor                   0\n",
      "felony                       0\n",
      "violation                    0\n",
      "has_garden                   0\n",
      "has_childrens_playroom       0\n",
      "Number of Incidents          0\n",
      "no_fee                       0\n",
      "rent                      2000\n",
      "dtype: int64\n"
     ]
    }
   ],
   "source": [
    "# Checking if there are any missing values for the features in the test2.csv set\n",
    "print('test2.csv NaNs:', submit1_df[features].isna().sum(), sep='\\n')"
   ]
  },
  {
   "cell_type": "code",
   "execution_count": 10,
   "metadata": {},
   "outputs": [
    {
     "name": "stdout",
     "output_type": "stream",
     "text": [
      "test3.csv NaNs:\n",
      "bedrooms                     0\n",
      "bathrooms                    0\n",
      "size_sqft                    0\n",
      "addr_zip                     0\n",
      "bin                          2\n",
      "bbl                          0\n",
      "floor_count                  0\n",
      "has_doorman                  0\n",
      "has_elevator                 0\n",
      "has_fireplace                0\n",
      "has_dishwasher               0\n",
      "is_furnished                 0\n",
      "has_gym                      0\n",
      "allows_pets                  0\n",
      "has_washer_dryer             0\n",
      "has_garage                   0\n",
      "has_roofdeck                 0\n",
      "has_concierge                0\n",
      "has_pool                     0\n",
      "precinct                     0\n",
      "petit_larceny                0\n",
      "harrassment_2                0\n",
      "assault_3                    0\n",
      "criminal_mischief            0\n",
      "grand_larceny                0\n",
      "public_order                 0\n",
      "felony_assault               0\n",
      "dangerous_drugs              0\n",
      "penal_law                    0\n",
      "robbery                      0\n",
      "burglary                     0\n",
      "misdemenor                   0\n",
      "felony                       0\n",
      "violation                    0\n",
      "has_garden                   0\n",
      "has_childrens_playroom       0\n",
      "Number of Incidents          0\n",
      "no_fee                       0\n",
      "rent                      2000\n",
      "dtype: int64\n"
     ]
    }
   ],
   "source": [
    "# Checking if there are any missing values for the features in the test2.csv set\n",
    "print('test3.csv NaNs:', submit2_df[features].isna().sum(), sep='\\n')"
   ]
  },
  {
   "cell_type": "code",
   "execution_count": 11,
   "metadata": {},
   "outputs": [
    {
     "data": {
      "text/plain": [
       "2"
      ]
     },
     "execution_count": 11,
     "metadata": {},
     "output_type": "execute_result"
    }
   ],
   "source": [
    "submit2_features = submit2_df[features].drop(labels='rent', axis=1)\n",
    "submit2_features.isnull().sum().sum()"
   ]
  },
  {
   "cell_type": "code",
   "execution_count": 12,
   "metadata": {},
   "outputs": [],
   "source": [
    "submit2_features['bin'].fillna(1000000.0, inplace = True)"
   ]
  },
  {
   "cell_type": "code",
   "execution_count": 13,
   "metadata": {},
   "outputs": [
    {
     "data": {
      "text/plain": [
       "0"
      ]
     },
     "execution_count": 13,
     "metadata": {},
     "output_type": "execute_result"
    }
   ],
   "source": [
    "submit2_features.isnull().sum().sum()"
   ]
  },
  {
   "cell_type": "code",
   "execution_count": 14,
   "metadata": {},
   "outputs": [
    {
     "data": {
      "text/html": [
       "<div>\n",
       "<style scoped>\n",
       "    .dataframe tbody tr th:only-of-type {\n",
       "        vertical-align: middle;\n",
       "    }\n",
       "\n",
       "    .dataframe tbody tr th {\n",
       "        vertical-align: top;\n",
       "    }\n",
       "\n",
       "    .dataframe thead th {\n",
       "        text-align: right;\n",
       "    }\n",
       "</style>\n",
       "<table border=\"1\" class=\"dataframe\">\n",
       "  <thead>\n",
       "    <tr style=\"text-align: right;\">\n",
       "      <th></th>\n",
       "      <th>bedrooms</th>\n",
       "      <th>bathrooms</th>\n",
       "      <th>size_sqft</th>\n",
       "      <th>addr_zip</th>\n",
       "      <th>bin</th>\n",
       "      <th>bbl</th>\n",
       "      <th>floor_count</th>\n",
       "      <th>has_doorman</th>\n",
       "      <th>has_elevator</th>\n",
       "      <th>has_fireplace</th>\n",
       "      <th>...</th>\n",
       "      <th>penal_law</th>\n",
       "      <th>robbery</th>\n",
       "      <th>burglary</th>\n",
       "      <th>misdemenor</th>\n",
       "      <th>felony</th>\n",
       "      <th>violation</th>\n",
       "      <th>has_garden</th>\n",
       "      <th>has_childrens_playroom</th>\n",
       "      <th>Number of Incidents</th>\n",
       "      <th>no_fee</th>\n",
       "    </tr>\n",
       "  </thead>\n",
       "  <tbody>\n",
       "  </tbody>\n",
       "</table>\n",
       "<p>0 rows × 38 columns</p>\n",
       "</div>"
      ],
      "text/plain": [
       "Empty DataFrame\n",
       "Columns: [bedrooms, bathrooms, size_sqft, addr_zip, bin, bbl, floor_count, has_doorman, has_elevator, has_fireplace, has_dishwasher, is_furnished, has_gym, allows_pets, has_washer_dryer, has_garage, has_roofdeck, has_concierge, has_pool, precinct, petit_larceny, harrassment_2, assault_3, criminal_mischief, grand_larceny, public_order, felony_assault, dangerous_drugs, penal_law, robbery, burglary, misdemenor, felony, violation, has_garden, has_childrens_playroom, Number of Incidents, no_fee]\n",
       "Index: []\n",
       "\n",
       "[0 rows x 38 columns]"
      ]
     },
     "execution_count": 14,
     "metadata": {},
     "output_type": "execute_result"
    }
   ],
   "source": [
    "# Checking if there is anymore null values\n",
    "submit2_features[submit2_features['bin'].isnull()]"
   ]
  },
  {
   "cell_type": "code",
   "execution_count": 15,
   "metadata": {},
   "outputs": [
    {
     "data": {
      "text/plain": [
       "<matplotlib.collections.PathCollection at 0x1a1740a630>"
      ]
     },
     "execution_count": 15,
     "metadata": {},
     "output_type": "execute_result"
    },
    {
     "data": {
      "image/png": "[encoded data removed]",
      "text/plain": [
       "<Figure size 432x288 with 1 Axes>"
      ]
     },
     "metadata": {},
     "output_type": "display_data"
    }
   ],
   "source": [
    "plt.scatter(test_df['bin'],test_df['bbl'])"
   ]
  },
  {
   "cell_type": "code",
   "execution_count": 16,
   "metadata": {},
   "outputs": [
    {
     "name": "stdout",
     "output_type": "stream",
     "text": [
      "Series([], Name: addr_zip, dtype: int64)\n",
      "Series([], Name: addr_zip, dtype: int64)\n",
      "Series([], Name: addr_zip, dtype: int64)\n"
     ]
    }
   ],
   "source": [
    "#zip codes missing from the join function will go back and add these.\n",
    "print(test_features.loc[test_features.precinct.isna(), 'addr_zip'])\n",
    "print(submit1_df.loc[submit1_df.precinct.isna(), 'addr_zip'])\n",
    "print(submit2_df.loc[submit2_df.precinct.isna(), 'addr_zip'])"
   ]
  },
  {
   "cell_type": "code",
   "execution_count": 17,
   "metadata": {},
   "outputs": [],
   "source": [
    "# fits estimator to training set and predicts on test1.csv features\n",
    "# prints out MSE of predictions against test1.csv\n",
    "# also calculates and prints std dev & mean of 5-fold CV  on training set\n",
    "def getResults(estimator):\n",
    "    estimator.fit(train_features, train_target)\n",
    "    test_pred = estimator.predict(test_features)\n",
    "    cv_results = cross_val_score(estimator, train_features, train_target, cv=5, scoring='neg_mean_squared_error')\n",
    "    print('Mean Squared Error: ', mean_squared_error(test_target, test_pred))\n",
    "    print(\"CV Results (Std Dev): \", np.std(cv_results))\n",
    "    print(\"CV Results (Mean): \", np.mean(cv_results))\n",
    "\n",
    "#To get the feature importances for linear regression scale the features and then use .coef_\n",
    "#importances for lr are in magnitude while others are in percentage\n",
    "#I haven't scaled the features so this code doesn't really tell you much\n",
    "def getSortedImportances(estimator):\n",
    "    temp = {}\n",
    "    importances = estimator.coef_ if isinstance(estimator, LinearRegression) else estimator.feature_importances_*100\n",
    "    print('\\nFeature Importances')\n",
    "    for i in range(len(importances)):\n",
    "        temp[features[i]] = importances[i]\n",
    "    \n",
    "    sorted_temp = sorted(temp, key=temp.get)\n",
    "    for feat in sorted_temp:\n",
    "        print(feat, temp[feat])"
   ]
  },
  {
   "cell_type": "code",
   "execution_count": 18,
   "metadata": {
    "scrolled": false
   },
   "outputs": [
    {
     "name": "stdout",
     "output_type": "stream",
     "text": [
      "\n",
      "Linear Regression\n",
      "Mean Squared Error:  3180974.0326844463\n",
      "CV Results (Std Dev):  679827.0580970801\n",
      "CV Results (Mean):  -3074207.55587814\n",
      "\n",
      "Feature Importances\n",
      "has_dishwasher -201.45611949343274\n",
      "no_fee -184.70792652842988\n",
      "has_garage -177.36064178166615\n",
      "violation -7.46239735702213\n",
      "criminal_mischief -4.007469564017826\n",
      "floor_count -3.427966302531502\n",
      "dangerous_drugs -3.2369487207513443\n",
      "public_order -2.7084714721029584\n",
      "petit_larceny -2.6198189200700637\n",
      "felony_assault -2.282409163731417\n",
      "assault_3 -1.9701966918918834\n",
      "precinct -0.5890077464422859\n",
      "addr_zip -0.45133221166897275\n",
      "grand_larceny -0.09614679657128693\n",
      "Number of Incidents -0.032036360523561916\n",
      "bbl -4.5001237797347044e-07\n",
      "bin 0.00016881680914659862\n",
      "felony 0.4637800835418419\n",
      "robbery 0.8026771959146077\n",
      "burglary 1.5190590925068435\n",
      "size_sqft 2.317322010644784\n",
      "misdemenor 2.8852000577551626\n",
      "penal_law 4.310844142614586\n",
      "harrassment_2 6.175463681200045\n",
      "has_garden 41.90215589665782\n",
      "has_doorman 73.55686333201551\n",
      "has_childrens_playroom 107.32828998183703\n",
      "has_roofdeck 188.18340964067087\n",
      "allows_pets 203.22504678840903\n",
      "has_concierge 206.33666301226796\n",
      "has_pool 218.43410583969919\n",
      "has_elevator 287.23296710080893\n",
      "bedrooms 299.2917502195645\n",
      "has_gym 331.72481264469974\n",
      "has_washer_dryer 402.3478578116302\n",
      "has_fireplace 531.8441537837766\n",
      "is_furnished 850.4989582439172\n",
      "bathrooms 1306.7980332051472\n",
      "\n",
      "Decision Tree Regressor\n",
      "Mean Squared Error:  2381518.072649305\n",
      "CV Results (Std Dev):  620339.8202761566\n",
      "CV Results (Mean):  -2374618.301775673\n",
      "\n",
      "Feature Importances\n",
      "felony 0.015572186918698811\n",
      "misdemenor 0.03794779955280654\n",
      "has_childrens_playroom 0.03881426164305435\n",
      "penal_law 0.039874472774790864\n",
      "has_pool 0.047338099110536554\n",
      "felony_assault 0.054862534904683916\n",
      "has_concierge 0.06276291121454769\n",
      "has_fireplace 0.07349651376100572\n",
      "has_garden 0.07538201899971053\n",
      "burglary 0.07951544413984526\n",
      "harrassment_2 0.08184018763180599\n",
      "petit_larceny 0.09859569130707829\n",
      "criminal_mischief 0.10174535514300953\n",
      "has_garage 0.10488539301848697\n",
      "is_furnished 0.10804324083137516\n",
      "allows_pets 0.13648268225604615\n",
      "assault_3 0.15873325505986136\n",
      "violation 0.2043524407943707\n",
      "dangerous_drugs 0.21968249413770868\n",
      "has_doorman 0.34137296996738\n",
      "has_elevator 0.368402094844479\n",
      "robbery 0.3849631796659626\n",
      "has_dishwasher 0.3929895721579299\n",
      "no_fee 0.41810481378162123\n",
      "addr_zip 0.4607947894014731\n",
      "has_roofdeck 0.4805804560882414\n",
      "has_washer_dryer 0.7665260037997912\n",
      "has_gym 1.0514834970224638\n",
      "bin 1.1010525954352015\n",
      "Number of Incidents 1.420491070401877\n",
      "floor_count 1.4241013189622902\n",
      "bedrooms 1.6588689351843604\n",
      "public_order 1.8196295324307346\n",
      "grand_larceny 2.2858720507064585\n",
      "precinct 2.703553415502187\n",
      "bathrooms 8.487916445208306\n",
      "bbl 12.400802002238995\n",
      "size_sqft 60.292568274000814\n",
      "\n",
      "Gradient Boosting Regressor\n",
      "Mean Squared Error:  1754133.4355266904\n",
      "CV Results (Std Dev):  261593.13342115039\n",
      "CV Results (Mean):  -1192069.0240111898\n",
      "\n",
      "Feature Importances\n",
      "has_fireplace 0.0\n",
      "has_garage 0.0\n",
      "burglary 0.029492931992884143\n",
      "harrassment_2 0.04458379814584005\n",
      "allows_pets 0.05900260291738555\n",
      "criminal_mischief 0.20313690950728652\n",
      "misdemenor 0.23854271672402247\n",
      "dangerous_drugs 0.24945675121663186\n",
      "has_childrens_playroom 0.2735295023802003\n",
      "has_pool 0.3394561265557178\n",
      "assault_3 0.3488036795160826\n",
      "felony_assault 0.4648390967559462\n",
      "violation 0.4986325134569318\n",
      "has_roofdeck 0.5723347688526228\n",
      "has_doorman 0.6225953724310846\n",
      "no_fee 0.6829446562980429\n",
      "has_garden 0.8109141143269072\n",
      "penal_law 0.8153463803053419\n",
      "petit_larceny 0.8916838673866467\n",
      "has_dishwasher 0.9062739402642971\n",
      "felony 0.9588081917485216\n",
      "has_washer_dryer 0.9981527186126724\n",
      "has_concierge 1.1032995642430725\n",
      "has_elevator 1.1611030673224365\n",
      "grand_larceny 1.211701043005909\n",
      "has_gym 1.2658425702283491\n",
      "public_order 1.3747199090404236\n",
      "robbery 1.4361796703343248\n",
      "is_furnished 1.8349276323268227\n",
      "floor_count 2.5452193384508046\n",
      "precinct 2.8659585752975634\n",
      "Number of Incidents 3.740968895813567\n",
      "addr_zip 4.065197691667311\n",
      "bin 4.911844742596666\n",
      "bedrooms 5.779959076583235\n",
      "bathrooms 6.29685900667999\n",
      "bbl 9.900977997903434\n",
      "size_sqft 40.49671057911102\n",
      "\n",
      "Random Forest Regressor\n",
      "Mean Squared Error:  1698457.1025115123\n",
      "CV Results (Std Dev):  244487.12720912055\n",
      "CV Results (Mean):  -1262775.219521317\n",
      "\n",
      "Feature Importances\n",
      "assault_3 0.0791772663132606\n",
      "criminal_mischief 0.10470282386779228\n",
      "has_garage 0.10565667315669594\n",
      "burglary 0.11112744114042689\n",
      "has_fireplace 0.12511356903437118\n",
      "harrassment_2 0.13295722785385022\n",
      "felony 0.1403712328526667\n",
      "has_childrens_playroom 0.1598927297166702\n",
      "has_garden 0.17210519712078862\n",
      "violation 0.17647561520112792\n",
      "has_pool 0.19422922125843997\n",
      "allows_pets 0.21824403738451872\n",
      "is_furnished 0.22806269096278714\n",
      "petit_larceny 0.25108946857763903\n",
      "has_concierge 0.2734564309052083\n",
      "felony_assault 0.27446559484379424\n",
      "dangerous_drugs 0.3315960429878331\n",
      "robbery 0.334814563685014\n",
      "penal_law 0.35260745426927165\n",
      "has_elevator 0.38386012024137656\n",
      "has_roofdeck 0.38686700334506857\n",
      "has_doorman 0.3952713381484516\n",
      "no_fee 0.4342151153307019\n",
      "has_washer_dryer 0.4404878146812901\n",
      "misdemenor 0.5259397648858405\n",
      "has_gym 0.5291356995398186\n",
      "has_dishwasher 0.567214621299925\n",
      "public_order 0.6484555143230541\n",
      "grand_larceny 0.7867187227945974\n",
      "Number of Incidents 0.8487846173450331\n",
      "bin 1.2533255508310879\n",
      "addr_zip 1.3487150303608235\n",
      "bedrooms 1.546283784160522\n",
      "floor_count 1.9355750977214574\n",
      "precinct 4.972863114481788\n",
      "bbl 11.008104735651099\n",
      "bathrooms 12.724070378086202\n",
      "size_sqft 55.49796669563971\n"
     ]
    }
   ],
   "source": [
    "lr = LinearRegression()\n",
    "dt = DecisionTreeRegressor()\n",
    "gb = GradientBoostingRegressor()\n",
    "rf = RandomForestRegressor()\n",
    "\n",
    "names = ['\\nLinear Regression', '\\nDecision Tree Regressor', '\\nGradient Boosting Regressor', '\\nRandom Forest Regressor']\n",
    "estimators = [lr, dt, gb, rf]\n",
    "\n",
    "for i in range(len(names)):\n",
    "    print(names[i])\n",
    "    getResults(estimators[i])\n",
    "    getSortedImportances(estimators[i])"
   ]
  },
  {
   "cell_type": "markdown",
   "metadata": {},
   "source": [
    "GradientBoostingRegressor or RandomForestRegressor seems to give us the best score so far, further testing with hyperparameters is needed"
   ]
  },
  {
   "cell_type": "code",
   "execution_count": 19,
   "metadata": {},
   "outputs": [],
   "source": [
    "def testHyperparameter(param_grid):\n",
    "    results = {}\n",
    "    hp_name = list(param_grid.keys())[0]\n",
    "    hp_values = list(param_grid.values())[0]\n",
    "    \n",
    "    # Create decision tree model and tune hyperparameter using GridSearchCV\n",
    "    decision_tree = DecisionTreeRegressor()\n",
    "    dt_cv = GridSearchCV(dt, param_grid, cv=5)\n",
    "    dt_cv.fit(train_features, train_target)\n",
    "    results['best_param'] = dt_cv.best_params_\n",
    "    results['best_score'] = dt_cv.best_score_\n",
    "    \n",
    "    # Grab mean test/train score of 5 splits\n",
    "    mean_test = dt_cv.cv_results_['mean_test_score']\n",
    "    mean_train = dt_cv.cv_results_['mean_train_score']\n",
    "\n",
    "    # Plot mean test/train AUC score against hyperparameter values\n",
    "    line1, = plt.plot(hp_values, mean_test, 'b', label='Test AUC')\n",
    "    line2, = plt.plot(hp_values, mean_train, 'r', label='Train AUC')\n",
    "    plt.legend(handler_map={line1: HandlerLine2D(numpoints=2)})\n",
    "    plt.ylabel('AUC Score')\n",
    "    plt.xlabel(hp_name)\n",
    "    plt.show()\n",
    "    \n",
    "    print(results)"
   ]
  },
  {
   "cell_type": "code",
   "execution_count": 20,
   "metadata": {},
   "outputs": [
    {
     "name": "stderr",
     "output_type": "stream",
     "text": [
      "/anaconda3/lib/python3.6/site-packages/sklearn/utils/deprecation.py:122: FutureWarning: You are accessing a training score ('mean_train_score'), which will not be available by default any more in 0.21. If you need training scores, please set return_train_score=True\n",
      "  warnings.warn(*warn_args, **warn_kwargs)\n"
     ]
    },
    {
     "data": {
      "image/png": "[encoded data removed]",
      "text/plain": [
       "<Figure size 432x288 with 1 Axes>"
      ]
     },
     "metadata": {},
     "output_type": "display_data"
    },
    {
     "name": "stdout",
     "output_type": "stream",
     "text": [
      "{'best_param': {'max_depth': 7}, 'best_score': 0.7722961918690597}\n"
     ]
    },
    {
     "name": "stderr",
     "output_type": "stream",
     "text": [
      "/anaconda3/lib/python3.6/site-packages/sklearn/utils/deprecation.py:122: FutureWarning: You are accessing a training score ('mean_train_score'), which will not be available by default any more in 0.21. If you need training scores, please set return_train_score=True\n",
      "  warnings.warn(*warn_args, **warn_kwargs)\n"
     ]
    },
    {
     "data": {
      "image/png": "[encoded data removed]",
      "text/plain": [
       "<Figure size 432x288 with 1 Axes>"
      ]
     },
     "metadata": {},
     "output_type": "display_data"
    },
    {
     "name": "stdout",
     "output_type": "stream",
     "text": [
      "{'best_param': {'min_samples_split': 0.1}, 'best_score': 0.5724558715766266}\n"
     ]
    },
    {
     "name": "stderr",
     "output_type": "stream",
     "text": [
      "/anaconda3/lib/python3.6/site-packages/sklearn/utils/deprecation.py:122: FutureWarning: You are accessing a training score ('mean_train_score'), which will not be available by default any more in 0.21. If you need training scores, please set return_train_score=True\n",
      "  warnings.warn(*warn_args, **warn_kwargs)\n"
     ]
    },
    {
     "data": {
      "image/png": "[encoded data removed]",
      "text/plain": [
       "<Figure size 432x288 with 1 Axes>"
      ]
     },
     "metadata": {},
     "output_type": "display_data"
    },
    {
     "name": "stdout",
     "output_type": "stream",
     "text": [
      "{'best_param': {'min_samples_leaf': 0.1}, 'best_score': 0.4093181603119941}\n"
     ]
    },
    {
     "name": "stderr",
     "output_type": "stream",
     "text": [
      "/anaconda3/lib/python3.6/site-packages/sklearn/utils/deprecation.py:122: FutureWarning: You are accessing a training score ('mean_train_score'), which will not be available by default any more in 0.21. If you need training scores, please set return_train_score=True\n",
      "  warnings.warn(*warn_args, **warn_kwargs)\n"
     ]
    },
    {
     "data": {
      "image/png": "[encoded data removed]",
      "text/plain": [
       "<Figure size 432x288 with 1 Axes>"
      ]
     },
     "metadata": {},
     "output_type": "display_data"
    },
    {
     "name": "stdout",
     "output_type": "stream",
     "text": [
      "{'best_param': {'max_features': 21}, 'best_score': 0.7709948963361108}\n"
     ]
    }
   ],
   "source": [
    "# Tuning individual hyperparameters for decision tree regressor \n",
    "param_grids = []\n",
    "\n",
    "# Hyperparameter 1: max_depth -> indicates depth of tree; \n",
    "# Testing range of 1 to 32\n",
    "max_depth_values = np.arange(1, 33)\n",
    "param_grids.append({'max_depth': max_depth_values})\n",
    "\n",
    "# Hyperparameter 2: min_samples_split <- minimum number of samples required to split a node\n",
    "# Testing range from 10% to 100%\n",
    "min_samples_split = np.linspace(0.1, 1.0, 10, endpoint=True)\n",
    "param_grids.append({'min_samples_split': min_samples_split})\n",
    "\n",
    "# Hyperparameter 3: min_samples_leaf <- minimum number of samples required at each leaf node\n",
    "# Testing range from 10% to 50%\n",
    "min_samples_leaf = np.linspace(0.1, 0.5, 10, endpoint=True)\n",
    "param_grids.append({'min_samples_leaf': min_samples_leaf})\n",
    "\n",
    "# Hyperparameter 4: max_features <- max number of features to test\n",
    "# Testing range from 1 to 1 less than the number of features in the df\n",
    "max_features = list(range(1,train_features.shape[1]))\n",
    "param_grids.append({'max_features': max_features})\n",
    "\n",
    "for hyperparameter in param_grids:\n",
    "    testHyperparameter(hyperparameter)\n"
   ]
  },
  {
   "cell_type": "code",
   "execution_count": 21,
   "metadata": {},
   "outputs": [
    {
     "name": "stdout",
     "output_type": "stream",
     "text": [
      "{'min_samples_split': 40, 'min_samples_leaf': 20, 'max_leaf_nodes': 500, 'max_depth': 15}\n",
      "0.7725451228404697\n",
      "DecisionTreeRegressor(criterion='mse', max_depth=15, max_features=None,\n",
      "           max_leaf_nodes=500, min_impurity_decrease=0.0,\n",
      "           min_impurity_split=None, min_samples_leaf=20,\n",
      "           min_samples_split=40, min_weight_fraction_leaf=0.0,\n",
      "           presort=False, random_state=None, splitter='best')\n"
     ]
    }
   ],
   "source": [
    "# Testing all 4 hyperparameters together to find the best combination\n",
    "param_grid = {\n",
    "              \"min_samples_split\": [10, 20, 40, 80, 160],\n",
    "              \"max_depth\": [2, 6, 8, 10, 15, 20, 30, 40, 50],\n",
    "              \"min_samples_leaf\": [20, 40, 100, 200, 400],\n",
    "              \"max_leaf_nodes\": [5, 20, 100, 200, 500]\n",
    "              }\n",
    "\n",
    "dtr = DecisionTreeRegressor()\n",
    "dtr_cv = RandomizedSearchCV(dtr, param_grid, cv=5, n_iter = 1000, n_jobs=-1)\n",
    "dtr_cv.fit(train_features, train_target)\n",
    "print(dtr_cv.best_params_)\n",
    "print(dtr_cv.best_score_)\n",
    "print(dtr_cv.best_estimator_)"
   ]
  },
  {
   "cell_type": "code",
   "execution_count": 22,
   "metadata": {},
   "outputs": [
    {
     "name": "stdout",
     "output_type": "stream",
     "text": [
      "DecisionTreeRegressor\n",
      "Mean Squared Error:  2507707.486739548\n",
      "CV Results:  [-2075580.4340948  -1979068.06881676 -2353347.85778853 -1512113.90860032\n",
      " -1498022.4125161 ]\n",
      "Mean CV Results:  -1883626.5363633025\n"
     ]
    }
   ],
   "source": [
    "# Results of predicting rent on test set using optimized decision tree\n",
    "optimized_dt = dtr_cv.best_estimator_\n",
    "test_pred = optimized_dt.predict(test_features)\n",
    "cv_results = cross_val_score(optimized_dt, train_features, train_target, cv=5, scoring = 'neg_mean_squared_error')\n",
    "print('DecisionTreeRegressor')\n",
    "print('Mean Squared Error: ', mean_squared_error(test_target, test_pred))\n",
    "print(\"CV Results: \", cv_results)\n",
    "print(\"Mean CV Results: \", np.mean(cv_results))"
   ]
  },
  {
   "cell_type": "code",
   "execution_count": 23,
   "metadata": {},
   "outputs": [
    {
     "name": "stdout",
     "output_type": "stream",
     "text": [
      "{'bootstrap': True,\n",
      " 'criterion': 'mse',\n",
      " 'max_depth': None,\n",
      " 'max_features': 'auto',\n",
      " 'max_leaf_nodes': None,\n",
      " 'min_impurity_decrease': 0.0,\n",
      " 'min_impurity_split': None,\n",
      " 'min_samples_leaf': 1,\n",
      " 'min_samples_split': 2,\n",
      " 'min_weight_fraction_leaf': 0.0,\n",
      " 'n_estimators': 10,\n",
      " 'n_jobs': 1,\n",
      " 'oob_score': False,\n",
      " 'random_state': 42,\n",
      " 'verbose': 0,\n",
      " 'warm_start': False}\n"
     ]
    }
   ],
   "source": [
    "rf = RandomForestRegressor(random_state = 42)\n",
    "\n",
    "# not too important to care about. just wanted to see parameters inside\n",
    "from pprint import pprint\n",
    "\n",
    "pprint(rf.get_params())"
   ]
  },
  {
   "cell_type": "code",
   "execution_count": 24,
   "metadata": {},
   "outputs": [
    {
     "name": "stdout",
     "output_type": "stream",
     "text": [
      "{'bootstrap': [True, False],\n",
      " 'max_depth': [10, 20, 30, 40, 50, 60, 70, 80, 90, 100, None],\n",
      " 'max_features': ['auto', 'sqrt'],\n",
      " 'min_samples_leaf': [1, 2, 4, 8, 16, 32],\n",
      " 'min_samples_split': [2, 5, 10, 20, 50],\n",
      " 'n_estimators': [100, 200, 300, 400, 500, 600, 700, 800, 900, 1000]}\n"
     ]
    }
   ],
   "source": [
    "# Number of trees in random forest\n",
    "n_estimators = [int(x) for x in np.linspace(start = 100, stop = 1000, num = 10)]\n",
    "# Number of features to consider at every split\n",
    "max_features = ['auto', 'sqrt']\n",
    "# Maximum number of levels in tree\n",
    "max_depth = [int(x) for x in np.linspace(10, 100, num = 10)]\n",
    "max_depth.append(None)\n",
    "# Minimum number of samples required to split a node\n",
    "min_samples_split = [2, 5, 10, 20, 50]\n",
    "# Minimum number of samples required at each leaf node\n",
    "min_samples_leaf = [1, 2, 4, 8, 16, 32]\n",
    "# Method of selecting samples for training each tree\n",
    "bootstrap = [True, False]\n",
    "# Create the random grid\n",
    "random_grid = {'n_estimators': n_estimators,\n",
    "               'max_features': max_features,\n",
    "               'max_depth': max_depth,\n",
    "               'min_samples_split': min_samples_split,\n",
    "               'min_samples_leaf': min_samples_leaf,\n",
    "               'bootstrap': bootstrap}\n",
    "pprint(random_grid)"
   ]
  },
  {
   "cell_type": "code",
   "execution_count": 25,
   "metadata": {},
   "outputs": [
    {
     "data": {
      "text/plain": [
       "RandomizedSearchCV(cv=5, error_score='raise',\n",
       "          estimator=RandomForestRegressor(bootstrap=True, criterion='mse', max_depth=None,\n",
       "           max_features='auto', max_leaf_nodes=None,\n",
       "           min_impurity_decrease=0.0, min_impurity_split=None,\n",
       "           min_samples_leaf=1, min_samples_split=2,\n",
       "           min_weight_fraction_leaf=0.0, n_estimators=10, n_jobs=1,\n",
       "           oob_score=False, random_state=42, verbose=0, warm_start=False),\n",
       "          fit_params=None, iid=True, n_iter=50, n_jobs=-1,\n",
       "          param_distributions={'n_estimators': [100, 200, 300, 400, 500, 600, 700, 800, 900, 1000], 'max_features': ['auto', 'sqrt'], 'max_depth': [10, 20, 30, 40, 50, 60, 70, 80, 90, 100, None], 'min_samples_split': [2, 5, 10, 20, 50], 'min_samples_leaf': [1, 2, 4, 8, 16, 32], 'bootstrap': [True, False]},\n",
       "          pre_dispatch='2*n_jobs', random_state=42, refit=True,\n",
       "          return_train_score='warn', scoring=None, verbose=0)"
      ]
     },
     "execution_count": 25,
     "metadata": {},
     "output_type": "execute_result"
    }
   ],
   "source": [
    "#Random Search Training\n",
    "rf_random = RandomizedSearchCV(estimator = rf, param_distributions = random_grid, n_iter = 50,\n",
    "                              cv = 5, random_state = 42, n_jobs = -1)\n",
    "\n",
    "rf_random.fit(train_features, train_target)"
   ]
  },
  {
   "cell_type": "code",
   "execution_count": 26,
   "metadata": {},
   "outputs": [
    {
     "data": {
      "text/plain": [
       "{'n_estimators': 1000,\n",
       " 'min_samples_split': 2,\n",
       " 'min_samples_leaf': 1,\n",
       " 'max_features': 'sqrt',\n",
       " 'max_depth': 100,\n",
       " 'bootstrap': False}"
      ]
     },
     "execution_count": 26,
     "metadata": {},
     "output_type": "execute_result"
    }
   ],
   "source": [
    "rf_random.best_params_"
   ]
  },
  {
   "cell_type": "markdown",
   "metadata": {},
   "source": [
    "Now testing optimized random forest"
   ]
  },
  {
   "cell_type": "code",
   "execution_count": 27,
   "metadata": {},
   "outputs": [
    {
     "name": "stdout",
     "output_type": "stream",
     "text": [
      "Mean Squared Error:  1586388.552746519\n",
      "CV Results:  [-1515635.88055833  -856575.90502244 -1332955.32332935 -1104392.99107467\n",
      "  -569955.98110241]\n",
      "Mean CV Results:  -1075903.2162174385\n"
     ]
    }
   ],
   "source": [
    "optimized_rf =  rf_random.best_estimator_\n",
    "test_pred = optimized_rf.predict(test_features)\n",
    "cv_results = cross_val_score(optimized_rf, train_features, train_target, cv=5, scoring = 'neg_mean_squared_error')\n",
    "print('Mean Squared Error: ', mean_squared_error(test_target, test_pred))\n",
    "print(\"CV Results: \", cv_results)\n",
    "print(\"Mean CV Results: \", np.mean(cv_results))\n",
    "\n",
    "#Mean Squared Error slightly decreases."
   ]
  },
  {
   "cell_type": "code",
   "execution_count": 28,
   "metadata": {},
   "outputs": [
    {
     "data": {
      "text/plain": [
       "array([ 2581.231     ,  2115.0815    ,  2933.0955    , ...,\n",
       "       14966.431     ,  3594.32      ,  2835.44166667])"
      ]
     },
     "execution_count": 28,
     "metadata": {},
     "output_type": "execute_result"
    }
   ],
   "source": [
    "test_pred"
   ]
  },
  {
   "cell_type": "code",
   "execution_count": 29,
   "metadata": {},
   "outputs": [
    {
     "name": "stdout",
     "output_type": "stream",
     "text": [
      "0           #1B\n",
      "1           #C4\n",
      "2       #GARDEN\n",
      "3           #2C\n",
      "4            #9\n",
      "5        #APT3F\n",
      "6           NaN\n",
      "7          #33C\n",
      "8           #18\n",
      "9           #C1\n",
      "10      3-FLOOR\n",
      "11           #7\n",
      "12          #2L\n",
      "13          #2K\n",
      "14           #2\n",
      "15          #15\n",
      "16         #417\n",
      "17        #104B\n",
      "18           #A\n",
      "19          #4A\n",
      "20          #2B\n",
      "21           #2\n",
      "22         #11E\n",
      "23      #PARLOR\n",
      "24         #44B\n",
      "25          #2B\n",
      "26          #2L\n",
      "27          #7O\n",
      "28           #1\n",
      "29          #8E\n",
      "         ...   \n",
      "1970       #204\n",
      "1971       #C32\n",
      "1972       #35E\n",
      "1973        #10\n",
      "1974       #PHD\n",
      "1975        #3E\n",
      "1976         #2\n",
      "1977       #C47\n",
      "1978       #E13\n",
      "1979       #10D\n",
      "1980        #4F\n",
      "1981        #2D\n",
      "1982        #A2\n",
      "1983        #8A\n",
      "1984        #4B\n",
      "1985        #4C\n",
      "1986        #5N\n",
      "1987        #3A\n",
      "1988        #1E\n",
      "1989         #B\n",
      "1990         #2\n",
      "1991      #305R\n",
      "1992       #12R\n",
      "1993         #3\n",
      "1994       #5CC\n",
      "1995        #4H\n",
      "1996       #11K\n",
      "1997       #44A\n",
      "1998       #15M\n",
      "1999         #3\n",
      "Name: addr_unit, Length: 2000, dtype: object\n"
     ]
    }
   ],
   "source": [
    "test_rental_id = test_df.iloc[:,0]\n",
    "print(test_rental_id)"
   ]
  },
  {
   "cell_type": "code",
   "execution_count": 30,
   "metadata": {},
   "outputs": [
    {
     "data": {
      "text/plain": [
       "0"
      ]
     },
     "execution_count": 30,
     "metadata": {},
     "output_type": "execute_result"
    }
   ],
   "source": [
    "# checking for any missing values in test3.csv\n",
    "submit2_features.isnull().sum().sum()"
   ]
  },
  {
   "cell_type": "code",
   "execution_count": 31,
   "metadata": {},
   "outputs": [
    {
     "data": {
      "text/html": [
       "<div>\n",
       "<style scoped>\n",
       "    .dataframe tbody tr th:only-of-type {\n",
       "        vertical-align: middle;\n",
       "    }\n",
       "\n",
       "    .dataframe tbody tr th {\n",
       "        vertical-align: top;\n",
       "    }\n",
       "\n",
       "    .dataframe thead th {\n",
       "        text-align: right;\n",
       "    }\n",
       "</style>\n",
       "<table border=\"1\" class=\"dataframe\">\n",
       "  <thead>\n",
       "    <tr style=\"text-align: right;\">\n",
       "      <th></th>\n",
       "      <th>bedrooms</th>\n",
       "      <th>bathrooms</th>\n",
       "      <th>size_sqft</th>\n",
       "      <th>addr_zip</th>\n",
       "      <th>bin</th>\n",
       "      <th>bbl</th>\n",
       "      <th>floor_count</th>\n",
       "      <th>has_doorman</th>\n",
       "      <th>has_elevator</th>\n",
       "      <th>has_fireplace</th>\n",
       "      <th>...</th>\n",
       "      <th>penal_law</th>\n",
       "      <th>robbery</th>\n",
       "      <th>burglary</th>\n",
       "      <th>misdemenor</th>\n",
       "      <th>felony</th>\n",
       "      <th>violation</th>\n",
       "      <th>has_garden</th>\n",
       "      <th>has_childrens_playroom</th>\n",
       "      <th>Number of Incidents</th>\n",
       "      <th>no_fee</th>\n",
       "    </tr>\n",
       "  </thead>\n",
       "  <tbody>\n",
       "  </tbody>\n",
       "</table>\n",
       "<p>0 rows × 38 columns</p>\n",
       "</div>"
      ],
      "text/plain": [
       "Empty DataFrame\n",
       "Columns: [bedrooms, bathrooms, size_sqft, addr_zip, bin, bbl, floor_count, has_doorman, has_elevator, has_fireplace, has_dishwasher, is_furnished, has_gym, allows_pets, has_washer_dryer, has_garage, has_roofdeck, has_concierge, has_pool, precinct, petit_larceny, harrassment_2, assault_3, criminal_mischief, grand_larceny, public_order, felony_assault, dangerous_drugs, penal_law, robbery, burglary, misdemenor, felony, violation, has_garden, has_childrens_playroom, Number of Incidents, no_fee]\n",
       "Index: []\n",
       "\n",
       "[0 rows x 38 columns]"
      ]
     },
     "execution_count": 31,
     "metadata": {},
     "output_type": "execute_result"
    }
   ],
   "source": [
    "submit2_features[submit2_features['bin'].isnull()]"
   ]
  },
  {
   "cell_type": "code",
   "execution_count": 32,
   "metadata": {},
   "outputs": [
    {
     "name": "stdout",
     "output_type": "stream",
     "text": [
      "0.9982678928817742\n"
     ]
    }
   ],
   "source": [
    "print(optimized_rf.score(train_features, train_target))"
   ]
  },
  {
   "cell_type": "code",
   "execution_count": 33,
   "metadata": {},
   "outputs": [],
   "source": [
    "# Create submission file for test2.csv (Commented out so the .csv doesn't get overwritten)\n",
    "#submit1_df['predictions'] = optimized_rf.predict(submit1_features)\n",
    "#submit1_df['predictions'].to_csv('test2_submission.csv', header=True)"
   ]
  },
  {
   "cell_type": "code",
   "execution_count": 35,
   "metadata": {},
   "outputs": [
    {
     "name": "stdout",
     "output_type": "stream",
     "text": [
      "\n",
      "Feature Importances\n",
      "has_garage 0.2153304136345354\n",
      "has_childrens_playroom 0.3725145304882332\n",
      "has_fireplace 0.3789807657723587\n",
      "has_pool 0.3838676309700689\n",
      "felony 0.3897722199052764\n",
      "violation 0.3917118870754302\n",
      "allows_pets 0.42033965236748566\n",
      "public_order 0.42318352570528667\n",
      "harrassment_2 0.4365809812373735\n",
      "misdemenor 0.4391827265023043\n",
      "burglary 0.4426351576167055\n",
      "assault_3 0.5212522872866683\n",
      "dangerous_drugs 0.5837657386867624\n",
      "has_roofdeck 0.5955063951093197\n",
      "is_furnished 0.612865108007962\n",
      "petit_larceny 0.6347341903296592\n",
      "robbery 0.6770552218628959\n",
      "has_garden 0.6829348194696155\n",
      "has_concierge 0.7098265664979364\n",
      "has_elevator 0.7201213878638648\n",
      "has_gym 0.731717102695665\n",
      "has_doorman 0.7444095630821115\n",
      "felony_assault 0.7505653270032535\n",
      "has_dishwasher 0.8842519764552331\n",
      "criminal_mischief 0.8855583111263523\n",
      "no_fee 1.0129609782538544\n",
      "Number of Incidents 1.3978557853999294\n",
      "grand_larceny 1.4118870467704607\n",
      "penal_law 1.6553284684070955\n",
      "floor_count 2.5117456908884606\n",
      "addr_zip 3.1219921771479586\n",
      "precinct 3.3277617967442925\n",
      "has_washer_dryer 3.376902441669069\n",
      "bin 3.919262930666855\n",
      "bbl 6.4374690545135325\n",
      "bedrooms 8.075617862824675\n",
      "bathrooms 20.233043237023743\n",
      "size_sqft 29.489509042937755\n"
     ]
    }
   ],
   "source": [
    "# Checking feature importance for optimized random forest\n",
    "getSortedImportances(optimized_rf)"
   ]
  },
  {
   "cell_type": "code",
   "execution_count": 36,
   "metadata": {},
   "outputs": [
    {
     "name": "stdout",
     "output_type": "stream",
     "text": [
      "{'alpha': 0.9,\n",
      " 'criterion': 'friedman_mse',\n",
      " 'init': None,\n",
      " 'learning_rate': 0.1,\n",
      " 'loss': 'ls',\n",
      " 'max_depth': 3,\n",
      " 'max_features': None,\n",
      " 'max_leaf_nodes': None,\n",
      " 'min_impurity_decrease': 0.0,\n",
      " 'min_impurity_split': None,\n",
      " 'min_samples_leaf': 1,\n",
      " 'min_samples_split': 2,\n",
      " 'min_weight_fraction_leaf': 0.0,\n",
      " 'n_estimators': 100,\n",
      " 'presort': 'auto',\n",
      " 'random_state': 42,\n",
      " 'subsample': 1.0,\n",
      " 'verbose': 0,\n",
      " 'warm_start': False}\n"
     ]
    }
   ],
   "source": [
    "gb = GradientBoostingRegressor(n_estimators=100, random_state=42)\n",
    "\n",
    "# not too important to care about. just wanted to see parameters inside\n",
    "from pprint import pprint\n",
    "\n",
    "pprint(gb.get_params())"
   ]
  },
  {
   "cell_type": "code",
   "execution_count": 37,
   "metadata": {},
   "outputs": [
    {
     "name": "stdout",
     "output_type": "stream",
     "text": [
      "Mean Squared Error:  1754816.4661056257\n",
      "CV Results:  [-1311875.49959971 -1129005.24136111 -1471949.9249243  -1228566.8290144\n",
      "  -721664.13634098]\n",
      "Mean CV Results:  -1172612.3262480982\n"
     ]
    }
   ],
   "source": [
    "# Testing generic gradient boosting regressor again\n",
    "gb.fit(train_features, train_target)\n",
    "test_pred = gb.predict(test_features)\n",
    "cv_results = cross_val_score(gb, train_features, train_target, cv=5, scoring = 'neg_mean_squared_error')\n",
    "print('Mean Squared Error: ', mean_squared_error(test_target, test_pred))\n",
    "print(\"CV Results: \", cv_results)\n",
    "print(\"Mean CV Results: \", np.mean(cv_results))"
   ]
  },
  {
   "cell_type": "code",
   "execution_count": 38,
   "metadata": {},
   "outputs": [
    {
     "name": "stdout",
     "output_type": "stream",
     "text": [
      "R-squared for Train: 0.91\n",
      "R-squared for Test: 0.76\n"
     ]
    }
   ],
   "source": [
    "# Using the R-squared value allows us to see how much of the variance in the data our model is explains.\n",
    "print(\"R-squared for Train: %.2f\" %gb.score(train_features, train_target))\n",
    "print(\"R-squared for Test: %.2f\" %gb.score(test_features, test_target))"
   ]
  },
  {
   "cell_type": "code",
   "execution_count": 39,
   "metadata": {},
   "outputs": [
    {
     "name": "stdout",
     "output_type": "stream",
     "text": [
      "{'learning_rate': [0.1, 0.05, 0.02, 0.01],\n",
      " 'max_depth': [2, 4, 6, 8, 10],\n",
      " 'max_features': [1.0, 0.5, 0.3, 0.1, 0.01, 0.001],\n",
      " 'min_samples_leaf': [3, 5, 7, 9, 15, 20],\n",
      " 'n_estimators': [100, 200, 300, 400, 500]}\n"
     ]
    }
   ],
   "source": [
    "# Number of trees to be modeled \n",
    "n_estimators = [100, 200, 300, 400, 500]\n",
    "    \n",
    "# Number of features to consider when searching for a best split\n",
    "max_features = [1.0, 0.5, 0.3, 0.1, 0.01, 0.001]\n",
    "\n",
    "# Represents the impact of each tree \n",
    "learning_rate = [0.1, 0.05, 0.02, 0.01]\n",
    "    \n",
    "# Maximum number of levels in tree\n",
    "max_depth = [2, 4, 6, 8, 10]\n",
    "    \n",
    "# Minimum number of samples required at each leaf node\n",
    "min_samples_leaf = [3, 5, 7, 9, 15, 20]\n",
    "    \n",
    "# Create the random grid\n",
    "random_grid = {'n_estimators': n_estimators,\n",
    "               'max_features': max_features,\n",
    "               'learning_rate': learning_rate,\n",
    "               'max_depth': max_depth,\n",
    "               'min_samples_leaf': min_samples_leaf}\n",
    "pprint(random_grid)"
   ]
  },
  {
   "cell_type": "code",
   "execution_count": 40,
   "metadata": {},
   "outputs": [
    {
     "data": {
      "text/plain": [
       "RandomizedSearchCV(cv=5, error_score='raise',\n",
       "          estimator=GradientBoostingRegressor(alpha=0.9, criterion='friedman_mse', init=None,\n",
       "             learning_rate=0.1, loss='ls', max_depth=3, max_features=None,\n",
       "             max_leaf_nodes=None, min_impurity_decrease=0.0,\n",
       "             min_impurity_split=None, min_samples_leaf=1,\n",
       "             min_samples_split=2, min_weight_fraction_leaf=0.0,\n",
       "             n_estimators=100, presort='auto', random_state=42,\n",
       "             subsample=1.0, verbose=0, warm_start=False),\n",
       "          fit_params=None, iid=True, n_iter=50, n_jobs=-1,\n",
       "          param_distributions={'n_estimators': [100, 200, 300, 400, 500], 'max_features': [1.0, 0.5, 0.3, 0.1, 0.01, 0.001], 'learning_rate': [0.1, 0.05, 0.02, 0.01], 'max_depth': [2, 4, 6, 8, 10], 'min_samples_leaf': [3, 5, 7, 9, 15, 20]},\n",
       "          pre_dispatch='2*n_jobs', random_state=42, refit=True,\n",
       "          return_train_score='warn', scoring=None, verbose=0)"
      ]
     },
     "execution_count": 40,
     "metadata": {},
     "output_type": "execute_result"
    }
   ],
   "source": [
    "# Random Search Training for Gradient Boosting \n",
    "gb_random = RandomizedSearchCV(estimator = gb, param_distributions = random_grid, n_iter = 50,\n",
    "                              cv = 5, random_state = 42, n_jobs = -1)\n",
    "\n",
    "gb_random.fit(train_features, train_target)"
   ]
  },
  {
   "cell_type": "code",
   "execution_count": 41,
   "metadata": {},
   "outputs": [
    {
     "data": {
      "text/plain": [
       "{'n_estimators': 500,\n",
       " 'min_samples_leaf': 9,\n",
       " 'max_features': 0.3,\n",
       " 'max_depth': 6,\n",
       " 'learning_rate': 0.1}"
      ]
     },
     "execution_count": 41,
     "metadata": {},
     "output_type": "execute_result"
    }
   ],
   "source": [
    "gb_random.best_params_"
   ]
  },
  {
   "cell_type": "code",
   "execution_count": 42,
   "metadata": {},
   "outputs": [
    {
     "name": "stdout",
     "output_type": "stream",
     "text": [
      "Mean Squared Error:  1547240.4759733272\n",
      "CV Results:  [-1181686.11558674  -854826.85204851 -1233221.31690111  -936689.74052743\n",
      "  -631818.60970598]\n",
      "Mean CV Results:  -967648.526953953\n"
     ]
    }
   ],
   "source": [
    "optimized_gb =  gb_random.best_estimator_\n",
    "test_pred = optimized_gb.predict(test_features)\n",
    "cv_results = cross_val_score(optimized_gb, train_features, train_target, cv=5, scoring = 'neg_mean_squared_error')\n",
    "print('Mean Squared Error: ', mean_squared_error(test_target, test_pred))\n",
    "print(\"CV Results: \", cv_results)\n",
    "print(\"Mean CV Results: \", np.mean(cv_results))"
   ]
  },
  {
   "cell_type": "code",
   "execution_count": 43,
   "metadata": {},
   "outputs": [],
   "source": [
    "lr = LinearRegression()\n",
    "dt = DecisionTreeRegressor()\n",
    "rf = RandomForestRegressor()\n",
    "gb = GradientBoostingRegressor()\n",
    "optimized_dt = dtr_cv.best_estimator_\n",
    "optimized_gb =  gb_random.best_estimator_\n",
    "\n",
    "estimators = [lr, dt, rf, gb, optimized_dt, optimized_gb]\n",
    "\n",
    "train_r2 = []\n",
    "test_r2 = []\n",
    "\n",
    "def getRSquared(estimator):\n",
    "    estimator.fit(train_features, train_target)\n",
    "    test_pred = estimator.predict(test_features)\n",
    "    train_cv_results = cross_val_score(estimator, train_features, train_target, cv=5, scoring = 'r2')\n",
    "    test_cv_results = cross_val_score(estimator, test_features, test_pred, cv=5, scoring = 'r2')\n",
    "    train_r2.append(np.mean(train_cv_results))\n",
    "    test_r2.append(np.mean(test_cv_results))"
   ]
  },
  {
   "cell_type": "code",
   "execution_count": 44,
   "metadata": {},
   "outputs": [],
   "source": [
    "for estimator in estimators:\n",
    "    getRSquared(estimator)"
   ]
  },
  {
   "cell_type": "code",
   "execution_count": 45,
   "metadata": {},
   "outputs": [
    {
     "data": {
      "image/png": "[encoded data removed]",
      "text/plain": [
       "<Figure size 432x288 with 1 Axes>"
      ]
     },
     "metadata": {},
     "output_type": "display_data"
    }
   ],
   "source": [
    "n = 6\n",
    "ind = np.arange(n)  # the x locations for the groups\n",
    "width = 0.2       # the width of the bars\n",
    "\n",
    "fig = plt.figure()\n",
    "ax = fig.add_subplot(111)\n",
    "\n",
    "train_rect = ax.bar(ind, train_r2, width, color='r')\n",
    "test_rect = ax.bar(ind+width, test_r2, width, color='g')\n",
    "\n",
    "ax.set_ylabel('R2')\n",
    "ax.set_xticks(ind+width)\n",
    "ax.set_xticklabels( ['lr', 'dt', 'rf', 'gb', 'optimized_dt', 'optimized_gb'], rotation=45 )\n",
    "ax.legend( (train_rect[0], test_rect[0]), ('R2: Train', 'R2: Test'), loc=1, bbox_to_anchor=(0.5, 0.5, 0.8, 0.5) )\n",
    "plt.ylim((0.5,1.1))\n",
    "\n",
    "plt.show()"
   ]
  },
  {
   "cell_type": "code",
   "execution_count": 46,
   "metadata": {},
   "outputs": [],
   "source": [
    "# Create submission file for test3.csv (Commented out so the .csv doesn't get overwritten)\n",
    "submit2_df['predictions'] = optimized_gb.predict(submit2_features)\n",
    "submit2_df[['rental_id','predictions']].to_csv('test3_submission.csv', header=True, index=False)"
   ]
  },
  {
   "cell_type": "code",
   "execution_count": 47,
   "metadata": {},
   "outputs": [
    {
     "name": "stdout",
     "output_type": "stream",
     "text": [
      "\n",
      "Feature Importances\n",
      "has_childrens_playroom 0.46338326018753595\n",
      "has_pool 0.5764648859907043\n",
      "has_fireplace 0.630206121980602\n",
      "has_garage 0.6304249637482731\n",
      "is_furnished 0.651086865684034\n",
      "has_elevator 0.6785669480279495\n",
      "has_doorman 0.7705258303842691\n",
      "robbery 0.8068822315993273\n",
      "misdemenor 0.8111520665620943\n",
      "felony_assault 0.8342875372176317\n",
      "petit_larceny 0.8419761057954355\n",
      "assault_3 0.8538421500381486\n",
      "allows_pets 0.8884374274190501\n",
      "harrassment_2 0.9173813322806842\n",
      "penal_law 0.9217437896691488\n",
      "has_gym 0.9503187055596816\n",
      "burglary 0.9831390811092676\n",
      "felony 1.0247958905674284\n",
      "no_fee 1.0267853521196195\n",
      "has_roofdeck 1.083199228176367\n",
      "violation 1.0902987370554342\n",
      "has_garden 1.1615862561741523\n",
      "has_concierge 1.1746446956321916\n",
      "has_dishwasher 1.1782604304676556\n",
      "criminal_mischief 1.2685536063549725\n",
      "grand_larceny 1.3301005197524194\n",
      "dangerous_drugs 1.3395680322722623\n",
      "has_washer_dryer 1.356728008571478\n",
      "public_order 1.4003360290096136\n",
      "precinct 1.6861554113933772\n",
      "Number of Incidents 3.25221492183399\n",
      "addr_zip 3.704388251833479\n",
      "bedrooms 4.087981726234562\n",
      "bathrooms 4.127076551110333\n",
      "floor_count 7.023929087827057\n",
      "bin 11.226276950542955\n",
      "bbl 12.242636715531374\n",
      "size_sqft 25.004664294285405\n"
     ]
    }
   ],
   "source": [
    "getSortedImportances(optimized_gb)"
   ]
  },
  {
   "cell_type": "code",
   "execution_count": null,
   "metadata": {},
   "outputs": [],
   "source": []
  }
 ],
 "metadata": {
  "kernelspec": {
   "display_name": "Python 3",
   "language": "python",
   "name": "python3"
  },
  "language_info": {
   "codemirror_mode": {
    "name": "ipython",
    "version": 3
   },
   "file_extension": ".py",
   "mimetype": "text/x-python",
   "name": "python",
   "nbconvert_exporter": "python",
   "pygments_lexer": "ipython3",
   "version": "3.8.0"
  }
 },
 "nbformat": 4,
 "nbformat_minor": 2
}
