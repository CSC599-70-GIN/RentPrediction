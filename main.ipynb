{
 "cells": [
  {
   "cell_type": "code",
   "execution_count": 1,
   "metadata": {},
   "outputs": [
    {
     "name": "stderr",
     "output_type": "stream",
     "text": [
      "/Users/ik/.virtualenvs/rentprediction/lib/python3.8/site-packages/pandas/compat/__init__.py:97: UserWarning: Could not import the lzma module. Your installed Python is incomplete. Attempting to use lzma compression will result in a RuntimeError.\n",
      "  warnings.warn(msg)\n"
     ]
    }
   ],
   "source": [
    "import time\n",
    "import numpy as np\n",
    "import pandas as pd\n",
    "import matplotlib.pyplot as plt\n",
    "from matplotlib.legend_handler import HandlerLine2D\n",
    "\n",
    "from sklearn.linear_model import LinearRegression\n",
    "from sklearn.tree import DecisionTreeRegressor\n",
    "from sklearn.metrics import mean_squared_error\n",
    "from sklearn.ensemble import RandomForestRegressor, GradientBoostingRegressor\n",
    "from sklearn.model_selection import cross_val_score, GridSearchCV, RandomizedSearchCV\n",
    "\n",
    "%matplotlib inline"
   ]
  },
  {
   "cell_type": "code",
   "execution_count": 2,
   "metadata": {},
   "outputs": [],
   "source": [
    "import scripts.helper as helper"
   ]
  },
  {
   "cell_type": "markdown",
   "metadata": {},
   "source": [
    "### Load training and testing datasets from class websites\n",
    "\n",
    "Training set contains sample of 12,000 homes posted on StreetEasy between May 2018 and July 2018 from StreetEasy."
   ]
  },
  {
   "cell_type": "code",
   "execution_count": 3,
   "metadata": {},
   "outputs": [],
   "source": [
    "train_df = pd.read_csv('https://grantmlong.com/data/SE_rents2018_train.csv', index_col=0)\n",
    "test_df = pd.read_csv('https://grantmlong.com/data/SE_rents2018_test1.csv', index_col=0)"
   ]
  },
  {
   "cell_type": "markdown",
   "metadata": {},
   "source": [
    "### Load datasets to test model for accuracy"
   ]
  },
  {
   "cell_type": "code",
   "execution_count": 4,
   "metadata": {},
   "outputs": [],
   "source": [
    "submit1_df = pd.read_csv('https://grantmlong.com/data/SE_rents2018_test2.csv',index_col=0)\n",
    "submit2_df = pd.read_csv('https://grantmlong.com/data/SE_rents2018_test3.csv')"
   ]
  },
  {
   "cell_type": "markdown",
   "metadata": {},
   "source": [
    "### Load external datasets appended to training set to increase accuracy\n",
    "\n",
    "* Complaint dataset: https://data.cityofnewyork.us/Public-Safety/NYPD-Complaint-Data-Historic/qgea-i56i\n",
    " * Only used 2018 to correspond to time of rental listings\n",
    "* 311 Service Requests: https://nycopendata.socrata.com/Social-Services/311-Service-Requests-from-2010-to-Present/erm2-nwe9"
   ]
  },
  {
   "cell_type": "code",
   "execution_count": 5,
   "metadata": {},
   "outputs": [],
   "source": [
    "nypd_complaints = pd.read_csv('datasets/2018_NYPD_Complaints.csv', index_col=0)\n",
    "zip_incidents =  pd.read_csv('datasets/zip_incident_df.csv',index_col=0)"
   ]
  },
  {
   "cell_type": "markdown",
   "metadata": {},
   "source": [
    "### Join external datasets onto training data using helper function"
   ]
  },
  {
   "cell_type": "code",
   "execution_count": 6,
   "metadata": {},
   "outputs": [],
   "source": [
    "train_df = helper.merge_external_data(train_df, nypd_complaints, zip_incidents)\n",
    "test_df = helper.merge_external_data(test_df, nypd_complaints, zip_incidents)\n",
    "submit1_df = helper.merge_external_data(submit1_df, nypd_complaints, zip_incidents)\n",
    "submit2_df = helper.merge_external_data(submit2_df, nypd_complaints, zip_incidents)"
   ]
  },
  {
   "cell_type": "markdown",
   "metadata": {},
   "source": [
    "### List all columns, shape, and show sample of training data with appended features"
   ]
  },
  {
   "cell_type": "code",
   "execution_count": 7,
   "metadata": {},
   "outputs": [
    {
     "data": {
      "text/plain": [
       "Index(['addr_unit', 'building_id', 'bedrooms', 'bathrooms', 'size_sqft',\n",
       "       'created_at', 'addr_street', 'addr_city', 'addr_zip', 'addr_lat',\n",
       "       'addr_lon', 'bin', 'bbl', 'floor_count', 'year_built', 'min_to_subway',\n",
       "       'has_doorman', 'has_elevator', 'has_fireplace', 'has_dishwasher',\n",
       "       'is_furnished', 'has_gym', 'allows_pets', 'has_washer_dryer',\n",
       "       'has_garage', 'has_roofdeck', 'has_concierge', 'has_pool', 'has_garden',\n",
       "       'has_childrens_playroom', 'rent', 'no_fee', 'description',\n",
       "       'neighborhood', 'borough', 'unit', 'floornumber', 'line', 'precinct',\n",
       "       'petit_larceny', 'harrassment_2', 'assault_3', 'criminal_mischief',\n",
       "       'grand_larceny', 'public_order', 'felony_assault', 'dangerous_drugs',\n",
       "       'penal_law', 'robbery', 'burglary', 'misdemenor', 'felony', 'violation',\n",
       "       'Number of Incidents'],\n",
       "      dtype='object')"
      ]
     },
     "execution_count": 7,
     "metadata": {},
     "output_type": "execute_result"
    }
   ],
   "source": [
    "train_df.columns"
   ]
  },
  {
   "cell_type": "code",
   "execution_count": 8,
   "metadata": {},
   "outputs": [
    {
     "data": {
      "text/plain": [
       "(12000, 54)"
      ]
     },
     "execution_count": 8,
     "metadata": {},
     "output_type": "execute_result"
    }
   ],
   "source": [
    "train_df.shape"
   ]
  },
  {
   "cell_type": "code",
   "execution_count": 9,
   "metadata": {},
   "outputs": [
    {
     "data": {
      "text/html": [
       "<div>\n",
       "<style scoped>\n",
       "    .dataframe tbody tr th:only-of-type {\n",
       "        vertical-align: middle;\n",
       "    }\n",
       "\n",
       "    .dataframe tbody tr th {\n",
       "        vertical-align: top;\n",
       "    }\n",
       "\n",
       "    .dataframe thead th {\n",
       "        text-align: right;\n",
       "    }\n",
       "</style>\n",
       "<table border=\"1\" class=\"dataframe\">\n",
       "  <thead>\n",
       "    <tr style=\"text-align: right;\">\n",
       "      <th></th>\n",
       "      <th>3000</th>\n",
       "      <th>7935</th>\n",
       "      <th>9004</th>\n",
       "      <th>8579</th>\n",
       "      <th>7547</th>\n",
       "    </tr>\n",
       "  </thead>\n",
       "  <tbody>\n",
       "    <tr>\n",
       "      <th>addr_unit</th>\n",
       "      <td>#1A</td>\n",
       "      <td>UNIT-29C</td>\n",
       "      <td>#6AN</td>\n",
       "      <td>#4E</td>\n",
       "      <td>#3L</td>\n",
       "    </tr>\n",
       "    <tr>\n",
       "      <th>building_id</th>\n",
       "      <td>1396831</td>\n",
       "      <td>51214</td>\n",
       "      <td>18714649</td>\n",
       "      <td>1299817</td>\n",
       "      <td>392389</td>\n",
       "    </tr>\n",
       "    <tr>\n",
       "      <th>bedrooms</th>\n",
       "      <td>0</td>\n",
       "      <td>1</td>\n",
       "      <td>2</td>\n",
       "      <td>3</td>\n",
       "      <td>2</td>\n",
       "    </tr>\n",
       "    <tr>\n",
       "      <th>bathrooms</th>\n",
       "      <td>1.000000</td>\n",
       "      <td>1.000000</td>\n",
       "      <td>1.000000</td>\n",
       "      <td>2.000000</td>\n",
       "      <td>1.000000</td>\n",
       "    </tr>\n",
       "    <tr>\n",
       "      <th>size_sqft</th>\n",
       "      <td>570.000000</td>\n",
       "      <td>705.000000</td>\n",
       "      <td>500.000000</td>\n",
       "      <td>1000.000000</td>\n",
       "      <td>788.000000</td>\n",
       "    </tr>\n",
       "    <tr>\n",
       "      <th>created_at</th>\n",
       "      <td>2018-07-11 09:43:39</td>\n",
       "      <td>2018-05-29 18:04:57</td>\n",
       "      <td>2018-05-10 11:25:53</td>\n",
       "      <td>2018-06-04 15:22:56</td>\n",
       "      <td>2018-05-14 16:58:18</td>\n",
       "    </tr>\n",
       "    <tr>\n",
       "      <th>addr_street</th>\n",
       "      <td>110-35 72 DRIVE</td>\n",
       "      <td>260 WEST 54 STREET</td>\n",
       "      <td>210 THOMPSON STREET</td>\n",
       "      <td>26-38 21ST STREET</td>\n",
       "      <td>1356 WILLOUGHBY AVENUE</td>\n",
       "    </tr>\n",
       "    <tr>\n",
       "      <th>addr_city</th>\n",
       "      <td>Forest Hills</td>\n",
       "      <td>New York</td>\n",
       "      <td>New York</td>\n",
       "      <td>Astoria</td>\n",
       "      <td>Brooklyn</td>\n",
       "    </tr>\n",
       "    <tr>\n",
       "      <th>addr_zip</th>\n",
       "      <td>11375</td>\n",
       "      <td>10019</td>\n",
       "      <td>10012</td>\n",
       "      <td>11102</td>\n",
       "      <td>11237</td>\n",
       "    </tr>\n",
       "    <tr>\n",
       "      <th>addr_lat</th>\n",
       "      <td>40.720354</td>\n",
       "      <td>40.764301</td>\n",
       "      <td>40.728699</td>\n",
       "      <td>40.772202</td>\n",
       "      <td>40.706312</td>\n",
       "    </tr>\n",
       "    <tr>\n",
       "      <th>addr_lon</th>\n",
       "      <td>-73.838623</td>\n",
       "      <td>-73.984100</td>\n",
       "      <td>-73.999100</td>\n",
       "      <td>-73.925903</td>\n",
       "      <td>-73.920398</td>\n",
       "    </tr>\n",
       "    <tr>\n",
       "      <th>bin</th>\n",
       "      <td>4052592.000000</td>\n",
       "      <td>1024832.000000</td>\n",
       "      <td>1077838.000000</td>\n",
       "      <td>4019875.000000</td>\n",
       "      <td>3072999.000000</td>\n",
       "    </tr>\n",
       "    <tr>\n",
       "      <th>bbl</th>\n",
       "      <td>4022370046</td>\n",
       "      <td>1010257502</td>\n",
       "      <td>1005370001</td>\n",
       "      <td>4008850001</td>\n",
       "      <td>3032110021</td>\n",
       "    </tr>\n",
       "    <tr>\n",
       "      <th>floor_count</th>\n",
       "      <td>3.000000</td>\n",
       "      <td>43.000000</td>\n",
       "      <td>0.000000</td>\n",
       "      <td>14.000000</td>\n",
       "      <td>3.000000</td>\n",
       "    </tr>\n",
       "    <tr>\n",
       "      <th>year_built</th>\n",
       "      <td>1976.000000</td>\n",
       "      <td>2003.000000</td>\n",
       "      <td>NaN</td>\n",
       "      <td>2010.000000</td>\n",
       "      <td>1931.000000</td>\n",
       "    </tr>\n",
       "    <tr>\n",
       "      <th>min_to_subway</th>\n",
       "      <td>1.700000</td>\n",
       "      <td>2.150000</td>\n",
       "      <td>3.650000</td>\n",
       "      <td>6.783300</td>\n",
       "      <td>0.683300</td>\n",
       "    </tr>\n",
       "    <tr>\n",
       "      <th>has_doorman</th>\n",
       "      <td>0</td>\n",
       "      <td>1</td>\n",
       "      <td>0</td>\n",
       "      <td>1</td>\n",
       "      <td>0</td>\n",
       "    </tr>\n",
       "    <tr>\n",
       "      <th>has_elevator</th>\n",
       "      <td>0</td>\n",
       "      <td>1</td>\n",
       "      <td>0</td>\n",
       "      <td>1</td>\n",
       "      <td>0</td>\n",
       "    </tr>\n",
       "    <tr>\n",
       "      <th>has_fireplace</th>\n",
       "      <td>0</td>\n",
       "      <td>0</td>\n",
       "      <td>0</td>\n",
       "      <td>0</td>\n",
       "      <td>0</td>\n",
       "    </tr>\n",
       "    <tr>\n",
       "      <th>has_dishwasher</th>\n",
       "      <td>0</td>\n",
       "      <td>1</td>\n",
       "      <td>0</td>\n",
       "      <td>1</td>\n",
       "      <td>0</td>\n",
       "    </tr>\n",
       "    <tr>\n",
       "      <th>is_furnished</th>\n",
       "      <td>0</td>\n",
       "      <td>0</td>\n",
       "      <td>0</td>\n",
       "      <td>0</td>\n",
       "      <td>0</td>\n",
       "    </tr>\n",
       "    <tr>\n",
       "      <th>has_gym</th>\n",
       "      <td>0</td>\n",
       "      <td>1</td>\n",
       "      <td>0</td>\n",
       "      <td>1</td>\n",
       "      <td>0</td>\n",
       "    </tr>\n",
       "    <tr>\n",
       "      <th>allows_pets</th>\n",
       "      <td>0</td>\n",
       "      <td>0</td>\n",
       "      <td>0</td>\n",
       "      <td>1</td>\n",
       "      <td>1</td>\n",
       "    </tr>\n",
       "    <tr>\n",
       "      <th>has_washer_dryer</th>\n",
       "      <td>0</td>\n",
       "      <td>0</td>\n",
       "      <td>0</td>\n",
       "      <td>1</td>\n",
       "      <td>0</td>\n",
       "    </tr>\n",
       "    <tr>\n",
       "      <th>has_garage</th>\n",
       "      <td>0</td>\n",
       "      <td>1</td>\n",
       "      <td>0</td>\n",
       "      <td>1</td>\n",
       "      <td>0</td>\n",
       "    </tr>\n",
       "    <tr>\n",
       "      <th>has_roofdeck</th>\n",
       "      <td>0</td>\n",
       "      <td>0</td>\n",
       "      <td>0</td>\n",
       "      <td>1</td>\n",
       "      <td>0</td>\n",
       "    </tr>\n",
       "    <tr>\n",
       "      <th>has_concierge</th>\n",
       "      <td>0</td>\n",
       "      <td>1</td>\n",
       "      <td>0</td>\n",
       "      <td>1</td>\n",
       "      <td>0</td>\n",
       "    </tr>\n",
       "    <tr>\n",
       "      <th>has_pool</th>\n",
       "      <td>0</td>\n",
       "      <td>0</td>\n",
       "      <td>0</td>\n",
       "      <td>0</td>\n",
       "      <td>0</td>\n",
       "    </tr>\n",
       "    <tr>\n",
       "      <th>has_garden</th>\n",
       "      <td>0</td>\n",
       "      <td>0</td>\n",
       "      <td>0</td>\n",
       "      <td>0</td>\n",
       "      <td>0</td>\n",
       "    </tr>\n",
       "    <tr>\n",
       "      <th>has_childrens_playroom</th>\n",
       "      <td>0</td>\n",
       "      <td>0</td>\n",
       "      <td>0</td>\n",
       "      <td>0</td>\n",
       "      <td>0</td>\n",
       "    </tr>\n",
       "    <tr>\n",
       "      <th>rent</th>\n",
       "      <td>1350</td>\n",
       "      <td>3953</td>\n",
       "      <td>3000</td>\n",
       "      <td>3850</td>\n",
       "      <td>2495</td>\n",
       "    </tr>\n",
       "    <tr>\n",
       "      <th>no_fee</th>\n",
       "      <td>0</td>\n",
       "      <td>1</td>\n",
       "      <td>0</td>\n",
       "      <td>1</td>\n",
       "      <td>0</td>\n",
       "    </tr>\n",
       "    <tr>\n",
       "      <th>description</th>\n",
       "      <td>1 bdrm in the best location in forest hills 1/...</td>\n",
       "      <td>AMENITIES ABOUND! BEAUTIFUL CITY VIEWS! \\r\\n\\r...</td>\n",
       "      <td>6th floor (5 flight walk up) Real 2 bedroom wi...</td>\n",
       "      <td>Recently built, The EXO offers studio, one, tw...</td>\n",
       "      <td>Excellent Bushwick Location! \\r\\n\\r\\nBeautiful...</td>\n",
       "    </tr>\n",
       "    <tr>\n",
       "      <th>neighborhood</th>\n",
       "      <td>Forest Hills</td>\n",
       "      <td>Midtown</td>\n",
       "      <td>Greenwich Village</td>\n",
       "      <td>Astoria</td>\n",
       "      <td>Bushwick</td>\n",
       "    </tr>\n",
       "    <tr>\n",
       "      <th>borough</th>\n",
       "      <td>Queens</td>\n",
       "      <td>Manhattan</td>\n",
       "      <td>Manhattan</td>\n",
       "      <td>Queens</td>\n",
       "      <td>Brooklyn</td>\n",
       "    </tr>\n",
       "    <tr>\n",
       "      <th>unit</th>\n",
       "      <td>1A</td>\n",
       "      <td>UNIT29C</td>\n",
       "      <td>6AN</td>\n",
       "      <td>4E</td>\n",
       "      <td>3L</td>\n",
       "    </tr>\n",
       "    <tr>\n",
       "      <th>floornumber</th>\n",
       "      <td>1.000000</td>\n",
       "      <td>29.000000</td>\n",
       "      <td>6.000000</td>\n",
       "      <td>4.000000</td>\n",
       "      <td>3.000000</td>\n",
       "    </tr>\n",
       "    <tr>\n",
       "      <th>line</th>\n",
       "      <td>A</td>\n",
       "      <td>UNITC</td>\n",
       "      <td>AN</td>\n",
       "      <td>E</td>\n",
       "      <td>L</td>\n",
       "    </tr>\n",
       "    <tr>\n",
       "      <th>precinct</th>\n",
       "      <td>112</td>\n",
       "      <td>18</td>\n",
       "      <td>1</td>\n",
       "      <td>114</td>\n",
       "      <td>90</td>\n",
       "    </tr>\n",
       "    <tr>\n",
       "      <th>petit_larceny</th>\n",
       "      <td>982.000000</td>\n",
       "      <td>2048.000000</td>\n",
       "      <td>2537.000000</td>\n",
       "      <td>1484.000000</td>\n",
       "      <td>1182.000000</td>\n",
       "    </tr>\n",
       "    <tr>\n",
       "      <th>harrassment_2</th>\n",
       "      <td>410.000000</td>\n",
       "      <td>1184.000000</td>\n",
       "      <td>806.000000</td>\n",
       "      <td>1280.000000</td>\n",
       "      <td>980.000000</td>\n",
       "    </tr>\n",
       "    <tr>\n",
       "      <th>assault_3</th>\n",
       "      <td>203.000000</td>\n",
       "      <td>790.000000</td>\n",
       "      <td>470.000000</td>\n",
       "      <td>951.000000</td>\n",
       "      <td>593.000000</td>\n",
       "    </tr>\n",
       "    <tr>\n",
       "      <th>criminal_mischief</th>\n",
       "      <td>379.000000</td>\n",
       "      <td>416.000000</td>\n",
       "      <td>400.000000</td>\n",
       "      <td>869.000000</td>\n",
       "      <td>766.000000</td>\n",
       "    </tr>\n",
       "    <tr>\n",
       "      <th>grand_larceny</th>\n",
       "      <td>402.000000</td>\n",
       "      <td>1877.000000</td>\n",
       "      <td>1086.000000</td>\n",
       "      <td>787.000000</td>\n",
       "      <td>718.000000</td>\n",
       "    </tr>\n",
       "    <tr>\n",
       "      <th>public_order</th>\n",
       "      <td>82.000000</td>\n",
       "      <td>333.000000</td>\n",
       "      <td>413.000000</td>\n",
       "      <td>496.000000</td>\n",
       "      <td>275.000000</td>\n",
       "    </tr>\n",
       "    <tr>\n",
       "      <th>felony_assault</th>\n",
       "      <td>53.000000</td>\n",
       "      <td>190.000000</td>\n",
       "      <td>61.000000</td>\n",
       "      <td>357.000000</td>\n",
       "      <td>237.000000</td>\n",
       "    </tr>\n",
       "    <tr>\n",
       "      <th>dangerous_drugs</th>\n",
       "      <td>12.000000</td>\n",
       "      <td>215.000000</td>\n",
       "      <td>49.000000</td>\n",
       "      <td>145.000000</td>\n",
       "      <td>177.000000</td>\n",
       "    </tr>\n",
       "    <tr>\n",
       "      <th>penal_law</th>\n",
       "      <td>52.000000</td>\n",
       "      <td>85.000000</td>\n",
       "      <td>73.000000</td>\n",
       "      <td>323.000000</td>\n",
       "      <td>205.000000</td>\n",
       "    </tr>\n",
       "    <tr>\n",
       "      <th>robbery</th>\n",
       "      <td>41.000000</td>\n",
       "      <td>130.000000</td>\n",
       "      <td>80.000000</td>\n",
       "      <td>193.000000</td>\n",
       "      <td>198.000000</td>\n",
       "    </tr>\n",
       "    <tr>\n",
       "      <th>burglary</th>\n",
       "      <td>69.000000</td>\n",
       "      <td>175.000000</td>\n",
       "      <td>85.000000</td>\n",
       "      <td>171.000000</td>\n",
       "      <td>228.000000</td>\n",
       "    </tr>\n",
       "    <tr>\n",
       "      <th>misdemenor</th>\n",
       "      <td>1599.000000</td>\n",
       "      <td>3670.000000</td>\n",
       "      <td>3779.000000</td>\n",
       "      <td>3658.000000</td>\n",
       "      <td>2768.000000</td>\n",
       "    </tr>\n",
       "    <tr>\n",
       "      <th>felony</th>\n",
       "      <td>674.000000</td>\n",
       "      <td>2575.000000</td>\n",
       "      <td>1462.000000</td>\n",
       "      <td>2108.000000</td>\n",
       "      <td>1805.000000</td>\n",
       "    </tr>\n",
       "    <tr>\n",
       "      <th>violation</th>\n",
       "      <td>412.000000</td>\n",
       "      <td>1198.000000</td>\n",
       "      <td>819.000000</td>\n",
       "      <td>1290.000000</td>\n",
       "      <td>986.000000</td>\n",
       "    </tr>\n",
       "    <tr>\n",
       "      <th>Number of Incidents</th>\n",
       "      <td>5402</td>\n",
       "      <td>6643</td>\n",
       "      <td>4932</td>\n",
       "      <td>3096</td>\n",
       "      <td>9028</td>\n",
       "    </tr>\n",
       "  </tbody>\n",
       "</table>\n",
       "</div>"
      ],
      "text/plain": [
       "                                                                     3000  \\\n",
       "addr_unit                                                             #1A   \n",
       "building_id                                                       1396831   \n",
       "bedrooms                                                                0   \n",
       "bathrooms                                                        1.000000   \n",
       "size_sqft                                                      570.000000   \n",
       "created_at                                            2018-07-11 09:43:39   \n",
       "addr_street                                               110-35 72 DRIVE   \n",
       "addr_city                                                    Forest Hills   \n",
       "addr_zip                                                            11375   \n",
       "addr_lat                                                        40.720354   \n",
       "addr_lon                                                       -73.838623   \n",
       "bin                                                        4052592.000000   \n",
       "bbl                                                            4022370046   \n",
       "floor_count                                                      3.000000   \n",
       "year_built                                                    1976.000000   \n",
       "min_to_subway                                                    1.700000   \n",
       "has_doorman                                                             0   \n",
       "has_elevator                                                            0   \n",
       "has_fireplace                                                           0   \n",
       "has_dishwasher                                                          0   \n",
       "is_furnished                                                            0   \n",
       "has_gym                                                                 0   \n",
       "allows_pets                                                             0   \n",
       "has_washer_dryer                                                        0   \n",
       "has_garage                                                              0   \n",
       "has_roofdeck                                                            0   \n",
       "has_concierge                                                           0   \n",
       "has_pool                                                                0   \n",
       "has_garden                                                              0   \n",
       "has_childrens_playroom                                                  0   \n",
       "rent                                                                 1350   \n",
       "no_fee                                                                  0   \n",
       "description             1 bdrm in the best location in forest hills 1/...   \n",
       "neighborhood                                                 Forest Hills   \n",
       "borough                                                            Queens   \n",
       "unit                                                                   1A   \n",
       "floornumber                                                      1.000000   \n",
       "line                                                                    A   \n",
       "precinct                                                              112   \n",
       "petit_larceny                                                  982.000000   \n",
       "harrassment_2                                                  410.000000   \n",
       "assault_3                                                      203.000000   \n",
       "criminal_mischief                                              379.000000   \n",
       "grand_larceny                                                  402.000000   \n",
       "public_order                                                    82.000000   \n",
       "felony_assault                                                  53.000000   \n",
       "dangerous_drugs                                                 12.000000   \n",
       "penal_law                                                       52.000000   \n",
       "robbery                                                         41.000000   \n",
       "burglary                                                        69.000000   \n",
       "misdemenor                                                    1599.000000   \n",
       "felony                                                         674.000000   \n",
       "violation                                                      412.000000   \n",
       "Number of Incidents                                                  5402   \n",
       "\n",
       "                                                                     7935  \\\n",
       "addr_unit                                                        UNIT-29C   \n",
       "building_id                                                         51214   \n",
       "bedrooms                                                                1   \n",
       "bathrooms                                                        1.000000   \n",
       "size_sqft                                                      705.000000   \n",
       "created_at                                            2018-05-29 18:04:57   \n",
       "addr_street                                            260 WEST 54 STREET   \n",
       "addr_city                                                        New York   \n",
       "addr_zip                                                            10019   \n",
       "addr_lat                                                        40.764301   \n",
       "addr_lon                                                       -73.984100   \n",
       "bin                                                        1024832.000000   \n",
       "bbl                                                            1010257502   \n",
       "floor_count                                                     43.000000   \n",
       "year_built                                                    2003.000000   \n",
       "min_to_subway                                                    2.150000   \n",
       "has_doorman                                                             1   \n",
       "has_elevator                                                            1   \n",
       "has_fireplace                                                           0   \n",
       "has_dishwasher                                                          1   \n",
       "is_furnished                                                            0   \n",
       "has_gym                                                                 1   \n",
       "allows_pets                                                             0   \n",
       "has_washer_dryer                                                        0   \n",
       "has_garage                                                              1   \n",
       "has_roofdeck                                                            0   \n",
       "has_concierge                                                           1   \n",
       "has_pool                                                                0   \n",
       "has_garden                                                              0   \n",
       "has_childrens_playroom                                                  0   \n",
       "rent                                                                 3953   \n",
       "no_fee                                                                  1   \n",
       "description             AMENITIES ABOUND! BEAUTIFUL CITY VIEWS! \\r\\n\\r...   \n",
       "neighborhood                                                      Midtown   \n",
       "borough                                                         Manhattan   \n",
       "unit                                                              UNIT29C   \n",
       "floornumber                                                     29.000000   \n",
       "line                                                                UNITC   \n",
       "precinct                                                               18   \n",
       "petit_larceny                                                 2048.000000   \n",
       "harrassment_2                                                 1184.000000   \n",
       "assault_3                                                      790.000000   \n",
       "criminal_mischief                                              416.000000   \n",
       "grand_larceny                                                 1877.000000   \n",
       "public_order                                                   333.000000   \n",
       "felony_assault                                                 190.000000   \n",
       "dangerous_drugs                                                215.000000   \n",
       "penal_law                                                       85.000000   \n",
       "robbery                                                        130.000000   \n",
       "burglary                                                       175.000000   \n",
       "misdemenor                                                    3670.000000   \n",
       "felony                                                        2575.000000   \n",
       "violation                                                     1198.000000   \n",
       "Number of Incidents                                                  6643   \n",
       "\n",
       "                                                                     9004  \\\n",
       "addr_unit                                                            #6AN   \n",
       "building_id                                                      18714649   \n",
       "bedrooms                                                                2   \n",
       "bathrooms                                                        1.000000   \n",
       "size_sqft                                                      500.000000   \n",
       "created_at                                            2018-05-10 11:25:53   \n",
       "addr_street                                           210 THOMPSON STREET   \n",
       "addr_city                                                        New York   \n",
       "addr_zip                                                            10012   \n",
       "addr_lat                                                        40.728699   \n",
       "addr_lon                                                       -73.999100   \n",
       "bin                                                        1077838.000000   \n",
       "bbl                                                            1005370001   \n",
       "floor_count                                                      0.000000   \n",
       "year_built                                                            NaN   \n",
       "min_to_subway                                                    3.650000   \n",
       "has_doorman                                                             0   \n",
       "has_elevator                                                            0   \n",
       "has_fireplace                                                           0   \n",
       "has_dishwasher                                                          0   \n",
       "is_furnished                                                            0   \n",
       "has_gym                                                                 0   \n",
       "allows_pets                                                             0   \n",
       "has_washer_dryer                                                        0   \n",
       "has_garage                                                              0   \n",
       "has_roofdeck                                                            0   \n",
       "has_concierge                                                           0   \n",
       "has_pool                                                                0   \n",
       "has_garden                                                              0   \n",
       "has_childrens_playroom                                                  0   \n",
       "rent                                                                 3000   \n",
       "no_fee                                                                  0   \n",
       "description             6th floor (5 flight walk up) Real 2 bedroom wi...   \n",
       "neighborhood                                            Greenwich Village   \n",
       "borough                                                         Manhattan   \n",
       "unit                                                                  6AN   \n",
       "floornumber                                                      6.000000   \n",
       "line                                                                   AN   \n",
       "precinct                                                                1   \n",
       "petit_larceny                                                 2537.000000   \n",
       "harrassment_2                                                  806.000000   \n",
       "assault_3                                                      470.000000   \n",
       "criminal_mischief                                              400.000000   \n",
       "grand_larceny                                                 1086.000000   \n",
       "public_order                                                   413.000000   \n",
       "felony_assault                                                  61.000000   \n",
       "dangerous_drugs                                                 49.000000   \n",
       "penal_law                                                       73.000000   \n",
       "robbery                                                         80.000000   \n",
       "burglary                                                        85.000000   \n",
       "misdemenor                                                    3779.000000   \n",
       "felony                                                        1462.000000   \n",
       "violation                                                      819.000000   \n",
       "Number of Incidents                                                  4932   \n",
       "\n",
       "                                                                     8579  \\\n",
       "addr_unit                                                             #4E   \n",
       "building_id                                                       1299817   \n",
       "bedrooms                                                                3   \n",
       "bathrooms                                                        2.000000   \n",
       "size_sqft                                                     1000.000000   \n",
       "created_at                                            2018-06-04 15:22:56   \n",
       "addr_street                                             26-38 21ST STREET   \n",
       "addr_city                                                         Astoria   \n",
       "addr_zip                                                            11102   \n",
       "addr_lat                                                        40.772202   \n",
       "addr_lon                                                       -73.925903   \n",
       "bin                                                        4019875.000000   \n",
       "bbl                                                            4008850001   \n",
       "floor_count                                                     14.000000   \n",
       "year_built                                                    2010.000000   \n",
       "min_to_subway                                                    6.783300   \n",
       "has_doorman                                                             1   \n",
       "has_elevator                                                            1   \n",
       "has_fireplace                                                           0   \n",
       "has_dishwasher                                                          1   \n",
       "is_furnished                                                            0   \n",
       "has_gym                                                                 1   \n",
       "allows_pets                                                             1   \n",
       "has_washer_dryer                                                        1   \n",
       "has_garage                                                              1   \n",
       "has_roofdeck                                                            1   \n",
       "has_concierge                                                           1   \n",
       "has_pool                                                                0   \n",
       "has_garden                                                              0   \n",
       "has_childrens_playroom                                                  0   \n",
       "rent                                                                 3850   \n",
       "no_fee                                                                  1   \n",
       "description             Recently built, The EXO offers studio, one, tw...   \n",
       "neighborhood                                                      Astoria   \n",
       "borough                                                            Queens   \n",
       "unit                                                                   4E   \n",
       "floornumber                                                      4.000000   \n",
       "line                                                                    E   \n",
       "precinct                                                              114   \n",
       "petit_larceny                                                 1484.000000   \n",
       "harrassment_2                                                 1280.000000   \n",
       "assault_3                                                      951.000000   \n",
       "criminal_mischief                                              869.000000   \n",
       "grand_larceny                                                  787.000000   \n",
       "public_order                                                   496.000000   \n",
       "felony_assault                                                 357.000000   \n",
       "dangerous_drugs                                                145.000000   \n",
       "penal_law                                                      323.000000   \n",
       "robbery                                                        193.000000   \n",
       "burglary                                                       171.000000   \n",
       "misdemenor                                                    3658.000000   \n",
       "felony                                                        2108.000000   \n",
       "violation                                                     1290.000000   \n",
       "Number of Incidents                                                  3096   \n",
       "\n",
       "                                                                     7547  \n",
       "addr_unit                                                             #3L  \n",
       "building_id                                                        392389  \n",
       "bedrooms                                                                2  \n",
       "bathrooms                                                        1.000000  \n",
       "size_sqft                                                      788.000000  \n",
       "created_at                                            2018-05-14 16:58:18  \n",
       "addr_street                                        1356 WILLOUGHBY AVENUE  \n",
       "addr_city                                                        Brooklyn  \n",
       "addr_zip                                                            11237  \n",
       "addr_lat                                                        40.706312  \n",
       "addr_lon                                                       -73.920398  \n",
       "bin                                                        3072999.000000  \n",
       "bbl                                                            3032110021  \n",
       "floor_count                                                      3.000000  \n",
       "year_built                                                    1931.000000  \n",
       "min_to_subway                                                    0.683300  \n",
       "has_doorman                                                             0  \n",
       "has_elevator                                                            0  \n",
       "has_fireplace                                                           0  \n",
       "has_dishwasher                                                          0  \n",
       "is_furnished                                                            0  \n",
       "has_gym                                                                 0  \n",
       "allows_pets                                                             1  \n",
       "has_washer_dryer                                                        0  \n",
       "has_garage                                                              0  \n",
       "has_roofdeck                                                            0  \n",
       "has_concierge                                                           0  \n",
       "has_pool                                                                0  \n",
       "has_garden                                                              0  \n",
       "has_childrens_playroom                                                  0  \n",
       "rent                                                                 2495  \n",
       "no_fee                                                                  0  \n",
       "description             Excellent Bushwick Location! \\r\\n\\r\\nBeautiful...  \n",
       "neighborhood                                                     Bushwick  \n",
       "borough                                                          Brooklyn  \n",
       "unit                                                                   3L  \n",
       "floornumber                                                      3.000000  \n",
       "line                                                                    L  \n",
       "precinct                                                               90  \n",
       "petit_larceny                                                 1182.000000  \n",
       "harrassment_2                                                  980.000000  \n",
       "assault_3                                                      593.000000  \n",
       "criminal_mischief                                              766.000000  \n",
       "grand_larceny                                                  718.000000  \n",
       "public_order                                                   275.000000  \n",
       "felony_assault                                                 237.000000  \n",
       "dangerous_drugs                                                177.000000  \n",
       "penal_law                                                      205.000000  \n",
       "robbery                                                        198.000000  \n",
       "burglary                                                       228.000000  \n",
       "misdemenor                                                    2768.000000  \n",
       "felony                                                        1805.000000  \n",
       "violation                                                      986.000000  \n",
       "Number of Incidents                                                  9028  "
      ]
     },
     "execution_count": 9,
     "metadata": {},
     "output_type": "execute_result"
    }
   ],
   "source": [
    "train_df.sample(5).transpose()"
   ]
  },
  {
   "cell_type": "markdown",
   "metadata": {},
   "source": [
    "### Here is a scatter plot that shows the correlation between the size of a listing and the rental price\n",
    "As one might guess, the larger an apartment, the more that it probably costs.\n",
    "Note that there are some outliers here towards the bottom right of the plot which are probably incorrectly listed values in the data. Removing some of these outliers may improve the accuracy of our model."
   ]
  },
  {
   "cell_type": "code",
   "execution_count": 10,
   "metadata": {},
   "outputs": [
    {
     "data": {
      "text/plain": [
       "Text(0, 0.5, 'Rent ($)')"
      ]
     },
     "execution_count": 10,
     "metadata": {},
     "output_type": "execute_result"
    },
    {
     "data": {
      "image/png": "[encoded data removed]",
      "text/plain": [
       "<Figure size 432x288 with 1 Axes>"
      ]
     },
     "metadata": {
      "needs_background": "light"
     },
     "output_type": "display_data"
    }
   ],
   "source": [
    "plt.scatter(train_df['size_sqft'],train_df['rent'])\n",
    "plt.xlabel('Size (sq ft)', fontsize=12)\n",
    "plt.ylabel('Rent ($)', fontsize=12)"
   ]
  },
  {
   "cell_type": "markdown",
   "metadata": {},
   "source": [
    "### Build training data (using relevant features)\n",
    "Avoided features with strings as the type i.e. 'addr_city', 'neighborhood', 'borough'\n",
    "Can try converting them to binary to find out how important they are"
   ]
  },
  {
   "cell_type": "code",
   "execution_count": 11,
   "metadata": {},
   "outputs": [
    {
     "name": "stdout",
     "output_type": "stream",
     "text": [
      "0\n"
     ]
    }
   ],
   "source": [
    "# extract usable features\n",
    "features = ['bedrooms', 'bathrooms', 'size_sqft', 'addr_zip', 'bin', 'bbl',\n",
    "                    'floor_count', 'has_doorman', 'has_elevator',\n",
    "                    'has_fireplace', 'has_dishwasher','is_furnished', 'has_gym', 'allows_pets',\n",
    "                    'has_washer_dryer', 'has_garage', 'has_roofdeck', 'has_concierge', 'has_pool',\n",
    "                    'precinct', 'petit_larceny', 'harrassment_2', 'assault_3', 'criminal_mischief',\n",
    "                    'grand_larceny', 'public_order', 'felony_assault', 'dangerous_drugs', 'penal_law',\n",
    "                    'robbery', 'burglary', 'misdemenor', 'felony', 'violation', 'has_garden', \n",
    "                    'has_childrens_playroom', 'Number of Incidents', 'no_fee', 'rent']\n",
    "\n",
    "\n",
    "# More selective features (comment out to test every feature)\n",
    "# features = ['size_sqft', 'bbl', 'bathrooms', 'bedrooms', 'rent']\n",
    "\n",
    "# drop rows with missing values\n",
    "train_features = train_df[features].dropna()\n",
    "\n",
    "# construct target vector\n",
    "train_target = train_features['rent']\n",
    "train_features = train_features.drop(labels='rent', axis=1)\n",
    "print(train_features.isna().sum().sum())\n",
    "\n",
    "# setup test data for predicting and measuring\n",
    "test_features = test_df[features]\n",
    "test_target = test_features['rent']\n",
    "test_features = test_features.drop(labels='rent', axis=1)"
   ]
  },
  {
   "cell_type": "markdown",
   "metadata": {},
   "source": [
    "It makes sense for the submission datasets to have at least 2000 missing values because we are supposed to predict the rent with our model. The extra missing value in 'training' and 'submission 2' are contained in the bin column."
   ]
  },
  {
   "cell_type": "markdown",
   "metadata": {},
   "source": [
    "### Filling in missing bins with preselected value (1000000)"
   ]
  },
  {
   "cell_type": "code",
   "execution_count": 12,
   "metadata": {},
   "outputs": [
    {
     "name": "stdout",
     "output_type": "stream",
     "text": [
      "Before filling in missing values:  2\n",
      "After filling in missing values:  0\n"
     ]
    }
   ],
   "source": [
    "submit2_features = submit2_df[features].drop(labels='rent', axis=1)\n",
    "print('Before filling in missing values: ', submit2_features.isnull().sum().sum())\n",
    "\n",
    "submit2_features['bin'].fillna(1000000.0, inplace = True)\n",
    "print('After filling in missing values: ', submit2_features.isnull().sum().sum())"
   ]
  },
  {
   "cell_type": "code",
   "execution_count": 13,
   "metadata": {},
   "outputs": [
    {
     "name": "stdout",
     "output_type": "stream",
     "text": [
      "Training NaNs: 0\n",
      "Test NaNs: 0\n",
      "Submission 2 NaNs: 0\n"
     ]
    }
   ],
   "source": [
    "# check for missing values in training, testing, and submission dataframes\n",
    "print('Training NaNs:', train_features.isna().sum().sum())\n",
    "print('Test NaNs:', test_df[features].isna().sum().sum())\n",
    "print('Submission 2 NaNs:', submit2_features.isna().sum().sum())"
   ]
  },
  {
   "cell_type": "markdown",
   "metadata": {},
   "source": [
    "### Plotting BIN against BBL \n",
    "**BIN**: building identification number which is a 7-digit numerical identifier unique to each building in the City of New York. The first digit is the borough code which explains why the data shows like a step function.\n",
    "\n",
    "**BBL**: Borough, Block and Lot Number which identifies each unit of real estate in NYC. It consists of three numbers, separated by slashes: the borough, which is 1 digit; the block number, which is up to 5 digits; and the lot number, which is up to 4 digits."
   ]
  },
  {
   "cell_type": "code",
   "execution_count": 14,
   "metadata": {},
   "outputs": [
    {
     "data": {
      "text/plain": [
       "Text(0, 0.5, 'BBL')"
      ]
     },
     "execution_count": 14,
     "metadata": {},
     "output_type": "execute_result"
    },
    {
     "data": {
      "image/png": "[encoded data removed]",
      "text/plain": [
       "<Figure size 432x288 with 1 Axes>"
      ]
     },
     "metadata": {
      "needs_background": "light"
     },
     "output_type": "display_data"
    }
   ],
   "source": [
    "plt.scatter(test_df['bin'],test_df['bbl'])\n",
    "plt.xlabel('Bin', fontsize=12)\n",
    "plt.ylabel('BBL', fontsize=12)"
   ]
  },
  {
   "cell_type": "code",
   "execution_count": 15,
   "metadata": {},
   "outputs": [
    {
     "name": "stdout",
     "output_type": "stream",
     "text": [
      "Series([], Name: addr_zip, dtype: int64)\n",
      "Series([], Name: addr_zip, dtype: int64)\n",
      "Series([], Name: addr_zip, dtype: int64)\n"
     ]
    }
   ],
   "source": [
    "#zip codes missing from the join function will go back and add these.\n",
    "print(test_features.loc[test_features.precinct.isna(), 'addr_zip'])\n",
    "print(submit1_df.loc[submit1_df.precinct.isna(), 'addr_zip'])\n",
    "print(submit2_df.loc[submit2_df.precinct.isna(), 'addr_zip'])"
   ]
  },
  {
   "cell_type": "markdown",
   "metadata": {},
   "source": [
    "### Initializing multiple models to determine best for accuracy"
   ]
  },
  {
   "cell_type": "code",
   "execution_count": 16,
   "metadata": {
    "scrolled": false
   },
   "outputs": [],
   "source": [
    "lr = LinearRegression()\n",
    "dt = DecisionTreeRegressor()\n",
    "gb = GradientBoostingRegressor()\n",
    "rf = RandomForestRegressor()"
   ]
  },
  {
   "cell_type": "markdown",
   "metadata": {},
   "source": [
    "### Train and predict using each estimator and print MSE, std dev & mean of 5-fold cross validation on training set"
   ]
  },
  {
   "cell_type": "code",
   "execution_count": 17,
   "metadata": {},
   "outputs": [
    {
     "name": "stdout",
     "output_type": "stream",
     "text": [
      "\n",
      "Linear Regression\n",
      "Mean Squared Error:  3180974.0747734844\n",
      "CV Results (Std Dev):  679826.9534078061\n",
      "CV Results (Mean):  -3074207.5331912735\n",
      "\n",
      "Decision Tree Regressor\n",
      "Mean Squared Error:  2487152.096017361\n",
      "CV Results (Std Dev):  617534.3447445956\n",
      "CV Results (Mean):  -2114208.785424029\n",
      "\n",
      "Gradient Boosting Regressor\n",
      "Mean Squared Error:  1754539.6250079372\n",
      "CV Results (Std Dev):  256851.84385502982\n",
      "CV Results (Mean):  -1178863.3506404876\n",
      "\n",
      "Random Forest Regressor\n",
      "Mean Squared Error:  1656715.2450035047\n",
      "CV Results (Std Dev):  241502.78286409398\n",
      "CV Results (Mean):  -1168838.2846468263\n"
     ]
    }
   ],
   "source": [
    "names = ['\\nLinear Regression', '\\nDecision Tree Regressor', '\\nGradient Boosting Regressor', '\\nRandom Forest Regressor']\n",
    "estimators = [lr, dt, gb, rf]\n",
    "\n",
    "for i in range(len(names)):\n",
    "    print(names[i])\n",
    "    helper.getResults(estimators[i], train_features, train_target, test_features, test_target)"
   ]
  },
  {
   "cell_type": "markdown",
   "metadata": {},
   "source": [
    "#### GradientBoostingRegressor or RandomForestRegressor seems to give us the best score so far, further testing with hyperparameters is needed"
   ]
  },
  {
   "cell_type": "markdown",
   "metadata": {},
   "source": [
    "### Print feature importances (from least important to most) for each estimator\n",
    "Importances for lr are in magnitude while others are in percentage\n",
    "\n",
    "Features are currently unscaled."
   ]
  },
  {
   "cell_type": "code",
   "execution_count": 18,
   "metadata": {},
   "outputs": [
    {
     "name": "stdout",
     "output_type": "stream",
     "text": [
      "\n",
      "Linear Regression\n",
      "\n",
      "Feature Importances\n",
      "has_dishwasher -201.45612285523393\n",
      "no_fee -184.7079288498617\n",
      "has_garage -177.36064086541134\n",
      "violation -7.46239943839439\n",
      "criminal_mischief -4.007467438298224\n",
      "floor_count -3.4279666466341343\n",
      "dangerous_drugs -3.2369466381905685\n",
      "public_order -2.708469375019197\n",
      "petit_larceny -2.6198168253556986\n",
      "felony_assault -2.282407057552217\n",
      "assault_3 -1.9701945904628921\n",
      "precinct -0.5890082668763902\n",
      "addr_zip -0.4513327576340677\n",
      "grand_larceny -0.09614473238464599\n",
      "Number of Incidents -0.0320363069429247\n",
      "bbl -4.5001232598653393e-07\n",
      "bin 0.00016881656951438226\n",
      "felony 0.46377802322051964\n",
      "robbery 0.80267923896172\n",
      "burglary 1.5190611497501332\n",
      "size_sqft 2.3173222018094304\n",
      "misdemenor 2.8851979547259767\n",
      "penal_law 4.310846166281551\n",
      "harrassment_2 6.175465776098679\n",
      "has_garden 41.90215611578609\n",
      "has_doorman 73.55686732569713\n",
      "has_childrens_playroom 107.32829057011273\n",
      "has_roofdeck 188.183410605416\n",
      "allows_pets 203.2250443836145\n",
      "has_concierge 206.3366651801876\n",
      "has_pool 218.434106133817\n",
      "has_elevator 287.2329751752037\n",
      "bedrooms 299.2916370298747\n",
      "has_gym 331.72481577111796\n",
      "has_washer_dryer 402.34785601634866\n",
      "has_fireplace 531.8441544046699\n",
      "is_furnished 850.4989589102632\n",
      "bathrooms 1306.798236671471\n",
      "\n",
      "Decision Tree Regressor\n",
      "\n",
      "Feature Importances\n",
      "felony 0.031414687271089634\n",
      "misdemenor 0.03189025125632517\n",
      "penal_law 0.04735457071240829\n",
      "has_childrens_playroom 0.04839862652090832\n",
      "has_fireplace 0.06570900867977746\n",
      "has_concierge 0.06578321346516477\n",
      "felony_assault 0.06764304267900759\n",
      "violation 0.07044634774518103\n",
      "has_garden 0.07819202465782144\n",
      "assault_3 0.07977700050739957\n",
      "petit_larceny 0.09250880279882305\n",
      "is_furnished 0.10763898561704927\n",
      "allows_pets 0.10765081524344126\n",
      "has_garage 0.12936809783353442\n",
      "burglary 0.1645708708079705\n",
      "criminal_mischief 0.19466025231020193\n",
      "harrassment_2 0.22263180223017393\n",
      "dangerous_drugs 0.24230931886663853\n",
      "robbery 0.29949778764633506\n",
      "has_doorman 0.3191796351790063\n",
      "has_elevator 0.36406055426990014\n",
      "has_dishwasher 0.3766044963874461\n",
      "no_fee 0.436930563869235\n",
      "has_roofdeck 0.4538917457032056\n",
      "has_gym 0.4949974555679768\n",
      "addr_zip 0.5409884310000518\n",
      "has_pool 0.6316997416146565\n",
      "has_washer_dryer 0.7867446323573047\n",
      "bin 1.133178211991956\n",
      "bedrooms 1.2615161759999667\n",
      "Number of Incidents 1.3210322930816647\n",
      "floor_count 1.3953977880622244\n",
      "public_order 1.6879724065051207\n",
      "grand_larceny 2.2938624115331527\n",
      "precinct 2.680127301929893\n",
      "bathrooms 8.519223346359986\n",
      "bbl 12.520965682642734\n",
      "size_sqft 60.63418161909526\n",
      "\n",
      "Gradient Boosting Regressor\n",
      "\n",
      "Feature Importances\n",
      "has_fireplace 0.0\n",
      "has_garage 0.0\n",
      "burglary 0.0\n",
      "allows_pets 0.00423664759148249\n",
      "violation 0.01151398813714436\n",
      "misdemenor 0.021215451819725215\n",
      "has_childrens_playroom 0.02235567672705714\n",
      "dangerous_drugs 0.022959321093542446\n",
      "criminal_mischief 0.029898859979348495\n",
      "felony_assault 0.03705418736269811\n",
      "assault_3 0.054643545666897816\n",
      "harrassment_2 0.05744887701661401\n",
      "has_garden 0.062455398157376205\n",
      "felony 0.06263625123203435\n",
      "petit_larceny 0.07029749919760912\n",
      "robbery 0.10943407489882306\n",
      "has_pool 0.14228348189797663\n",
      "public_order 0.1430683167258952\n",
      "has_roofdeck 0.18008681007215357\n",
      "no_fee 0.18040081219269005\n",
      "is_furnished 0.2078218893165512\n",
      "has_doorman 0.23496572921122838\n",
      "penal_law 0.23952553763664425\n",
      "has_dishwasher 0.2625411791939511\n",
      "has_concierge 0.28697565426318916\n",
      "bin 0.32009409386454013\n",
      "Number of Incidents 0.3717457334563063\n",
      "has_gym 0.7173451016052226\n",
      "has_elevator 0.8162479356350206\n",
      "addr_zip 0.8233889364286212\n",
      "floor_count 0.8753003152722757\n",
      "has_washer_dryer 1.0172398461834942\n",
      "bedrooms 1.0406635618046995\n",
      "grand_larceny 2.2022650247707785\n",
      "precinct 4.579588404798786\n",
      "bbl 11.140844756344581\n",
      "bathrooms 15.23836529336159\n",
      "size_sqft 58.41309180708345\n",
      "\n",
      "Random Forest Regressor\n",
      "\n",
      "Feature Importances\n",
      "has_garage 0.11654856593087022\n",
      "misdemenor 0.11932106050952515\n",
      "has_childrens_playroom 0.1328019121881503\n",
      "assault_3 0.14395313953167174\n",
      "burglary 0.16728840330991065\n",
      "criminal_mischief 0.17729930866825155\n",
      "violation 0.1952845850645104\n",
      "has_garden 0.19978544166159648\n",
      "harrassment_2 0.2124557809063267\n",
      "has_pool 0.2135990567235081\n",
      "allows_pets 0.21623893497058397\n",
      "penal_law 0.21818529710079881\n",
      "felony 0.22193684838347963\n",
      "has_fireplace 0.23025994285037413\n",
      "has_concierge 0.25342143897512914\n",
      "has_doorman 0.2656619994792261\n",
      "felony_assault 0.27070300478758436\n",
      "has_roofdeck 0.3045124469640042\n",
      "public_order 0.35496977698976667\n",
      "no_fee 0.36847439319859104\n",
      "has_elevator 0.37688868184735125\n",
      "is_furnished 0.3865902393889539\n",
      "dangerous_drugs 0.3903213868294017\n",
      "robbery 0.4970367673991236\n",
      "petit_larceny 0.5165819802897642\n",
      "has_washer_dryer 0.5359754114864482\n",
      "has_dishwasher 0.5543782255037267\n",
      "has_gym 0.6116903704793452\n",
      "Number of Incidents 1.0675331647199489\n",
      "addr_zip 1.1341230568113607\n",
      "bedrooms 1.3877120808114447\n",
      "bin 1.455651242750303\n",
      "grand_larceny 1.5133077076568702\n",
      "floor_count 1.7656047024910966\n",
      "precinct 4.962489976131818\n",
      "bbl 10.63494780979734\n",
      "bathrooms 13.291987175011178\n",
      "size_sqft 54.534478682400675\n"
     ]
    }
   ],
   "source": [
    "for i in range(len(names)):\n",
    "    print(names[i])\n",
    "    helper.getSortedImportances(estimators[i], features)"
   ]
  },
  {
   "cell_type": "markdown",
   "metadata": {},
   "source": [
    "### Tuning individual hyperparameters for decision tree regressor "
   ]
  },
  {
   "cell_type": "code",
   "execution_count": 19,
   "metadata": {},
   "outputs": [
    {
     "data": {
      "image/png": "[encoded data removed]",
      "text/plain": [
       "<Figure size 432x288 with 1 Axes>"
      ]
     },
     "metadata": {
      "needs_background": "light"
     },
     "output_type": "display_data"
    },
    {
     "name": "stdout",
     "output_type": "stream",
     "text": [
      "{'best_param': {'max_depth': 6}, 'best_score': 0.7758130062518085}\n"
     ]
    },
    {
     "data": {
      "image/png": "[encoded data removed]",
      "text/plain": [
       "<Figure size 432x288 with 1 Axes>"
      ]
     },
     "metadata": {
      "needs_background": "light"
     },
     "output_type": "display_data"
    },
    {
     "name": "stdout",
     "output_type": "stream",
     "text": [
      "{'best_param': {'min_samples_split': 0.1}, 'best_score': 0.5724664746971202}\n"
     ]
    },
    {
     "data": {
      "image/png": "[encoded data removed]",
      "text/plain": [
       "<Figure size 432x288 with 1 Axes>"
      ]
     },
     "metadata": {
      "needs_background": "light"
     },
     "output_type": "display_data"
    },
    {
     "name": "stdout",
     "output_type": "stream",
     "text": [
      "{'best_param': {'min_samples_leaf': 0.1}, 'best_score': 0.40932686793006995}\n"
     ]
    },
    {
     "data": {
      "image/png": "[encoded data removed]",
      "text/plain": [
       "<Figure size 432x288 with 1 Axes>"
      ]
     },
     "metadata": {
      "needs_background": "light"
     },
     "output_type": "display_data"
    },
    {
     "name": "stdout",
     "output_type": "stream",
     "text": [
      "{'best_param': {'max_features': 28}, 'best_score': 0.759157735520526}\n"
     ]
    }
   ],
   "source": [
    "param_grids = []\n",
    "\n",
    "# Hyperparameter 1: max_depth -> indicates depth of tree; \n",
    "# Testing range of 1 to 32\n",
    "max_depth_values = np.arange(1, 33)\n",
    "param_grids.append({'max_depth': max_depth_values})\n",
    "\n",
    "# Hyperparameter 2: min_samples_split <- minimum number of samples required to split a node\n",
    "# Testing range from 10% to 100%\n",
    "min_samples_split = np.linspace(0.1, 1.0, 10, endpoint=True)\n",
    "param_grids.append({'min_samples_split': min_samples_split})\n",
    "\n",
    "# Hyperparameter 3: min_samples_leaf <- minimum number of samples required at each leaf node\n",
    "# Testing range from 10% to 50%\n",
    "min_samples_leaf = np.linspace(0.1, 0.5, 10, endpoint=True)\n",
    "param_grids.append({'min_samples_leaf': min_samples_leaf})\n",
    "\n",
    "# Hyperparameter 4: max_features <- max number of features to test\n",
    "# Testing range from 1 to 1 less than the number of features in the df\n",
    "max_features = list(range(1,train_features.shape[1]))\n",
    "param_grids.append({'max_features': max_features})\n",
    "\n",
    "for hyperparameter in param_grids:\n",
    "    helper.testHyperparameter(hyperparameter, train_features, train_target)"
   ]
  },
  {
   "cell_type": "markdown",
   "metadata": {},
   "source": [
    "### Testing all 4 hyperparameters together to find the best combination"
   ]
  },
  {
   "cell_type": "code",
   "execution_count": 20,
   "metadata": {},
   "outputs": [
    {
     "name": "stdout",
     "output_type": "stream",
     "text": [
      "{'min_samples_split': 10, 'min_samples_leaf': 20, 'max_leaf_nodes': 500, 'max_depth': 15}\n",
      "0.7725453663576703\n",
      "DecisionTreeRegressor(max_depth=15, max_leaf_nodes=500, min_samples_leaf=20,\n",
      "                      min_samples_split=10)\n"
     ]
    }
   ],
   "source": [
    "param_grid = {\n",
    "              \"min_samples_split\": [10, 20, 40, 80, 160],\n",
    "              \"max_depth\": [2, 6, 8, 10, 15, 20, 30, 40, 50],\n",
    "              \"min_samples_leaf\": [20, 40, 100, 200, 400],\n",
    "              \"max_leaf_nodes\": [5, 20, 100, 200, 500]\n",
    "              }\n",
    "\n",
    "dtr = DecisionTreeRegressor()\n",
    "dtr_cv = RandomizedSearchCV(dtr, param_grid, cv=5, n_iter = 1000, n_jobs=-1)\n",
    "dtr_cv.fit(train_features, train_target)\n",
    "print(dtr_cv.best_params_)\n",
    "print(dtr_cv.best_score_)\n",
    "print(dtr_cv.best_estimator_)"
   ]
  },
  {
   "cell_type": "markdown",
   "metadata": {},
   "source": [
    "### Results of predicting rent on test set using optimized decision tree"
   ]
  },
  {
   "cell_type": "code",
   "execution_count": 21,
   "metadata": {},
   "outputs": [
    {
     "name": "stdout",
     "output_type": "stream",
     "text": [
      "DecisionTreeRegressor\n",
      "Mean Squared Error:  2508147.9750483544\n",
      "CV Results:  [-2071613.93099836 -1979239.78232072 -2353279.84495234 -1512536.82748468\n",
      " -1498198.9586541 ]\n",
      "Mean CV Results:  -1882973.8688820384\n"
     ]
    }
   ],
   "source": [
    "optimized_dt = dtr_cv.best_estimator_\n",
    "test_pred = optimized_dt.predict(test_features)\n",
    "cv_results = cross_val_score(optimized_dt, train_features, train_target, cv=5, scoring = 'neg_mean_squared_error')\n",
    "print('DecisionTreeRegressor')\n",
    "print('Mean Squared Error: ', mean_squared_error(test_target, test_pred))\n",
    "print(\"CV Results: \", cv_results)\n",
    "print(\"Mean CV Results: \", np.mean(cv_results))"
   ]
  },
  {
   "cell_type": "markdown",
   "metadata": {},
   "source": [
    "### Test code to see parameters of RandomForestRegressor"
   ]
  },
  {
   "cell_type": "code",
   "execution_count": 22,
   "metadata": {},
   "outputs": [
    {
     "name": "stdout",
     "output_type": "stream",
     "text": [
      "{'bootstrap': True,\n",
      " 'ccp_alpha': 0.0,\n",
      " 'criterion': 'mse',\n",
      " 'max_depth': None,\n",
      " 'max_features': 'auto',\n",
      " 'max_leaf_nodes': None,\n",
      " 'max_samples': None,\n",
      " 'min_impurity_decrease': 0.0,\n",
      " 'min_impurity_split': None,\n",
      " 'min_samples_leaf': 1,\n",
      " 'min_samples_split': 2,\n",
      " 'min_weight_fraction_leaf': 0.0,\n",
      " 'n_estimators': 100,\n",
      " 'n_jobs': None,\n",
      " 'oob_score': False,\n",
      " 'random_state': 42,\n",
      " 'verbose': 0,\n",
      " 'warm_start': False}\n"
     ]
    }
   ],
   "source": [
    "rf = RandomForestRegressor(random_state = 42)\n",
    "\n",
    "from pprint import pprint\n",
    "\n",
    "pprint(rf.get_params())"
   ]
  },
  {
   "cell_type": "markdown",
   "metadata": {},
   "source": [
    "### Setting up hyperparameters for random forest training"
   ]
  },
  {
   "cell_type": "code",
   "execution_count": 23,
   "metadata": {},
   "outputs": [
    {
     "name": "stdout",
     "output_type": "stream",
     "text": [
      "{'bootstrap': [True, False],\n",
      " 'max_depth': [10, 20, 30, 40, 50, 60, 70, 80, 90, 100, None],\n",
      " 'max_features': ['auto', 'sqrt'],\n",
      " 'min_samples_leaf': [1, 2, 4, 8, 16, 32],\n",
      " 'min_samples_split': [2, 5, 10, 20, 50],\n",
      " 'n_estimators': [100, 200, 300, 400, 500, 600, 700, 800, 900, 1000]}\n"
     ]
    }
   ],
   "source": [
    "# Number of trees in random forest\n",
    "n_estimators = [int(x) for x in np.linspace(start = 100, stop = 1000, num = 10)]\n",
    "# Number of features to consider at every split\n",
    "max_features = ['auto', 'sqrt']\n",
    "# Maximum number of levels in tree\n",
    "max_depth = [int(x) for x in np.linspace(10, 100, num = 10)]\n",
    "max_depth.append(None)\n",
    "# Minimum number of samples required to split a node\n",
    "min_samples_split = [2, 5, 10, 20, 50]\n",
    "# Minimum number of samples required at each leaf node\n",
    "min_samples_leaf = [1, 2, 4, 8, 16, 32]\n",
    "# Method of selecting samples for training each tree\n",
    "bootstrap = [True, False]\n",
    "# Create the random grid\n",
    "random_grid = {'n_estimators': n_estimators,\n",
    "               'max_features': max_features,\n",
    "               'max_depth': max_depth,\n",
    "               'min_samples_split': min_samples_split,\n",
    "               'min_samples_leaf': min_samples_leaf,\n",
    "               'bootstrap': bootstrap}\n",
    "pprint(random_grid)"
   ]
  },
  {
   "cell_type": "markdown",
   "metadata": {},
   "source": [
    "### Random Search Training using 5 folds\n",
    "Note that this training takes at least 10 minutes on a MBP 2020."
   ]
  },
  {
   "cell_type": "code",
   "execution_count": 24,
   "metadata": {},
   "outputs": [
    {
     "data": {
      "text/plain": [
       "RandomizedSearchCV(cv=5, estimator=RandomForestRegressor(random_state=42),\n",
       "                   n_iter=50, n_jobs=-1,\n",
       "                   param_distributions={'bootstrap': [True, False],\n",
       "                                        'max_depth': [10, 20, 30, 40, 50, 60,\n",
       "                                                      70, 80, 90, 100, None],\n",
       "                                        'max_features': ['auto', 'sqrt'],\n",
       "                                        'min_samples_leaf': [1, 2, 4, 8, 16,\n",
       "                                                             32],\n",
       "                                        'min_samples_split': [2, 5, 10, 20, 50],\n",
       "                                        'n_estimators': [100, 200, 300, 400,\n",
       "                                                         500, 600, 700, 800,\n",
       "                                                         900, 1000]},\n",
       "                   random_state=42)"
      ]
     },
     "execution_count": 24,
     "metadata": {},
     "output_type": "execute_result"
    }
   ],
   "source": [
    "rf_random = RandomizedSearchCV(estimator = rf, param_distributions = random_grid, n_iter = 50,\n",
    "                              cv = 5, random_state = 42, n_jobs = -1)\n",
    "\n",
    "rf_random.fit(train_features, train_target)"
   ]
  },
  {
   "cell_type": "code",
   "execution_count": 25,
   "metadata": {},
   "outputs": [
    {
     "data": {
      "text/plain": [
       "{'n_estimators': 1000,\n",
       " 'min_samples_split': 2,\n",
       " 'min_samples_leaf': 1,\n",
       " 'max_features': 'sqrt',\n",
       " 'max_depth': 100,\n",
       " 'bootstrap': False}"
      ]
     },
     "execution_count": 25,
     "metadata": {},
     "output_type": "execute_result"
    }
   ],
   "source": [
    "rf_random.best_params_"
   ]
  },
  {
   "cell_type": "markdown",
   "metadata": {},
   "source": [
    "### Now testing optimized random forest and printing results"
   ]
  },
  {
   "cell_type": "code",
   "execution_count": 26,
   "metadata": {},
   "outputs": [
    {
     "name": "stdout",
     "output_type": "stream",
     "text": [
      "Mean Squared Error:  1586317.6677488303\n",
      "CV Results:  [-1515634.0809642   -856641.34880255 -1332940.63733162 -1104520.17186467\n",
      "  -569939.25852185]\n",
      "Mean CV Results:  -1075935.0994969807\n"
     ]
    }
   ],
   "source": [
    "optimized_rf =  rf_random.best_estimator_\n",
    "test_pred = optimized_rf.predict(test_features)\n",
    "cv_results = cross_val_score(optimized_rf, train_features, train_target, cv=5, scoring = 'neg_mean_squared_error')\n",
    "print('Mean Squared Error: ', mean_squared_error(test_target, test_pred))\n",
    "print(\"CV Results: \", cv_results)\n",
    "print(\"Mean CV Results: \", np.mean(cv_results))"
   ]
  },
  {
   "cell_type": "markdown",
   "metadata": {},
   "source": [
    "#### Mean Squared Error slightly decreases."
   ]
  },
  {
   "cell_type": "code",
   "execution_count": 27,
   "metadata": {},
   "outputs": [
    {
     "data": {
      "text/plain": [
       "array([ 2581.231     ,  2115.0815    ,  2933.0955    , ...,\n",
       "       14966.431     ,  3594.32      ,  2835.44166667])"
      ]
     },
     "execution_count": 27,
     "metadata": {},
     "output_type": "execute_result"
    }
   ],
   "source": [
    "test_pred"
   ]
  },
  {
   "cell_type": "code",
   "execution_count": 28,
   "metadata": {},
   "outputs": [
    {
     "name": "stdout",
     "output_type": "stream",
     "text": [
      "0           #1B\n",
      "1           #C4\n",
      "2       #GARDEN\n",
      "3           #2C\n",
      "4            #9\n",
      "         ...   \n",
      "1995        #4H\n",
      "1996       #11K\n",
      "1997       #44A\n",
      "1998       #15M\n",
      "1999         #3\n",
      "Name: addr_unit, Length: 2000, dtype: object\n"
     ]
    }
   ],
   "source": [
    "test_rental_id = test_df.iloc[:,0]\n",
    "print(test_rental_id)"
   ]
  },
  {
   "cell_type": "code",
   "execution_count": 29,
   "metadata": {},
   "outputs": [
    {
     "data": {
      "text/plain": [
       "0"
      ]
     },
     "execution_count": 29,
     "metadata": {},
     "output_type": "execute_result"
    }
   ],
   "source": [
    "# checking for any missing values in test3.csv\n",
    "submit2_features.isnull().sum().sum()"
   ]
  },
  {
   "cell_type": "code",
   "execution_count": 30,
   "metadata": {},
   "outputs": [
    {
     "data": {
      "text/html": [
       "<div>\n",
       "<style scoped>\n",
       "    .dataframe tbody tr th:only-of-type {\n",
       "        vertical-align: middle;\n",
       "    }\n",
       "\n",
       "    .dataframe tbody tr th {\n",
       "        vertical-align: top;\n",
       "    }\n",
       "\n",
       "    .dataframe thead th {\n",
       "        text-align: right;\n",
       "    }\n",
       "</style>\n",
       "<table border=\"1\" class=\"dataframe\">\n",
       "  <thead>\n",
       "    <tr style=\"text-align: right;\">\n",
       "      <th></th>\n",
       "      <th>bedrooms</th>\n",
       "      <th>bathrooms</th>\n",
       "      <th>size_sqft</th>\n",
       "      <th>addr_zip</th>\n",
       "      <th>bin</th>\n",
       "      <th>bbl</th>\n",
       "      <th>floor_count</th>\n",
       "      <th>has_doorman</th>\n",
       "      <th>has_elevator</th>\n",
       "      <th>has_fireplace</th>\n",
       "      <th>...</th>\n",
       "      <th>penal_law</th>\n",
       "      <th>robbery</th>\n",
       "      <th>burglary</th>\n",
       "      <th>misdemenor</th>\n",
       "      <th>felony</th>\n",
       "      <th>violation</th>\n",
       "      <th>has_garden</th>\n",
       "      <th>has_childrens_playroom</th>\n",
       "      <th>Number of Incidents</th>\n",
       "      <th>no_fee</th>\n",
       "    </tr>\n",
       "  </thead>\n",
       "  <tbody>\n",
       "  </tbody>\n",
       "</table>\n",
       "<p>0 rows × 38 columns</p>\n",
       "</div>"
      ],
      "text/plain": [
       "Empty DataFrame\n",
       "Columns: [bedrooms, bathrooms, size_sqft, addr_zip, bin, bbl, floor_count, has_doorman, has_elevator, has_fireplace, has_dishwasher, is_furnished, has_gym, allows_pets, has_washer_dryer, has_garage, has_roofdeck, has_concierge, has_pool, precinct, petit_larceny, harrassment_2, assault_3, criminal_mischief, grand_larceny, public_order, felony_assault, dangerous_drugs, penal_law, robbery, burglary, misdemenor, felony, violation, has_garden, has_childrens_playroom, Number of Incidents, no_fee]\n",
       "Index: []\n",
       "\n",
       "[0 rows x 38 columns]"
      ]
     },
     "execution_count": 30,
     "metadata": {},
     "output_type": "execute_result"
    }
   ],
   "source": [
    "submit2_features[submit2_features['bin'].isnull()]"
   ]
  },
  {
   "cell_type": "markdown",
   "metadata": {},
   "source": [
    "### Score of optimized RandomForestRegressor"
   ]
  },
  {
   "cell_type": "code",
   "execution_count": 31,
   "metadata": {},
   "outputs": [
    {
     "name": "stdout",
     "output_type": "stream",
     "text": [
      "0.9982678928817742\n"
     ]
    }
   ],
   "source": [
    "print(optimized_rf.score(train_features, train_target))"
   ]
  },
  {
   "cell_type": "markdown",
   "metadata": {},
   "source": [
    "### Create submission file for test2.csv (Commented out so the .csv doesn't get overwritten)"
   ]
  },
  {
   "cell_type": "code",
   "execution_count": 32,
   "metadata": {},
   "outputs": [],
   "source": [
    "#submit1_df['predictions'] = optimized_rf.predict(submit1_features)\n",
    "#submit1_df['predictions'].to_csv('test2_submission.csv', header=True)"
   ]
  },
  {
   "cell_type": "markdown",
   "metadata": {},
   "source": [
    "### Checking feature importance for optimized random forest"
   ]
  },
  {
   "cell_type": "code",
   "execution_count": 33,
   "metadata": {},
   "outputs": [
    {
     "name": "stdout",
     "output_type": "stream",
     "text": [
      "\n",
      "Feature Importances\n",
      "has_garage 0.21533041363453528\n",
      "has_childrens_playroom 0.37251453048823296\n",
      "has_fireplace 0.3789807657723585\n",
      "has_pool 0.3838676309700687\n",
      "felony 0.38977221990527616\n",
      "violation 0.39171188707543003\n",
      "allows_pets 0.4203396523674855\n",
      "public_order 0.4231835257052865\n",
      "harrassment_2 0.4365809812373733\n",
      "misdemenor 0.4391827265023041\n",
      "burglary 0.44263515761670535\n",
      "assault_3 0.521252287286668\n",
      "dangerous_drugs 0.5837657386867622\n",
      "has_roofdeck 0.5955063951093194\n",
      "is_furnished 0.6128651080079618\n",
      "petit_larceny 0.6347341903296588\n",
      "robbery 0.6770552218628956\n",
      "has_garden 0.6829348194696152\n",
      "has_concierge 0.709826566497936\n",
      "has_elevator 0.7201213878638644\n",
      "has_gym 0.7317171026956647\n",
      "has_doorman 0.7444095630821111\n",
      "felony_assault 0.7505653270032532\n",
      "has_dishwasher 0.8842519764552328\n",
      "criminal_mischief 0.885558311126352\n",
      "no_fee 1.0129609782538538\n",
      "Number of Incidents 1.3978557853999287\n",
      "grand_larceny 1.41188704677046\n",
      "penal_law 1.6553284684070948\n",
      "floor_count 2.5117456908884597\n",
      "addr_zip 3.1219921771479573\n",
      "precinct 3.327761796744291\n",
      "has_washer_dryer 3.376902441669068\n",
      "bin 3.919262930666853\n",
      "bbl 6.43746905451353\n",
      "bedrooms 8.075617862824672\n",
      "bathrooms 20.233043237023736\n",
      "size_sqft 29.489509042937744\n"
     ]
    }
   ],
   "source": [
    "helper.getSortedImportances(optimized_rf, features)"
   ]
  },
  {
   "cell_type": "code",
   "execution_count": 34,
   "metadata": {},
   "outputs": [
    {
     "name": "stdout",
     "output_type": "stream",
     "text": [
      "{'alpha': 0.9,\n",
      " 'ccp_alpha': 0.0,\n",
      " 'criterion': 'friedman_mse',\n",
      " 'init': None,\n",
      " 'learning_rate': 0.1,\n",
      " 'loss': 'ls',\n",
      " 'max_depth': 3,\n",
      " 'max_features': None,\n",
      " 'max_leaf_nodes': None,\n",
      " 'min_impurity_decrease': 0.0,\n",
      " 'min_impurity_split': None,\n",
      " 'min_samples_leaf': 1,\n",
      " 'min_samples_split': 2,\n",
      " 'min_weight_fraction_leaf': 0.0,\n",
      " 'n_estimators': 100,\n",
      " 'n_iter_no_change': None,\n",
      " 'random_state': 42,\n",
      " 'subsample': 1.0,\n",
      " 'tol': 0.0001,\n",
      " 'validation_fraction': 0.1,\n",
      " 'verbose': 0,\n",
      " 'warm_start': False}\n"
     ]
    }
   ],
   "source": [
    "gb = GradientBoostingRegressor(n_estimators=100, random_state=42)\n",
    "\n",
    "# not too important to care about. just wanted to see parameters inside\n",
    "from pprint import pprint\n",
    "\n",
    "pprint(gb.get_params())"
   ]
  },
  {
   "cell_type": "markdown",
   "metadata": {},
   "source": [
    "### Testing generic gradient boosting regressor again"
   ]
  },
  {
   "cell_type": "code",
   "execution_count": 35,
   "metadata": {},
   "outputs": [
    {
     "name": "stdout",
     "output_type": "stream",
     "text": [
      "Mean Squared Error:  1754236.671526169\n",
      "CV Results:  [-1320330.846369   -1132020.28829302 -1486759.85622686 -1228639.69550397\n",
      "  -721595.83625589]\n",
      "Mean CV Results:  -1177869.3045297486\n"
     ]
    }
   ],
   "source": [
    "gb.fit(train_features, train_target)\n",
    "test_pred = gb.predict(test_features)\n",
    "cv_results = cross_val_score(gb, train_features, train_target, cv=5, scoring = 'neg_mean_squared_error')\n",
    "print('Mean Squared Error: ', mean_squared_error(test_target, test_pred))\n",
    "print(\"CV Results: \", cv_results)\n",
    "print(\"Mean CV Results: \", np.mean(cv_results))"
   ]
  },
  {
   "cell_type": "markdown",
   "metadata": {},
   "source": [
    "### Using the R-squared value allows us to see how much of the variance in the data our model is explains."
   ]
  },
  {
   "cell_type": "code",
   "execution_count": 36,
   "metadata": {},
   "outputs": [
    {
     "name": "stdout",
     "output_type": "stream",
     "text": [
      "R-squared for Train: 0.91\n",
      "R-squared for Test: 0.76\n"
     ]
    }
   ],
   "source": [
    "print(\"R-squared for Train: %.2f\" %gb.score(train_features, train_target))\n",
    "print(\"R-squared for Test: %.2f\" %gb.score(test_features, test_target))"
   ]
  },
  {
   "cell_type": "markdown",
   "metadata": {},
   "source": [
    "### Setting up hyperparameters"
   ]
  },
  {
   "cell_type": "code",
   "execution_count": 37,
   "metadata": {},
   "outputs": [
    {
     "name": "stdout",
     "output_type": "stream",
     "text": [
      "{'learning_rate': [0.1, 0.05, 0.02, 0.01],\n",
      " 'max_depth': [2, 4, 6, 8, 10],\n",
      " 'max_features': [1.0, 0.5, 0.3, 0.1, 0.01, 0.001],\n",
      " 'min_samples_leaf': [3, 5, 7, 9, 15, 20],\n",
      " 'n_estimators': [100, 200, 300, 400, 500]}\n"
     ]
    }
   ],
   "source": [
    "# Number of trees to be modeled \n",
    "n_estimators = [100, 200, 300, 400, 500]\n",
    "    \n",
    "# Number of features to consider when searching for a best split\n",
    "max_features = [1.0, 0.5, 0.3, 0.1, 0.01, 0.001]\n",
    "\n",
    "# Represents the impact of each tree \n",
    "learning_rate = [0.1, 0.05, 0.02, 0.01]\n",
    "    \n",
    "# Maximum number of levels in tree\n",
    "max_depth = [2, 4, 6, 8, 10]\n",
    "    \n",
    "# Minimum number of samples required at each leaf node\n",
    "min_samples_leaf = [3, 5, 7, 9, 15, 20]\n",
    "    \n",
    "# Create the random grid\n",
    "random_grid = {'n_estimators': n_estimators,\n",
    "               'max_features': max_features,\n",
    "               'learning_rate': learning_rate,\n",
    "               'max_depth': max_depth,\n",
    "               'min_samples_leaf': min_samples_leaf}\n",
    "pprint(random_grid)"
   ]
  },
  {
   "cell_type": "markdown",
   "metadata": {},
   "source": [
    "### Random Search Training for Gradient Boosting "
   ]
  },
  {
   "cell_type": "code",
   "execution_count": 38,
   "metadata": {},
   "outputs": [
    {
     "data": {
      "text/plain": [
       "RandomizedSearchCV(cv=5, estimator=GradientBoostingRegressor(random_state=42),\n",
       "                   n_iter=50, n_jobs=-1,\n",
       "                   param_distributions={'learning_rate': [0.1, 0.05, 0.02,\n",
       "                                                          0.01],\n",
       "                                        'max_depth': [2, 4, 6, 8, 10],\n",
       "                                        'max_features': [1.0, 0.5, 0.3, 0.1,\n",
       "                                                         0.01, 0.001],\n",
       "                                        'min_samples_leaf': [3, 5, 7, 9, 15,\n",
       "                                                             20],\n",
       "                                        'n_estimators': [100, 200, 300, 400,\n",
       "                                                         500]},\n",
       "                   random_state=42)"
      ]
     },
     "execution_count": 38,
     "metadata": {},
     "output_type": "execute_result"
    }
   ],
   "source": [
    "gb_random = RandomizedSearchCV(estimator = gb, param_distributions = random_grid, n_iter = 50,\n",
    "                              cv = 5, random_state = 42, n_jobs = -1)\n",
    "\n",
    "gb_random.fit(train_features, train_target)"
   ]
  },
  {
   "cell_type": "code",
   "execution_count": 39,
   "metadata": {},
   "outputs": [
    {
     "data": {
      "text/plain": [
       "{'n_estimators': 500,\n",
       " 'min_samples_leaf': 9,\n",
       " 'max_features': 0.3,\n",
       " 'max_depth': 6,\n",
       " 'learning_rate': 0.1}"
      ]
     },
     "execution_count": 39,
     "metadata": {},
     "output_type": "execute_result"
    }
   ],
   "source": [
    "gb_random.best_params_"
   ]
  },
  {
   "cell_type": "markdown",
   "metadata": {},
   "source": [
    "### Training a hypertuned GradientBoostedRegressor"
   ]
  },
  {
   "cell_type": "code",
   "execution_count": 40,
   "metadata": {},
   "outputs": [
    {
     "name": "stdout",
     "output_type": "stream",
     "text": [
      "Mean Squared Error:  1535899.150927694\n",
      "CV Results:  [-1134631.78462521  -839270.18017644 -1333019.38860664  -944182.71242079\n",
      "  -652001.99726643]\n",
      "Mean CV Results:  -980621.2126191042\n"
     ]
    }
   ],
   "source": [
    "optimized_gb =  gb_random.best_estimator_\n",
    "test_pred = optimized_gb.predict(test_features)\n",
    "cv_results = cross_val_score(optimized_gb, train_features, train_target, cv=5, scoring = 'neg_mean_squared_error')\n",
    "print('Mean Squared Error: ', mean_squared_error(test_target, test_pred))\n",
    "print(\"CV Results: \", cv_results)\n",
    "print(\"Mean CV Results: \", np.mean(cv_results))"
   ]
  },
  {
   "cell_type": "markdown",
   "metadata": {},
   "source": [
    "### Testing each estimator for training and testing R^2 values"
   ]
  },
  {
   "cell_type": "code",
   "execution_count": 41,
   "metadata": {},
   "outputs": [],
   "source": [
    "lr = LinearRegression()\n",
    "dt = DecisionTreeRegressor()\n",
    "rf = RandomForestRegressor()\n",
    "gb = GradientBoostingRegressor()\n",
    "optimized_dt = dtr_cv.best_estimator_\n",
    "optimized_gb =  gb_random.best_estimator_\n",
    "\n",
    "estimators = [lr, dt, rf, gb, optimized_dt, optimized_gb]\n",
    "\n",
    "train_r2 = []\n",
    "test_r2 = []\n",
    "\n",
    "def getRSquared(estimator):\n",
    "    estimator.fit(train_features, train_target)\n",
    "    test_pred = estimator.predict(test_features)\n",
    "    train_cv_results = cross_val_score(estimator, train_features, train_target, cv=5, scoring = 'r2')\n",
    "    test_cv_results = cross_val_score(estimator, test_features, test_pred, cv=5, scoring = 'r2')\n",
    "    train_r2.append(np.mean(train_cv_results))\n",
    "    test_r2.append(np.mean(test_cv_results))"
   ]
  },
  {
   "cell_type": "code",
   "execution_count": 42,
   "metadata": {},
   "outputs": [],
   "source": [
    "for estimator in estimators:\n",
    "    getRSquared(estimator)"
   ]
  },
  {
   "cell_type": "code",
   "execution_count": 43,
   "metadata": {},
   "outputs": [
    {
     "data": {
      "image/png": "[encoded data removed]",
      "text/plain": [
       "<Figure size 432x288 with 1 Axes>"
      ]
     },
     "metadata": {
      "needs_background": "light"
     },
     "output_type": "display_data"
    }
   ],
   "source": [
    "n = 6\n",
    "ind = np.arange(n)  # the x locations for the groups\n",
    "width = 0.2       # the width of the bars\n",
    "\n",
    "fig = plt.figure()\n",
    "ax = fig.add_subplot(111)\n",
    "\n",
    "train_rect = ax.bar(ind, train_r2, width, color='r')\n",
    "test_rect = ax.bar(ind+width, test_r2, width, color='g')\n",
    "\n",
    "ax.set_ylabel('R2')\n",
    "ax.set_xticks(ind+width)\n",
    "ax.set_xticklabels( ['lr', 'dt', 'rf', 'gb', 'optimized_dt', 'optimized_gb'], rotation=45 )\n",
    "ax.legend( (train_rect[0], test_rect[0]), ('R2: Train', 'R2: Test'), loc=1, bbox_to_anchor=(0.5, 0.5, 0.8, 0.5) )\n",
    "plt.ylim((0.5,1.1))\n",
    "\n",
    "plt.show()"
   ]
  },
  {
   "cell_type": "markdown",
   "metadata": {},
   "source": [
    "### Create submission file for test3.csv (Commented out so the .csv doesn't get overwritten)"
   ]
  },
  {
   "cell_type": "code",
   "execution_count": 44,
   "metadata": {},
   "outputs": [],
   "source": [
    "# submit2_df['predictions'] = optimized_gb.predict(submit2_features)\n",
    "# submit2_df[['rental_id','predictions']].to_csv('test3_submission.csv', header=True, index=False)"
   ]
  },
  {
   "cell_type": "code",
   "execution_count": 45,
   "metadata": {},
   "outputs": [
    {
     "ename": "TypeError",
     "evalue": "getSortedImportances() missing 1 required positional argument: 'features_list'",
     "output_type": "error",
     "traceback": [
      "\u001b[0;31m---------------------------------------------------------------------------\u001b[0m",
      "\u001b[0;31mTypeError\u001b[0m                                 Traceback (most recent call last)",
      "\u001b[0;32m<ipython-input-45-e8bd601ac6a0>\u001b[0m in \u001b[0;36m<module>\u001b[0;34m\u001b[0m\n\u001b[0;32m----> 1\u001b[0;31m \u001b[0mhelper\u001b[0m\u001b[0;34m.\u001b[0m\u001b[0mgetSortedImportances\u001b[0m\u001b[0;34m(\u001b[0m\u001b[0moptimized_gb\u001b[0m\u001b[0;34m)\u001b[0m\u001b[0;34m\u001b[0m\u001b[0;34m\u001b[0m\u001b[0m\n\u001b[0m",
      "\u001b[0;31mTypeError\u001b[0m: getSortedImportances() missing 1 required positional argument: 'features_list'"
     ]
    }
   ],
   "source": [
    "helper.getSortedImportances(optimized_gb)"
   ]
  }
 ],
 "metadata": {
  "kernelspec": {
   "display_name": "Python 3",
   "language": "python",
   "name": "python3"
  },
  "language_info": {
   "codemirror_mode": {
    "name": "ipython",
    "version": 3
   },
   "file_extension": ".py",
   "mimetype": "text/x-python",
   "name": "python",
   "nbconvert_exporter": "python",
   "pygments_lexer": "ipython3",
   "version": "3.8.0"
  }
 },
 "nbformat": 4,
 "nbformat_minor": 2
}
