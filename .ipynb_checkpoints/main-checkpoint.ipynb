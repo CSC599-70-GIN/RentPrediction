{
 "cells": [
  {
   "cell_type": "code",
   "execution_count": 91,
   "metadata": {},
   "outputs": [],
   "source": [
    "import numpy as np\n",
    "import pandas as pd\n",
    "import matplotlib.pyplot as plt\n",
    "import joiningFunctions as jf\n",
    "from matplotlib.legend_handler import HandlerLine2D\n",
    "from sklearn.linear_model import LinearRegression\n",
    "from sklearn.tree import DecisionTreeRegressor\n",
    "from sklearn.metrics import mean_squared_error\n",
    "from sklearn.ensemble import RandomForestRegressor\n",
    "from sklearn.ensemble import GradientBoostingRegressor\n",
    "from sklearn.model_selection import cross_val_score\n",
    "from sklearn.model_selection import GridSearchCV\n",
    "from sklearn.model_selection import RandomizedSearchCV\n",
    "import time\n",
    "\n",
    "%matplotlib inline"
   ]
  },
  {
   "cell_type": "code",
   "execution_count": 171,
   "metadata": {},
   "outputs": [],
   "source": [
    "train_df = pd.read_csv('https://grantmlong.com/data/SE_rents2018_train.csv', index_col=0)\n",
    "test_df = pd.read_csv('https://grantmlong.com/data/SE_rents2018_test1.csv', index_col=0)\n",
    "submit1_df = pd.read_csv('https://grantmlong.com/data/SE_rents2018_test2.csv')\n",
    "submit2_df = pd.read_csv('https://grantmlong.com/data/SE_rents2018_test3.csv')\n",
    "nypd_complaints = pd.read_csv('2018_NYPD_Complaints.csv', index_col=0)\n",
    "zip_incident =  pd.read_csv('zip_incident_df.csv',index_col=0)"
   ]
  },
  {
   "cell_type": "code",
   "execution_count": 172,
   "metadata": {},
   "outputs": [
    {
     "data": {
      "text/plain": [
       "Index(['addr_unit', 'building_id', 'bedrooms', 'bathrooms', 'size_sqft',\n",
       "       'created_at', 'addr_street', 'addr_city', 'addr_zip', 'addr_lat',\n",
       "       'addr_lon', 'bin', 'bbl', 'floor_count', 'year_built', 'min_to_subway',\n",
       "       'has_doorman', 'has_elevator', 'has_fireplace', 'has_dishwasher',\n",
       "       'is_furnished', 'has_gym', 'allows_pets', 'has_washer_dryer',\n",
       "       'has_garage', 'has_roofdeck', 'has_concierge', 'has_pool', 'has_garden',\n",
       "       'has_childrens_playroom', 'rent', 'no_fee', 'description',\n",
       "       'neighborhood', 'borough', 'unit', 'floornumber', 'line', 'precinct',\n",
       "       'petit_larceny', 'harrassment_2', 'assault_3', 'criminal_mischief',\n",
       "       'grand_larceny', 'public_order', 'felony_assault', 'dangerous_drugs',\n",
       "       'penal_law', 'robbery', 'burglary', 'misdemenor', 'felony', 'violation',\n",
       "       'Number of Incidents'],\n",
       "      dtype='object')"
      ]
     },
     "execution_count": 172,
     "metadata": {},
     "output_type": "execute_result"
    }
   ],
   "source": [
    "train_df = jf.joinRentNYPD(train_df, nypd_complaints)\n",
    "train_df = jf.jointRent311(train_df, zip_incident)\n",
    "\n",
    "test_df = jf.joinRentNYPD(test_df, nypd_complaints)\n",
    "test_df = jf.jointRent311(test_df, zip_incident)\n",
    "\n",
    "submit1_df = jf.joinRentNYPD(submit1_df, nypd_complaints)\n",
    "submit1_df = jf.jointRent311(submit1_df, zip_incident)\n",
    "\n",
    "submit2_df = jf.joinRentNYPD(submit2_df, nypd_complaints)\n",
    "submit2_df = jf.jointRent311(submit2_df, zip_incident)\n",
    "\n",
    "train_df.columns"
   ]
  },
  {
   "cell_type": "code",
   "execution_count": 173,
   "metadata": {},
   "outputs": [
    {
     "data": {
      "text/plain": [
       "(12000, 54)"
      ]
     },
     "execution_count": 173,
     "metadata": {},
     "output_type": "execute_result"
    }
   ],
   "source": [
    "train_df.shape"
   ]
  },
  {
   "cell_type": "code",
   "execution_count": 174,
   "metadata": {},
   "outputs": [
    {
     "data": {
      "text/plain": [
       "(2000, 54)"
      ]
     },
     "execution_count": 174,
     "metadata": {},
     "output_type": "execute_result"
    }
   ],
   "source": [
    "test_df.shape"
   ]
  },
  {
   "cell_type": "code",
   "execution_count": 175,
   "metadata": {},
   "outputs": [
    {
     "data": {
      "text/html": [
       "<div>\n",
       "<style scoped>\n",
       "    .dataframe tbody tr th:only-of-type {\n",
       "        vertical-align: middle;\n",
       "    }\n",
       "\n",
       "    .dataframe tbody tr th {\n",
       "        vertical-align: top;\n",
       "    }\n",
       "\n",
       "    .dataframe thead th {\n",
       "        text-align: right;\n",
       "    }\n",
       "</style>\n",
       "<table border=\"1\" class=\"dataframe\">\n",
       "  <thead>\n",
       "    <tr style=\"text-align: right;\">\n",
       "      <th></th>\n",
       "      <th>538</th>\n",
       "      <th>6158</th>\n",
       "      <th>7451</th>\n",
       "      <th>7523</th>\n",
       "      <th>7402</th>\n",
       "    </tr>\n",
       "  </thead>\n",
       "  <tbody>\n",
       "    <tr>\n",
       "      <th>addr_unit</th>\n",
       "      <td>#2C</td>\n",
       "      <td>#22</td>\n",
       "      <td>#9H</td>\n",
       "      <td>#2A</td>\n",
       "      <td>#19</td>\n",
       "    </tr>\n",
       "    <tr>\n",
       "      <th>building_id</th>\n",
       "      <td>143128</td>\n",
       "      <td>1299181</td>\n",
       "      <td>141877</td>\n",
       "      <td>667540</td>\n",
       "      <td>53230</td>\n",
       "    </tr>\n",
       "    <tr>\n",
       "      <th>bedrooms</th>\n",
       "      <td>1</td>\n",
       "      <td>2</td>\n",
       "      <td>1</td>\n",
       "      <td>2</td>\n",
       "      <td>2</td>\n",
       "    </tr>\n",
       "    <tr>\n",
       "      <th>bathrooms</th>\n",
       "      <td>1</td>\n",
       "      <td>2</td>\n",
       "      <td>1</td>\n",
       "      <td>1</td>\n",
       "      <td>1</td>\n",
       "    </tr>\n",
       "    <tr>\n",
       "      <th>size_sqft</th>\n",
       "      <td>822</td>\n",
       "      <td>1100</td>\n",
       "      <td>800</td>\n",
       "      <td>860</td>\n",
       "      <td>780</td>\n",
       "    </tr>\n",
       "    <tr>\n",
       "      <th>created_at</th>\n",
       "      <td>2018-05-20 14:03:25</td>\n",
       "      <td>2018-07-19 14:06:46</td>\n",
       "      <td>2018-05-23 16:53:51</td>\n",
       "      <td>2018-07-24 18:19:31</td>\n",
       "      <td>2018-05-04 19:47:01</td>\n",
       "    </tr>\n",
       "    <tr>\n",
       "      <th>addr_street</th>\n",
       "      <td>225 SCHERMERHORN STREET</td>\n",
       "      <td>23-01 21 AVENUE</td>\n",
       "      <td>100 JAY STREET</td>\n",
       "      <td>176 GELSTON AVENUE</td>\n",
       "      <td>411 WEST 44 STREET</td>\n",
       "    </tr>\n",
       "    <tr>\n",
       "      <th>addr_city</th>\n",
       "      <td>Brooklyn</td>\n",
       "      <td>Astoria</td>\n",
       "      <td>Brooklyn</td>\n",
       "      <td>Brooklyn</td>\n",
       "      <td>New York</td>\n",
       "    </tr>\n",
       "    <tr>\n",
       "      <th>addr_zip</th>\n",
       "      <td>11201</td>\n",
       "      <td>11105</td>\n",
       "      <td>11201</td>\n",
       "      <td>11209</td>\n",
       "      <td>10036</td>\n",
       "    </tr>\n",
       "    <tr>\n",
       "      <th>addr_lat</th>\n",
       "      <td>40.689</td>\n",
       "      <td>40.7815</td>\n",
       "      <td>40.702</td>\n",
       "      <td>40.6172</td>\n",
       "      <td>40.7603</td>\n",
       "    </tr>\n",
       "    <tr>\n",
       "      <th>addr_lon</th>\n",
       "      <td>-73.985</td>\n",
       "      <td>-73.913</td>\n",
       "      <td>-73.9871</td>\n",
       "      <td>-74.029</td>\n",
       "      <td>-73.9923</td>\n",
       "    </tr>\n",
       "    <tr>\n",
       "      <th>bin</th>\n",
       "      <td>3.39744e+06</td>\n",
       "      <td>4.54011e+06</td>\n",
       "      <td>3.39119e+06</td>\n",
       "      <td>3.15533e+06</td>\n",
       "      <td>1.02641e+06</td>\n",
       "    </tr>\n",
       "    <tr>\n",
       "      <th>bbl</th>\n",
       "      <td>3001657501</td>\n",
       "      <td>4008817501</td>\n",
       "      <td>3000537501</td>\n",
       "      <td>3061090037</td>\n",
       "      <td>1010540024</td>\n",
       "    </tr>\n",
       "    <tr>\n",
       "      <th>floor_count</th>\n",
       "      <td>27</td>\n",
       "      <td>4</td>\n",
       "      <td>31</td>\n",
       "      <td>2</td>\n",
       "      <td>6</td>\n",
       "    </tr>\n",
       "    <tr>\n",
       "      <th>year_built</th>\n",
       "      <td>2011</td>\n",
       "      <td>2008</td>\n",
       "      <td>2006</td>\n",
       "      <td>1930</td>\n",
       "      <td>1920</td>\n",
       "    </tr>\n",
       "    <tr>\n",
       "      <th>min_to_subway</th>\n",
       "      <td>0.5333</td>\n",
       "      <td>7.15</td>\n",
       "      <td>0.7333</td>\n",
       "      <td>2.1833</td>\n",
       "      <td>4.0667</td>\n",
       "    </tr>\n",
       "    <tr>\n",
       "      <th>has_doorman</th>\n",
       "      <td>1</td>\n",
       "      <td>1</td>\n",
       "      <td>1</td>\n",
       "      <td>0</td>\n",
       "      <td>0</td>\n",
       "    </tr>\n",
       "    <tr>\n",
       "      <th>has_elevator</th>\n",
       "      <td>1</td>\n",
       "      <td>1</td>\n",
       "      <td>1</td>\n",
       "      <td>0</td>\n",
       "      <td>0</td>\n",
       "    </tr>\n",
       "    <tr>\n",
       "      <th>has_fireplace</th>\n",
       "      <td>0</td>\n",
       "      <td>0</td>\n",
       "      <td>0</td>\n",
       "      <td>0</td>\n",
       "      <td>0</td>\n",
       "    </tr>\n",
       "    <tr>\n",
       "      <th>has_dishwasher</th>\n",
       "      <td>1</td>\n",
       "      <td>1</td>\n",
       "      <td>1</td>\n",
       "      <td>0</td>\n",
       "      <td>0</td>\n",
       "    </tr>\n",
       "    <tr>\n",
       "      <th>is_furnished</th>\n",
       "      <td>0</td>\n",
       "      <td>0</td>\n",
       "      <td>0</td>\n",
       "      <td>0</td>\n",
       "      <td>0</td>\n",
       "    </tr>\n",
       "    <tr>\n",
       "      <th>has_gym</th>\n",
       "      <td>1</td>\n",
       "      <td>1</td>\n",
       "      <td>1</td>\n",
       "      <td>0</td>\n",
       "      <td>0</td>\n",
       "    </tr>\n",
       "    <tr>\n",
       "      <th>allows_pets</th>\n",
       "      <td>1</td>\n",
       "      <td>1</td>\n",
       "      <td>1</td>\n",
       "      <td>0</td>\n",
       "      <td>1</td>\n",
       "    </tr>\n",
       "    <tr>\n",
       "      <th>has_washer_dryer</th>\n",
       "      <td>1</td>\n",
       "      <td>1</td>\n",
       "      <td>1</td>\n",
       "      <td>0</td>\n",
       "      <td>0</td>\n",
       "    </tr>\n",
       "    <tr>\n",
       "      <th>has_garage</th>\n",
       "      <td>0</td>\n",
       "      <td>0</td>\n",
       "      <td>0</td>\n",
       "      <td>0</td>\n",
       "      <td>0</td>\n",
       "    </tr>\n",
       "    <tr>\n",
       "      <th>has_roofdeck</th>\n",
       "      <td>0</td>\n",
       "      <td>0</td>\n",
       "      <td>1</td>\n",
       "      <td>0</td>\n",
       "      <td>0</td>\n",
       "    </tr>\n",
       "    <tr>\n",
       "      <th>has_concierge</th>\n",
       "      <td>0</td>\n",
       "      <td>1</td>\n",
       "      <td>1</td>\n",
       "      <td>0</td>\n",
       "      <td>0</td>\n",
       "    </tr>\n",
       "    <tr>\n",
       "      <th>has_pool</th>\n",
       "      <td>0</td>\n",
       "      <td>0</td>\n",
       "      <td>0</td>\n",
       "      <td>0</td>\n",
       "      <td>0</td>\n",
       "    </tr>\n",
       "    <tr>\n",
       "      <th>has_garden</th>\n",
       "      <td>0</td>\n",
       "      <td>0</td>\n",
       "      <td>1</td>\n",
       "      <td>0</td>\n",
       "      <td>0</td>\n",
       "    </tr>\n",
       "    <tr>\n",
       "      <th>has_childrens_playroom</th>\n",
       "      <td>0</td>\n",
       "      <td>0</td>\n",
       "      <td>1</td>\n",
       "      <td>0</td>\n",
       "      <td>0</td>\n",
       "    </tr>\n",
       "    <tr>\n",
       "      <th>rent</th>\n",
       "      <td>4000</td>\n",
       "      <td>3295</td>\n",
       "      <td>3400</td>\n",
       "      <td>2100</td>\n",
       "      <td>3400</td>\n",
       "    </tr>\n",
       "    <tr>\n",
       "      <th>no_fee</th>\n",
       "      <td>1</td>\n",
       "      <td>0</td>\n",
       "      <td>0</td>\n",
       "      <td>0</td>\n",
       "      <td>1</td>\n",
       "    </tr>\n",
       "    <tr>\n",
       "      <th>description</th>\n",
       "      <td>Spacious 1 Bedroom Home Office in the heart of...</td>\n",
       "      <td>True love is hard to find. Rare, Stunning, 2 b...</td>\n",
       "      <td>**APPLICATION PENDING CONDO APPROVAL)\\n\\nA spa...</td>\n",
       "      <td>Enjoy outdoor space in this apartment! This Go...</td>\n",
       "      <td>Sunny TRUE Two Bedroom Apt\\r\\n\\r\\nTrue two bed...</td>\n",
       "    </tr>\n",
       "    <tr>\n",
       "      <th>neighborhood</th>\n",
       "      <td>Downtown Brooklyn</td>\n",
       "      <td>Astoria</td>\n",
       "      <td>DUMBO</td>\n",
       "      <td>Bay Ridge</td>\n",
       "      <td>Midtown West</td>\n",
       "    </tr>\n",
       "    <tr>\n",
       "      <th>borough</th>\n",
       "      <td>Brooklyn</td>\n",
       "      <td>Queens</td>\n",
       "      <td>Brooklyn</td>\n",
       "      <td>Brooklyn</td>\n",
       "      <td>Manhattan</td>\n",
       "    </tr>\n",
       "    <tr>\n",
       "      <th>unit</th>\n",
       "      <td>2C</td>\n",
       "      <td>22</td>\n",
       "      <td>9H</td>\n",
       "      <td>2A</td>\n",
       "      <td>19</td>\n",
       "    </tr>\n",
       "    <tr>\n",
       "      <th>floornumber</th>\n",
       "      <td>2</td>\n",
       "      <td>NaN</td>\n",
       "      <td>9</td>\n",
       "      <td>2</td>\n",
       "      <td>NaN</td>\n",
       "    </tr>\n",
       "    <tr>\n",
       "      <th>line</th>\n",
       "      <td>C</td>\n",
       "      <td>NaN</td>\n",
       "      <td>H</td>\n",
       "      <td>A</td>\n",
       "      <td>NaN</td>\n",
       "    </tr>\n",
       "    <tr>\n",
       "      <th>precinct</th>\n",
       "      <td>84</td>\n",
       "      <td>114</td>\n",
       "      <td>84</td>\n",
       "      <td>68</td>\n",
       "      <td>18</td>\n",
       "    </tr>\n",
       "    <tr>\n",
       "      <th>petit_larceny</th>\n",
       "      <td>1469</td>\n",
       "      <td>1484</td>\n",
       "      <td>1469</td>\n",
       "      <td>858</td>\n",
       "      <td>2048</td>\n",
       "    </tr>\n",
       "    <tr>\n",
       "      <th>harrassment_2</th>\n",
       "      <td>747</td>\n",
       "      <td>1280</td>\n",
       "      <td>747</td>\n",
       "      <td>476</td>\n",
       "      <td>1184</td>\n",
       "    </tr>\n",
       "    <tr>\n",
       "      <th>assault_3</th>\n",
       "      <td>482</td>\n",
       "      <td>951</td>\n",
       "      <td>482</td>\n",
       "      <td>329</td>\n",
       "      <td>790</td>\n",
       "    </tr>\n",
       "    <tr>\n",
       "      <th>criminal_mischief</th>\n",
       "      <td>392</td>\n",
       "      <td>869</td>\n",
       "      <td>392</td>\n",
       "      <td>431</td>\n",
       "      <td>416</td>\n",
       "    </tr>\n",
       "    <tr>\n",
       "      <th>grand_larceny</th>\n",
       "      <td>650</td>\n",
       "      <td>787</td>\n",
       "      <td>650</td>\n",
       "      <td>386</td>\n",
       "      <td>1877</td>\n",
       "    </tr>\n",
       "    <tr>\n",
       "      <th>public_order</th>\n",
       "      <td>163</td>\n",
       "      <td>496</td>\n",
       "      <td>163</td>\n",
       "      <td>187</td>\n",
       "      <td>333</td>\n",
       "    </tr>\n",
       "    <tr>\n",
       "      <th>felony_assault</th>\n",
       "      <td>184</td>\n",
       "      <td>357</td>\n",
       "      <td>184</td>\n",
       "      <td>129</td>\n",
       "      <td>190</td>\n",
       "    </tr>\n",
       "    <tr>\n",
       "      <th>dangerous_drugs</th>\n",
       "      <td>90</td>\n",
       "      <td>145</td>\n",
       "      <td>90</td>\n",
       "      <td>442</td>\n",
       "      <td>215</td>\n",
       "    </tr>\n",
       "    <tr>\n",
       "      <th>penal_law</th>\n",
       "      <td>137</td>\n",
       "      <td>323</td>\n",
       "      <td>137</td>\n",
       "      <td>154</td>\n",
       "      <td>85</td>\n",
       "    </tr>\n",
       "    <tr>\n",
       "      <th>robbery</th>\n",
       "      <td>147</td>\n",
       "      <td>193</td>\n",
       "      <td>147</td>\n",
       "      <td>59</td>\n",
       "      <td>130</td>\n",
       "    </tr>\n",
       "    <tr>\n",
       "      <th>burglary</th>\n",
       "      <td>126</td>\n",
       "      <td>171</td>\n",
       "      <td>126</td>\n",
       "      <td>98</td>\n",
       "      <td>175</td>\n",
       "    </tr>\n",
       "    <tr>\n",
       "      <th>misdemenor</th>\n",
       "      <td>2457</td>\n",
       "      <td>3658</td>\n",
       "      <td>2457</td>\n",
       "      <td>1900</td>\n",
       "      <td>3670</td>\n",
       "    </tr>\n",
       "    <tr>\n",
       "      <th>felony</th>\n",
       "      <td>1375</td>\n",
       "      <td>2108</td>\n",
       "      <td>1375</td>\n",
       "      <td>1160</td>\n",
       "      <td>2575</td>\n",
       "    </tr>\n",
       "    <tr>\n",
       "      <th>violation</th>\n",
       "      <td>755</td>\n",
       "      <td>1290</td>\n",
       "      <td>755</td>\n",
       "      <td>489</td>\n",
       "      <td>1198</td>\n",
       "    </tr>\n",
       "    <tr>\n",
       "      <th>Number of Incidents</th>\n",
       "      <td>5803</td>\n",
       "      <td>3648</td>\n",
       "      <td>5803</td>\n",
       "      <td>7620</td>\n",
       "      <td>5075</td>\n",
       "    </tr>\n",
       "  </tbody>\n",
       "</table>\n",
       "</div>"
      ],
      "text/plain": [
       "                                                                     538   \\\n",
       "addr_unit                                                             #2C   \n",
       "building_id                                                        143128   \n",
       "bedrooms                                                                1   \n",
       "bathrooms                                                               1   \n",
       "size_sqft                                                             822   \n",
       "created_at                                            2018-05-20 14:03:25   \n",
       "addr_street                                       225 SCHERMERHORN STREET   \n",
       "addr_city                                                        Brooklyn   \n",
       "addr_zip                                                            11201   \n",
       "addr_lat                                                           40.689   \n",
       "addr_lon                                                          -73.985   \n",
       "bin                                                           3.39744e+06   \n",
       "bbl                                                            3001657501   \n",
       "floor_count                                                            27   \n",
       "year_built                                                           2011   \n",
       "min_to_subway                                                      0.5333   \n",
       "has_doorman                                                             1   \n",
       "has_elevator                                                            1   \n",
       "has_fireplace                                                           0   \n",
       "has_dishwasher                                                          1   \n",
       "is_furnished                                                            0   \n",
       "has_gym                                                                 1   \n",
       "allows_pets                                                             1   \n",
       "has_washer_dryer                                                        1   \n",
       "has_garage                                                              0   \n",
       "has_roofdeck                                                            0   \n",
       "has_concierge                                                           0   \n",
       "has_pool                                                                0   \n",
       "has_garden                                                              0   \n",
       "has_childrens_playroom                                                  0   \n",
       "rent                                                                 4000   \n",
       "no_fee                                                                  1   \n",
       "description             Spacious 1 Bedroom Home Office in the heart of...   \n",
       "neighborhood                                            Downtown Brooklyn   \n",
       "borough                                                          Brooklyn   \n",
       "unit                                                                   2C   \n",
       "floornumber                                                             2   \n",
       "line                                                                    C   \n",
       "precinct                                                               84   \n",
       "petit_larceny                                                        1469   \n",
       "harrassment_2                                                         747   \n",
       "assault_3                                                             482   \n",
       "criminal_mischief                                                     392   \n",
       "grand_larceny                                                         650   \n",
       "public_order                                                          163   \n",
       "felony_assault                                                        184   \n",
       "dangerous_drugs                                                        90   \n",
       "penal_law                                                             137   \n",
       "robbery                                                               147   \n",
       "burglary                                                              126   \n",
       "misdemenor                                                           2457   \n",
       "felony                                                               1375   \n",
       "violation                                                             755   \n",
       "Number of Incidents                                                  5803   \n",
       "\n",
       "                                                                     6158  \\\n",
       "addr_unit                                                             #22   \n",
       "building_id                                                       1299181   \n",
       "bedrooms                                                                2   \n",
       "bathrooms                                                               2   \n",
       "size_sqft                                                            1100   \n",
       "created_at                                            2018-07-19 14:06:46   \n",
       "addr_street                                               23-01 21 AVENUE   \n",
       "addr_city                                                         Astoria   \n",
       "addr_zip                                                            11105   \n",
       "addr_lat                                                          40.7815   \n",
       "addr_lon                                                          -73.913   \n",
       "bin                                                           4.54011e+06   \n",
       "bbl                                                            4008817501   \n",
       "floor_count                                                             4   \n",
       "year_built                                                           2008   \n",
       "min_to_subway                                                        7.15   \n",
       "has_doorman                                                             1   \n",
       "has_elevator                                                            1   \n",
       "has_fireplace                                                           0   \n",
       "has_dishwasher                                                          1   \n",
       "is_furnished                                                            0   \n",
       "has_gym                                                                 1   \n",
       "allows_pets                                                             1   \n",
       "has_washer_dryer                                                        1   \n",
       "has_garage                                                              0   \n",
       "has_roofdeck                                                            0   \n",
       "has_concierge                                                           1   \n",
       "has_pool                                                                0   \n",
       "has_garden                                                              0   \n",
       "has_childrens_playroom                                                  0   \n",
       "rent                                                                 3295   \n",
       "no_fee                                                                  0   \n",
       "description             True love is hard to find. Rare, Stunning, 2 b...   \n",
       "neighborhood                                                      Astoria   \n",
       "borough                                                            Queens   \n",
       "unit                                                                   22   \n",
       "floornumber                                                           NaN   \n",
       "line                                                                  NaN   \n",
       "precinct                                                              114   \n",
       "petit_larceny                                                        1484   \n",
       "harrassment_2                                                        1280   \n",
       "assault_3                                                             951   \n",
       "criminal_mischief                                                     869   \n",
       "grand_larceny                                                         787   \n",
       "public_order                                                          496   \n",
       "felony_assault                                                        357   \n",
       "dangerous_drugs                                                       145   \n",
       "penal_law                                                             323   \n",
       "robbery                                                               193   \n",
       "burglary                                                              171   \n",
       "misdemenor                                                           3658   \n",
       "felony                                                               2108   \n",
       "violation                                                            1290   \n",
       "Number of Incidents                                                  3648   \n",
       "\n",
       "                                                                     7451  \\\n",
       "addr_unit                                                             #9H   \n",
       "building_id                                                        141877   \n",
       "bedrooms                                                                1   \n",
       "bathrooms                                                               1   \n",
       "size_sqft                                                             800   \n",
       "created_at                                            2018-05-23 16:53:51   \n",
       "addr_street                                                100 JAY STREET   \n",
       "addr_city                                                        Brooklyn   \n",
       "addr_zip                                                            11201   \n",
       "addr_lat                                                           40.702   \n",
       "addr_lon                                                         -73.9871   \n",
       "bin                                                           3.39119e+06   \n",
       "bbl                                                            3000537501   \n",
       "floor_count                                                            31   \n",
       "year_built                                                           2006   \n",
       "min_to_subway                                                      0.7333   \n",
       "has_doorman                                                             1   \n",
       "has_elevator                                                            1   \n",
       "has_fireplace                                                           0   \n",
       "has_dishwasher                                                          1   \n",
       "is_furnished                                                            0   \n",
       "has_gym                                                                 1   \n",
       "allows_pets                                                             1   \n",
       "has_washer_dryer                                                        1   \n",
       "has_garage                                                              0   \n",
       "has_roofdeck                                                            1   \n",
       "has_concierge                                                           1   \n",
       "has_pool                                                                0   \n",
       "has_garden                                                              1   \n",
       "has_childrens_playroom                                                  1   \n",
       "rent                                                                 3400   \n",
       "no_fee                                                                  0   \n",
       "description             **APPLICATION PENDING CONDO APPROVAL)\\n\\nA spa...   \n",
       "neighborhood                                                        DUMBO   \n",
       "borough                                                          Brooklyn   \n",
       "unit                                                                   9H   \n",
       "floornumber                                                             9   \n",
       "line                                                                    H   \n",
       "precinct                                                               84   \n",
       "petit_larceny                                                        1469   \n",
       "harrassment_2                                                         747   \n",
       "assault_3                                                             482   \n",
       "criminal_mischief                                                     392   \n",
       "grand_larceny                                                         650   \n",
       "public_order                                                          163   \n",
       "felony_assault                                                        184   \n",
       "dangerous_drugs                                                        90   \n",
       "penal_law                                                             137   \n",
       "robbery                                                               147   \n",
       "burglary                                                              126   \n",
       "misdemenor                                                           2457   \n",
       "felony                                                               1375   \n",
       "violation                                                             755   \n",
       "Number of Incidents                                                  5803   \n",
       "\n",
       "                                                                     7523  \\\n",
       "addr_unit                                                             #2A   \n",
       "building_id                                                        667540   \n",
       "bedrooms                                                                2   \n",
       "bathrooms                                                               1   \n",
       "size_sqft                                                             860   \n",
       "created_at                                            2018-07-24 18:19:31   \n",
       "addr_street                                            176 GELSTON AVENUE   \n",
       "addr_city                                                        Brooklyn   \n",
       "addr_zip                                                            11209   \n",
       "addr_lat                                                          40.6172   \n",
       "addr_lon                                                          -74.029   \n",
       "bin                                                           3.15533e+06   \n",
       "bbl                                                            3061090037   \n",
       "floor_count                                                             2   \n",
       "year_built                                                           1930   \n",
       "min_to_subway                                                      2.1833   \n",
       "has_doorman                                                             0   \n",
       "has_elevator                                                            0   \n",
       "has_fireplace                                                           0   \n",
       "has_dishwasher                                                          0   \n",
       "is_furnished                                                            0   \n",
       "has_gym                                                                 0   \n",
       "allows_pets                                                             0   \n",
       "has_washer_dryer                                                        0   \n",
       "has_garage                                                              0   \n",
       "has_roofdeck                                                            0   \n",
       "has_concierge                                                           0   \n",
       "has_pool                                                                0   \n",
       "has_garden                                                              0   \n",
       "has_childrens_playroom                                                  0   \n",
       "rent                                                                 2100   \n",
       "no_fee                                                                  0   \n",
       "description             Enjoy outdoor space in this apartment! This Go...   \n",
       "neighborhood                                                    Bay Ridge   \n",
       "borough                                                          Brooklyn   \n",
       "unit                                                                   2A   \n",
       "floornumber                                                             2   \n",
       "line                                                                    A   \n",
       "precinct                                                               68   \n",
       "petit_larceny                                                         858   \n",
       "harrassment_2                                                         476   \n",
       "assault_3                                                             329   \n",
       "criminal_mischief                                                     431   \n",
       "grand_larceny                                                         386   \n",
       "public_order                                                          187   \n",
       "felony_assault                                                        129   \n",
       "dangerous_drugs                                                       442   \n",
       "penal_law                                                             154   \n",
       "robbery                                                                59   \n",
       "burglary                                                               98   \n",
       "misdemenor                                                           1900   \n",
       "felony                                                               1160   \n",
       "violation                                                             489   \n",
       "Number of Incidents                                                  7620   \n",
       "\n",
       "                                                                     7402  \n",
       "addr_unit                                                             #19  \n",
       "building_id                                                         53230  \n",
       "bedrooms                                                                2  \n",
       "bathrooms                                                               1  \n",
       "size_sqft                                                             780  \n",
       "created_at                                            2018-05-04 19:47:01  \n",
       "addr_street                                            411 WEST 44 STREET  \n",
       "addr_city                                                        New York  \n",
       "addr_zip                                                            10036  \n",
       "addr_lat                                                          40.7603  \n",
       "addr_lon                                                         -73.9923  \n",
       "bin                                                           1.02641e+06  \n",
       "bbl                                                            1010540024  \n",
       "floor_count                                                             6  \n",
       "year_built                                                           1920  \n",
       "min_to_subway                                                      4.0667  \n",
       "has_doorman                                                             0  \n",
       "has_elevator                                                            0  \n",
       "has_fireplace                                                           0  \n",
       "has_dishwasher                                                          0  \n",
       "is_furnished                                                            0  \n",
       "has_gym                                                                 0  \n",
       "allows_pets                                                             1  \n",
       "has_washer_dryer                                                        0  \n",
       "has_garage                                                              0  \n",
       "has_roofdeck                                                            0  \n",
       "has_concierge                                                           0  \n",
       "has_pool                                                                0  \n",
       "has_garden                                                              0  \n",
       "has_childrens_playroom                                                  0  \n",
       "rent                                                                 3400  \n",
       "no_fee                                                                  1  \n",
       "description             Sunny TRUE Two Bedroom Apt\\r\\n\\r\\nTrue two bed...  \n",
       "neighborhood                                                 Midtown West  \n",
       "borough                                                         Manhattan  \n",
       "unit                                                                   19  \n",
       "floornumber                                                           NaN  \n",
       "line                                                                  NaN  \n",
       "precinct                                                               18  \n",
       "petit_larceny                                                        2048  \n",
       "harrassment_2                                                        1184  \n",
       "assault_3                                                             790  \n",
       "criminal_mischief                                                     416  \n",
       "grand_larceny                                                        1877  \n",
       "public_order                                                          333  \n",
       "felony_assault                                                        190  \n",
       "dangerous_drugs                                                       215  \n",
       "penal_law                                                              85  \n",
       "robbery                                                               130  \n",
       "burglary                                                              175  \n",
       "misdemenor                                                           3670  \n",
       "felony                                                               2575  \n",
       "violation                                                            1198  \n",
       "Number of Incidents                                                  5075  "
      ]
     },
     "execution_count": 175,
     "metadata": {},
     "output_type": "execute_result"
    }
   ],
   "source": [
    "train_df.sample(5).transpose()"
   ]
  },
  {
   "cell_type": "code",
   "execution_count": 176,
   "metadata": {},
   "outputs": [
    {
     "data": {
      "text/plain": [
       "<matplotlib.collections.PathCollection at 0x116267860>"
      ]
     },
     "execution_count": 176,
     "metadata": {},
     "output_type": "execute_result"
    },
    {
     "data": {
      "image/png": "[encoded data removed]",
      "text/plain": [
       "<Figure size 432x288 with 1 Axes>"
      ]
     },
     "metadata": {},
     "output_type": "display_data"
    }
   ],
   "source": [
    "plt.scatter(train_df['size_sqft'],train_df['rent'])"
   ]
  },
  {
   "cell_type": "code",
   "execution_count": 177,
   "metadata": {},
   "outputs": [
    {
     "name": "stdout",
     "output_type": "stream",
     "text": [
      "Train NaNs:\n",
      "bedrooms                  0\n",
      "bathrooms                 0\n",
      "size_sqft                 0\n",
      "addr_zip                  0\n",
      "bin                       1\n",
      "bbl                       0\n",
      "floor_count               0\n",
      "has_doorman               0\n",
      "has_elevator              0\n",
      "has_fireplace             0\n",
      "has_dishwasher            0\n",
      "is_furnished              0\n",
      "has_gym                   0\n",
      "allows_pets               0\n",
      "has_washer_dryer          0\n",
      "has_garage                0\n",
      "has_roofdeck              0\n",
      "has_concierge             0\n",
      "has_pool                  0\n",
      "precinct                  0\n",
      "petit_larceny             0\n",
      "harrassment_2             0\n",
      "assault_3                 0\n",
      "criminal_mischief         0\n",
      "grand_larceny             0\n",
      "public_order              0\n",
      "felony_assault            0\n",
      "dangerous_drugs           0\n",
      "penal_law                 0\n",
      "robbery                   0\n",
      "burglary                  0\n",
      "misdemenor                0\n",
      "felony                    0\n",
      "violation                 0\n",
      "has_garden                0\n",
      "has_childrens_playroom    0\n",
      "Number of Incidents       0\n",
      "no_fee                    0\n",
      "rent                      0\n",
      "dtype: int64\n",
      "\n",
      "\n",
      "Test NaNs:\n",
      "bedrooms                  0\n",
      "bathrooms                 0\n",
      "size_sqft                 0\n",
      "addr_zip                  0\n",
      "bin                       0\n",
      "bbl                       0\n",
      "floor_count               0\n",
      "has_doorman               0\n",
      "has_elevator              0\n",
      "has_fireplace             0\n",
      "has_dishwasher            0\n",
      "is_furnished              0\n",
      "has_gym                   0\n",
      "allows_pets               0\n",
      "has_washer_dryer          0\n",
      "has_garage                0\n",
      "has_roofdeck              0\n",
      "has_concierge             0\n",
      "has_pool                  0\n",
      "precinct                  0\n",
      "petit_larceny             0\n",
      "harrassment_2             0\n",
      "assault_3                 0\n",
      "criminal_mischief         0\n",
      "grand_larceny             0\n",
      "public_order              0\n",
      "felony_assault            0\n",
      "dangerous_drugs           0\n",
      "penal_law                 0\n",
      "robbery                   0\n",
      "burglary                  0\n",
      "misdemenor                0\n",
      "felony                    0\n",
      "violation                 0\n",
      "has_garden                0\n",
      "has_childrens_playroom    0\n",
      "Number of Incidents       0\n",
      "no_fee                    0\n",
      "rent                      0\n",
      "dtype: int64\n"
     ]
    }
   ],
   "source": [
    "#Had to remove features with strings as the type i.e. 'addr_city', 'neighborhood', 'borough'\n",
    "#Might have to try turning them into numbers to find out how important they are\n",
    "features = ['bedrooms', 'bathrooms', 'size_sqft', 'addr_zip', 'bin', 'bbl',\n",
    "                    'floor_count', 'has_doorman', 'has_elevator',\n",
    "                    'has_fireplace', 'has_dishwasher','is_furnished', 'has_gym', 'allows_pets',\n",
    "                    'has_washer_dryer', 'has_garage', 'has_roofdeck', 'has_concierge', 'has_pool',\n",
    "                    'precinct', 'petit_larceny', 'harrassment_2', 'assault_3', 'criminal_mischief',\n",
    "                    'grand_larceny', 'public_order', 'felony_assault', 'dangerous_drugs', 'penal_law',\n",
    "                    'robbery', 'burglary', 'misdemenor', 'felony', 'violation', 'has_garden', \n",
    "                    'has_childrens_playroom', 'Number of Incidents', 'no_fee', 'rent']\n",
    "\n",
    "\n",
    "#Most important features (comment it out to test every feature)\n",
    "# features = ['size_sqft', 'bbl', 'bathrooms', 'bedrooms', 'rent']\n",
    "\n",
    "print('Train NaNs:', train_df[features].isna().sum(), sep='\\n')\n",
    "print('\\n')\n",
    "print('Test NaNs:', test_df[features].isna().sum(), sep='\\n')\n",
    "\n",
    "train_features = train_df[features].dropna()\n",
    "train_target = train_features['rent']\n",
    "train_features = train_features.drop(labels='rent', axis=1)\n",
    "test_features = test_df[features]\n",
    "test_target = test_features['rent']\n",
    "test_features = test_features.drop(labels='rent', axis=1)"
   ]
  },
  {
   "cell_type": "code",
   "execution_count": 178,
   "metadata": {},
   "outputs": [
    {
     "name": "stdout",
     "output_type": "stream",
     "text": [
      "test2.csv NaNs:\n",
      "bedrooms                     0\n",
      "bathrooms                    0\n",
      "size_sqft                    0\n",
      "addr_zip                     0\n",
      "bin                          0\n",
      "bbl                          0\n",
      "floor_count                  0\n",
      "has_doorman                  0\n",
      "has_elevator                 0\n",
      "has_fireplace                0\n",
      "has_dishwasher               0\n",
      "is_furnished                 0\n",
      "has_gym                      0\n",
      "allows_pets                  0\n",
      "has_washer_dryer             0\n",
      "has_garage                   0\n",
      "has_roofdeck                 0\n",
      "has_concierge                0\n",
      "has_pool                     0\n",
      "precinct                     0\n",
      "petit_larceny                0\n",
      "harrassment_2                0\n",
      "assault_3                    0\n",
      "criminal_mischief            0\n",
      "grand_larceny                0\n",
      "public_order                 0\n",
      "felony_assault               0\n",
      "dangerous_drugs              0\n",
      "penal_law                    0\n",
      "robbery                      0\n",
      "burglary                     0\n",
      "misdemenor                   0\n",
      "felony                       0\n",
      "violation                    0\n",
      "has_garden                   0\n",
      "has_childrens_playroom       0\n",
      "Number of Incidents          0\n",
      "no_fee                       0\n",
      "rent                      2000\n",
      "dtype: int64\n"
     ]
    }
   ],
   "source": [
    "# Checking if there are any missing values for the features in the test2.csv set\n",
    "print('test2.csv NaNs:', submit1_df[features].isna().sum(), sep='\\n')"
   ]
  },
  {
   "cell_type": "code",
   "execution_count": 179,
   "metadata": {},
   "outputs": [
    {
     "name": "stdout",
     "output_type": "stream",
     "text": [
      "test3.csv NaNs:\n",
      "bedrooms                     0\n",
      "bathrooms                    0\n",
      "size_sqft                    0\n",
      "addr_zip                     0\n",
      "bin                          2\n",
      "bbl                          0\n",
      "floor_count                  0\n",
      "has_doorman                  0\n",
      "has_elevator                 0\n",
      "has_fireplace                0\n",
      "has_dishwasher               0\n",
      "is_furnished                 0\n",
      "has_gym                      0\n",
      "allows_pets                  0\n",
      "has_washer_dryer             0\n",
      "has_garage                   0\n",
      "has_roofdeck                 0\n",
      "has_concierge                0\n",
      "has_pool                     0\n",
      "precinct                     0\n",
      "petit_larceny                0\n",
      "harrassment_2                0\n",
      "assault_3                    0\n",
      "criminal_mischief            0\n",
      "grand_larceny                0\n",
      "public_order                 0\n",
      "felony_assault               0\n",
      "dangerous_drugs              0\n",
      "penal_law                    0\n",
      "robbery                      0\n",
      "burglary                     0\n",
      "misdemenor                   0\n",
      "felony                       0\n",
      "violation                    0\n",
      "has_garden                   0\n",
      "has_childrens_playroom       0\n",
      "Number of Incidents          0\n",
      "no_fee                       0\n",
      "rent                      2000\n",
      "dtype: int64\n"
     ]
    }
   ],
   "source": [
    "# Checking if there are any missing values for the features in the test2.csv set\n",
    "print('test3.csv NaNs:', submit2_df[features].isna().sum(), sep='\\n')"
   ]
  },
  {
   "cell_type": "code",
   "execution_count": 180,
   "metadata": {},
   "outputs": [
    {
     "data": {
      "text/plain": [
       "2"
      ]
     },
     "execution_count": 180,
     "metadata": {},
     "output_type": "execute_result"
    }
   ],
   "source": [
    "submit2_features = submit2_df[features].drop(labels='rent', axis=1)\n",
    "submit2_features.isnull().sum().sum()"
   ]
  },
  {
   "cell_type": "code",
   "execution_count": 181,
   "metadata": {},
   "outputs": [],
   "source": [
    "submit2_features['bin'].fillna(1000000.0, inplace = True)"
   ]
  },
  {
   "cell_type": "code",
   "execution_count": 182,
   "metadata": {},
   "outputs": [
    {
     "data": {
      "text/plain": [
       "0"
      ]
     },
     "execution_count": 182,
     "metadata": {},
     "output_type": "execute_result"
    }
   ],
   "source": [
    "submit2_features.isnull().sum().sum()"
   ]
  },
  {
   "cell_type": "code",
   "execution_count": 183,
   "metadata": {},
   "outputs": [
    {
     "data": {
      "text/html": [
       "<div>\n",
       "<style scoped>\n",
       "    .dataframe tbody tr th:only-of-type {\n",
       "        vertical-align: middle;\n",
       "    }\n",
       "\n",
       "    .dataframe tbody tr th {\n",
       "        vertical-align: top;\n",
       "    }\n",
       "\n",
       "    .dataframe thead th {\n",
       "        text-align: right;\n",
       "    }\n",
       "</style>\n",
       "<table border=\"1\" class=\"dataframe\">\n",
       "  <thead>\n",
       "    <tr style=\"text-align: right;\">\n",
       "      <th></th>\n",
       "      <th>bedrooms</th>\n",
       "      <th>bathrooms</th>\n",
       "      <th>size_sqft</th>\n",
       "      <th>addr_zip</th>\n",
       "      <th>bin</th>\n",
       "      <th>bbl</th>\n",
       "      <th>floor_count</th>\n",
       "      <th>has_doorman</th>\n",
       "      <th>has_elevator</th>\n",
       "      <th>has_fireplace</th>\n",
       "      <th>...</th>\n",
       "      <th>penal_law</th>\n",
       "      <th>robbery</th>\n",
       "      <th>burglary</th>\n",
       "      <th>misdemenor</th>\n",
       "      <th>felony</th>\n",
       "      <th>violation</th>\n",
       "      <th>has_garden</th>\n",
       "      <th>has_childrens_playroom</th>\n",
       "      <th>Number of Incidents</th>\n",
       "      <th>no_fee</th>\n",
       "    </tr>\n",
       "  </thead>\n",
       "  <tbody>\n",
       "  </tbody>\n",
       "</table>\n",
       "<p>0 rows × 38 columns</p>\n",
       "</div>"
      ],
      "text/plain": [
       "Empty DataFrame\n",
       "Columns: [bedrooms, bathrooms, size_sqft, addr_zip, bin, bbl, floor_count, has_doorman, has_elevator, has_fireplace, has_dishwasher, is_furnished, has_gym, allows_pets, has_washer_dryer, has_garage, has_roofdeck, has_concierge, has_pool, precinct, petit_larceny, harrassment_2, assault_3, criminal_mischief, grand_larceny, public_order, felony_assault, dangerous_drugs, penal_law, robbery, burglary, misdemenor, felony, violation, has_garden, has_childrens_playroom, Number of Incidents, no_fee]\n",
       "Index: []\n",
       "\n",
       "[0 rows x 38 columns]"
      ]
     },
     "execution_count": 183,
     "metadata": {},
     "output_type": "execute_result"
    }
   ],
   "source": [
    "# Checking if there is anymore null values\n",
    "submit2_features[submit2_features['bin'].isnull()]"
   ]
  },
  {
   "cell_type": "code",
   "execution_count": 184,
   "metadata": {},
   "outputs": [
    {
     "data": {
      "text/plain": [
       "<matplotlib.collections.PathCollection at 0x1169c5160>"
      ]
     },
     "execution_count": 184,
     "metadata": {},
     "output_type": "execute_result"
    },
    {
     "data": {
      "image/png": "[encoded data removed]",
      "text/plain": [
       "<Figure size 432x288 with 1 Axes>"
      ]
     },
     "metadata": {},
     "output_type": "display_data"
    }
   ],
   "source": [
    "plt.scatter(test_df['bin'],test_df['bbl'])"
   ]
  },
  {
   "cell_type": "code",
   "execution_count": 185,
   "metadata": {},
   "outputs": [
    {
     "name": "stdout",
     "output_type": "stream",
     "text": [
      "Series([], Name: addr_zip, dtype: int64)\n",
      "Series([], Name: addr_zip, dtype: int64)\n",
      "Series([], Name: addr_zip, dtype: int64)\n"
     ]
    }
   ],
   "source": [
    "#zip codes missing from the join function will go back and add these.\n",
    "print(test_features.loc[test_features.precinct.isna(), 'addr_zip'])\n",
    "print(submit1_df.loc[submit1_df.precinct.isna(), 'addr_zip'])\n",
    "print(submit2_df.loc[submit2_df.precinct.isna(), 'addr_zip'])"
   ]
  },
  {
   "cell_type": "code",
   "execution_count": 186,
   "metadata": {},
   "outputs": [],
   "source": [
    "# fits estimator to training set and predicts on test1.csv features\n",
    "# prints out MSE of predictions against test1.csv\n",
    "# also calculates and prints std dev & mean of 5-fold CV  on training set\n",
    "def getResults(estimator):\n",
    "    estimator.fit(train_features, train_target)\n",
    "    test_pred = estimator.predict(test_features)\n",
    "    cv_results = cross_val_score(estimator, train_features, train_target, cv=5, scoring='neg_mean_squared_error')\n",
    "    print('Mean Squared Error: ', mean_squared_error(test_target, test_pred))\n",
    "    print(\"CV Results (Std Dev): \", np.std(cv_results))\n",
    "    print(\"CV Results (Mean): \", np.mean(cv_results))\n",
    "\n",
    "\n",
    "#To get the feature importances for linear regression scale the features and then use .coef_\n",
    "#importances for lr are in magnitude while others are in percentage\n",
    "#I haven't scaled the features so this code doesn't really tell you much\n",
    "def getImportances(estimator):\n",
    "    importances = estimator.coef_ if isinstance(estimator, LinearRegression) else estimator.feature_importances_*100\n",
    "    print('\\nFeature Importances')\n",
    "    for i in range(len(importances)):\n",
    "        print(features[i], importances[i])"
   ]
  },
  {
   "cell_type": "code",
   "execution_count": 187,
   "metadata": {
    "scrolled": false
   },
   "outputs": [
    {
     "name": "stdout",
     "output_type": "stream",
     "text": [
      "\n",
      "Linear Regression\n",
      "Mean Squared Error:  3180974.0326844463\n",
      "CV Results (Std Dev):  679827.0580970801\n",
      "CV Results (Mean):  -3074207.55587814\n",
      "\n",
      "Feature Importances\n",
      "bedrooms 299.2917502195645\n",
      "bathrooms 1306.7980332051472\n",
      "size_sqft 2.317322010644784\n",
      "addr_zip -0.45133221166897275\n",
      "bin 0.00016881680914659862\n",
      "bbl -4.5001237797347044e-07\n",
      "floor_count -3.427966302531502\n",
      "has_doorman 73.55686333201551\n",
      "has_elevator 287.23296710080893\n",
      "has_fireplace 531.8441537837766\n",
      "has_dishwasher -201.45611949343274\n",
      "is_furnished 850.4989582439172\n",
      "has_gym 331.72481264469974\n",
      "allows_pets 203.22504678840903\n",
      "has_washer_dryer 402.3478578116302\n",
      "has_garage -177.36064178166615\n",
      "has_roofdeck 188.18340964067087\n",
      "has_concierge 206.33666301226796\n",
      "has_pool 218.43410583969919\n",
      "precinct -0.5890077464422859\n",
      "petit_larceny -2.6198189200700637\n",
      "harrassment_2 6.175463681200045\n",
      "assault_3 -1.9701966918918834\n",
      "criminal_mischief -4.007469564017826\n",
      "grand_larceny -0.09614679657128693\n",
      "public_order -2.7084714721029584\n",
      "felony_assault -2.282409163731417\n",
      "dangerous_drugs -3.2369487207513443\n",
      "penal_law 4.310844142614586\n",
      "robbery 0.8026771959146077\n",
      "burglary 1.5190590925068435\n",
      "misdemenor 2.8852000577551626\n",
      "felony 0.4637800835418419\n",
      "violation -7.46239735702213\n",
      "has_garden 41.90215589665782\n",
      "has_childrens_playroom 107.32828998183703\n",
      "Number of Incidents -0.032036360523561916\n",
      "no_fee -184.70792652842988\n",
      "\n",
      "Decision Tree Regressor\n",
      "Mean Squared Error:  2503318.2920590276\n",
      "CV Results (Std Dev):  448361.8670939204\n",
      "CV Results (Mean):  -2195415.3556831433\n",
      "\n",
      "Feature Importances\n",
      "bedrooms 1.2217286292044427\n",
      "bathrooms 8.533728648832188\n",
      "size_sqft 60.69291001209399\n",
      "addr_zip 0.7649117669028258\n",
      "bin 1.0567381004673033\n",
      "bbl 12.33289704137226\n",
      "floor_count 1.4528772100928848\n",
      "has_doorman 0.29717062443076037\n",
      "has_elevator 0.36631253552393533\n",
      "has_fireplace 0.06852771166295225\n",
      "has_dishwasher 0.348153181560021\n",
      "is_furnished 0.0907171306443588\n",
      "has_gym 0.489161256226002\n",
      "allows_pets 0.21479846015119955\n",
      "has_washer_dryer 0.750564879606053\n",
      "has_garage 0.053515069652876945\n",
      "has_roofdeck 0.4501353938478746\n",
      "has_concierge 0.1290733889575082\n",
      "has_pool 0.07499874809704093\n",
      "precinct 2.6863916467113715\n",
      "petit_larceny 0.11693355885815972\n",
      "harrassment_2 0.22675226880687066\n",
      "assault_3 0.04329186979668041\n",
      "criminal_mischief 0.17230217320756255\n",
      "grand_larceny 2.2734941258722627\n",
      "public_order 1.71038100848384\n",
      "felony_assault 0.05998280257092409\n",
      "dangerous_drugs 0.1160537983978717\n",
      "penal_law 0.12787335937386002\n",
      "robbery 0.3954360382746172\n",
      "burglary 0.14152918191217853\n",
      "misdemenor 0.12680246997113812\n",
      "felony 0.06926522593209657\n",
      "violation 0.07870353409583196\n",
      "has_garden 0.043485782814918605\n",
      "has_childrens_playroom 0.04688385140099943\n",
      "Number of Incidents 1.7339457174075095\n",
      "no_fee 0.4415717967848398\n",
      "\n",
      "Gradient Boosting Regressor\n",
      "Mean Squared Error:  1758523.1002354391\n",
      "CV Results (Std Dev):  260231.00558868868\n",
      "CV Results (Mean):  -1188722.8201121702\n",
      "\n",
      "Feature Importances\n",
      "bedrooms 5.771414175421391\n",
      "bathrooms 6.707296043899769\n",
      "size_sqft 40.176938329299425\n",
      "addr_zip 4.14560260579881\n",
      "bin 4.841893122237533\n",
      "bbl 10.116844396972787\n",
      "floor_count 2.5452193384511306\n",
      "has_doorman 0.6225953724308969\n",
      "has_elevator 1.1611030673224134\n",
      "has_fireplace 0.0\n",
      "has_dishwasher 1.0341535071056778\n",
      "is_furnished 1.838764912018509\n",
      "has_gym 1.050985754876932\n",
      "allows_pets 0.05999413849739402\n",
      "has_washer_dryer 1.088123767777603\n",
      "has_garage 0.0\n",
      "has_roofdeck 0.5694202146219725\n",
      "has_concierge 1.191866330644195\n",
      "has_pool 0.33945612655599355\n",
      "precinct 2.7377055244664366\n",
      "petit_larceny 1.0439011267566738\n",
      "harrassment_2 0.07547552012768224\n",
      "assault_3 0.35171823374689976\n",
      "criminal_mischief 0.20558686815707242\n",
      "grand_larceny 1.2117010430058777\n",
      "public_order 1.5483841025695626\n",
      "felony_assault 0.46483909675582824\n",
      "dangerous_drugs 0.2494567512162967\n",
      "penal_law 0.863386865411654\n",
      "robbery 1.4351881347542452\n",
      "burglary 0.06042614223535979\n",
      "misdemenor 0.23854271672400076\n",
      "felony 0.5062711462899008\n",
      "violation 0.4629006945295439\n",
      "has_garden 0.8109141143268767\n",
      "has_childrens_playroom 0.27352950238020735\n",
      "Number of Incidents 3.563583638294988\n",
      "no_fee 0.6348175743184631\n",
      "\n",
      "Random Forest Regressor\n",
      "Mean Squared Error:  1701172.9991732128\n",
      "CV Results (Std Dev):  260523.41594943535\n",
      "CV Results (Mean):  -1317742.0126148798\n",
      "\n",
      "Feature Importances\n",
      "bedrooms 1.7186171906780692\n",
      "bathrooms 13.597435549719009\n",
      "size_sqft 54.69134169198819\n",
      "addr_zip 0.9408080460295031\n",
      "bin 1.7466002325159626\n",
      "bbl 10.52620354242866\n",
      "floor_count 1.5327129219527589\n",
      "has_doorman 0.22921230043231305\n",
      "has_elevator 0.4057448303186216\n",
      "has_fireplace 0.09830695133394543\n",
      "has_dishwasher 0.46507492791993416\n",
      "is_furnished 0.357010516625048\n",
      "has_gym 0.6325529544546911\n",
      "allows_pets 0.17568386509171696\n",
      "has_washer_dryer 0.5474682177781318\n",
      "has_garage 0.1262045280820094\n",
      "has_roofdeck 0.29622617870971857\n",
      "has_concierge 0.1792637172134641\n",
      "has_pool 0.4615198155828806\n",
      "precinct 4.580580524566544\n",
      "petit_larceny 0.43090561417145806\n",
      "harrassment_2 0.15319025482915263\n",
      "assault_3 0.19154919210900012\n",
      "criminal_mischief 0.26917799250808966\n",
      "grand_larceny 1.755976537846591\n",
      "public_order 0.4120767849886245\n",
      "felony_assault 0.12984319723454468\n",
      "dangerous_drugs 0.28747423349728507\n",
      "penal_law 0.1008052747791827\n",
      "robbery 0.7116728198150536\n",
      "burglary 0.186165314200817\n",
      "misdemenor 0.3109634806459133\n",
      "felony 0.11891568409931323\n",
      "violation 0.1683047320799927\n",
      "has_garden 0.15540889950013242\n",
      "has_childrens_playroom 0.09206724177345951\n",
      "Number of Incidents 0.9748263904083769\n",
      "no_fee 0.2421078520918438\n"
     ]
    }
   ],
   "source": [
    "lr = LinearRegression()\n",
    "dt = DecisionTreeRegressor()\n",
    "gb = GradientBoostingRegressor()\n",
    "rf = RandomForestRegressor()\n",
    "\n",
    "names = ['\\nLinear Regression', '\\nDecision Tree Regressor', '\\nGradient Boosting Regressor', '\\nRandom Forest Regressor']\n",
    "estimators = [lr, dt, gb, rf]\n",
    "\n",
    "for i in range(len(names)):\n",
    "    print(names[i])\n",
    "    getResults(estimators[i])\n",
    "    getImportances(estimators[i])"
   ]
  },
  {
   "cell_type": "markdown",
   "metadata": {},
   "source": [
    "GradientBoostingRegressor or RandomForestRegressor seems to give us the best score so far, further testing with hyperparameters is needed"
   ]
  },
  {
   "cell_type": "code",
   "execution_count": 188,
   "metadata": {},
   "outputs": [],
   "source": [
    "def testHyperparameter(param_grid):\n",
    "    results = {}\n",
    "    hp_name = list(param_grid.keys())[0]\n",
    "    hp_values = list(param_grid.values())[0]\n",
    "    \n",
    "    # Create decision tree model and tune hyperparameter using GridSearchCV\n",
    "    decision_tree = DecisionTreeRegressor()\n",
    "    dt_cv = GridSearchCV(dt, param_grid, cv=5)\n",
    "    dt_cv.fit(train_features, train_target)\n",
    "    results['best_param'] = dt_cv.best_params_\n",
    "    results['best_score'] = dt_cv.best_score_\n",
    "    \n",
    "    # Grab mean test/train score of 5 splits\n",
    "    mean_test = dt_cv.cv_results_['mean_test_score']\n",
    "    mean_train = dt_cv.cv_results_['mean_train_score']\n",
    "\n",
    "    # Plot mean test/train AUC score against hyperparameter values\n",
    "    line1, = plt.plot(hp_values, mean_test, 'b', label='Test AUC')\n",
    "    line2, = plt.plot(hp_values, mean_train, 'r', label='Train AUC')\n",
    "    plt.legend(handler_map={line1: HandlerLine2D(numpoints=2)})\n",
    "    plt.ylabel('AUC Score')\n",
    "    plt.xlabel(hp_name)\n",
    "    plt.show()\n",
    "    \n",
    "    print(results)"
   ]
  },
  {
   "cell_type": "code",
   "execution_count": 189,
   "metadata": {},
   "outputs": [
    {
     "name": "stderr",
     "output_type": "stream",
     "text": [
      "/anaconda3/lib/python3.6/site-packages/sklearn/utils/deprecation.py:122: FutureWarning: You are accessing a training score ('mean_train_score'), which will not be available by default any more in 0.21. If you need training scores, please set return_train_score=True\n",
      "  warnings.warn(*warn_args, **warn_kwargs)\n"
     ]
    },
    {
     "data": {
      "image/png": "[encoded data removed]",
      "text/plain": [
       "<Figure size 432x288 with 1 Axes>"
      ]
     },
     "metadata": {},
     "output_type": "display_data"
    },
    {
     "name": "stdout",
     "output_type": "stream",
     "text": [
      "{'best_param': {'max_depth': 9}, 'best_score': 0.7676508390023273}\n"
     ]
    },
    {
     "name": "stderr",
     "output_type": "stream",
     "text": [
      "/anaconda3/lib/python3.6/site-packages/sklearn/utils/deprecation.py:122: FutureWarning: You are accessing a training score ('mean_train_score'), which will not be available by default any more in 0.21. If you need training scores, please set return_train_score=True\n",
      "  warnings.warn(*warn_args, **warn_kwargs)\n"
     ]
    },
    {
     "data": {
      "image/png": "[encoded data removed]",
      "text/plain": [
       "<Figure size 432x288 with 1 Axes>"
      ]
     },
     "metadata": {},
     "output_type": "display_data"
    },
    {
     "name": "stdout",
     "output_type": "stream",
     "text": [
      "{'best_param': {'min_samples_split': 0.1}, 'best_score': 0.5724558715766266}\n"
     ]
    },
    {
     "name": "stderr",
     "output_type": "stream",
     "text": [
      "/anaconda3/lib/python3.6/site-packages/sklearn/utils/deprecation.py:122: FutureWarning: You are accessing a training score ('mean_train_score'), which will not be available by default any more in 0.21. If you need training scores, please set return_train_score=True\n",
      "  warnings.warn(*warn_args, **warn_kwargs)\n"
     ]
    },
    {
     "data": {
      "image/png": "[encoded data removed]",
      "text/plain": [
       "<Figure size 432x288 with 1 Axes>"
      ]
     },
     "metadata": {},
     "output_type": "display_data"
    },
    {
     "name": "stdout",
     "output_type": "stream",
     "text": [
      "{'best_param': {'min_samples_leaf': 0.1}, 'best_score': 0.4093181603119941}\n"
     ]
    },
    {
     "name": "stderr",
     "output_type": "stream",
     "text": [
      "/anaconda3/lib/python3.6/site-packages/sklearn/utils/deprecation.py:122: FutureWarning: You are accessing a training score ('mean_train_score'), which will not be available by default any more in 0.21. If you need training scores, please set return_train_score=True\n",
      "  warnings.warn(*warn_args, **warn_kwargs)\n"
     ]
    },
    {
     "data": {
      "image/png": "[encoded data removed]",
      "text/plain": [
       "<Figure size 432x288 with 1 Axes>"
      ]
     },
     "metadata": {},
     "output_type": "display_data"
    },
    {
     "name": "stdout",
     "output_type": "stream",
     "text": [
      "{'best_param': {'max_features': 34}, 'best_score': 0.7714062997504044}\n"
     ]
    }
   ],
   "source": [
    "# Tuning individual hyperparameters for decision tree regressor \n",
    "param_grids = []\n",
    "\n",
    "# Hyperparameter 1: max_depth -> indicates depth of tree; \n",
    "# Testing range of 1 to 32\n",
    "max_depth_values = np.arange(1, 33)\n",
    "param_grids.append({'max_depth': max_depth_values})\n",
    "\n",
    "# Hyperparameter 2: min_samples_split <- minimum number of samples required to split a node\n",
    "# Testing range from 10% to 100%\n",
    "min_samples_split = np.linspace(0.1, 1.0, 10, endpoint=True)\n",
    "param_grids.append({'min_samples_split': min_samples_split})\n",
    "\n",
    "# Hyperparameter 3: min_samples_leaf <- minimum number of samples required at each leaf node\n",
    "# Testing range from 10% to 50%\n",
    "min_samples_leaf = np.linspace(0.1, 0.5, 10, endpoint=True)\n",
    "param_grids.append({'min_samples_leaf': min_samples_leaf})\n",
    "\n",
    "# Hyperparameter 4: max_features <- max number of features to test\n",
    "# Testing range from 1 to 1 less than the number of features in the df\n",
    "max_features = list(range(1,train_features.shape[1]))\n",
    "param_grids.append({'max_features': max_features})\n",
    "\n",
    "for hyperparameter in param_grids:\n",
    "    testHyperparameter(hyperparameter)\n"
   ]
  },
  {
   "cell_type": "code",
   "execution_count": 111,
   "metadata": {},
   "outputs": [
    {
     "name": "stdout",
     "output_type": "stream",
     "text": [
      "{'min_samples_split': 10, 'min_samples_leaf': 20, 'max_leaf_nodes': 500, 'max_depth': 40}\n",
      "0.7730786304542374\n",
      "DecisionTreeRegressor(criterion='mse', max_depth=40, max_features=None,\n",
      "           max_leaf_nodes=500, min_impurity_decrease=0.0,\n",
      "           min_impurity_split=None, min_samples_leaf=20,\n",
      "           min_samples_split=10, min_weight_fraction_leaf=0.0,\n",
      "           presort=False, random_state=None, splitter='best')\n"
     ]
    }
   ],
   "source": [
    "# Testing all 4 hyperparameters together to find the best combination\n",
    "param_grid = {\n",
    "              \"min_samples_split\": [10, 20, 40, 80, 160],\n",
    "              \"max_depth\": [2, 6, 8, 10, 15, 20, 30, 40, 50],\n",
    "              \"min_samples_leaf\": [20, 40, 100, 200, 400],\n",
    "              \"max_leaf_nodes\": [5, 20, 100, 200, 500]\n",
    "              }\n",
    "\n",
    "dtr = DecisionTreeRegressor()\n",
    "dtr_cv = RandomizedSearchCV(dtr, param_grid, cv=5, n_iter = 1000, n_jobs=-1)\n",
    "dtr_cv.fit(train_features, train_target)\n",
    "print(dtr_cv.best_params_)\n",
    "print(dtr_cv.best_score_)\n",
    "print(dtr_cv.best_estimator_)"
   ]
  },
  {
   "cell_type": "code",
   "execution_count": 112,
   "metadata": {},
   "outputs": [
    {
     "name": "stdout",
     "output_type": "stream",
     "text": [
      "DecisionTreeRegressor\n",
      "Mean Squared Error:  2503657.212606574\n",
      "CV Results:  [-2085944.67960042 -1984465.63833577 -2377727.42235531 -1460327.98708912\n",
      " -1496142.63635953]\n",
      "Mean CV Results:  -1880921.6727480292\n"
     ]
    }
   ],
   "source": [
    "# Results of predicting rent on test set using optimized decision tree\n",
    "optimized_dt = dtr_cv.best_estimator_\n",
    "test_pred = optimized_dt.predict(test_features)\n",
    "cv_results = cross_val_score(optimized_dt, train_features, train_target, cv=5, scoring = 'neg_mean_squared_error')\n",
    "print('DecisionTreeRegressor')\n",
    "print('Mean Squared Error: ', mean_squared_error(test_target, test_pred))\n",
    "print(\"CV Results: \", cv_results)\n",
    "print(\"Mean CV Results: \", np.mean(cv_results))"
   ]
  },
  {
   "cell_type": "code",
   "execution_count": 24,
   "metadata": {},
   "outputs": [
    {
     "name": "stdout",
     "output_type": "stream",
     "text": [
      "{'bootstrap': True,\n",
      " 'criterion': 'mse',\n",
      " 'max_depth': None,\n",
      " 'max_features': 'auto',\n",
      " 'max_leaf_nodes': None,\n",
      " 'min_impurity_decrease': 0.0,\n",
      " 'min_impurity_split': None,\n",
      " 'min_samples_leaf': 1,\n",
      " 'min_samples_split': 2,\n",
      " 'min_weight_fraction_leaf': 0.0,\n",
      " 'n_estimators': 10,\n",
      " 'n_jobs': 1,\n",
      " 'oob_score': False,\n",
      " 'random_state': 42,\n",
      " 'verbose': 0,\n",
      " 'warm_start': False}\n"
     ]
    }
   ],
   "source": [
    "rf = RandomForestRegressor(random_state = 42)\n",
    "\n",
    "# not too important to care about. just wanted to see parameters inside\n",
    "from pprint import pprint\n",
    "\n",
    "pprint(rf.get_params())"
   ]
  },
  {
   "cell_type": "code",
   "execution_count": 34,
   "metadata": {},
   "outputs": [
    {
     "name": "stdout",
     "output_type": "stream",
     "text": [
      "{'bootstrap': [True, False],\n",
      " 'max_depth': [10, 20, 30, 40, 50, 60, 70, 80, 90, 100, None],\n",
      " 'max_features': ['auto', 'sqrt'],\n",
      " 'min_samples_leaf': [1, 2, 4, 8, 16, 32],\n",
      " 'min_samples_split': [2, 5, 10, 20, 50],\n",
      " 'n_estimators': [100, 200, 300, 400, 500, 600, 700, 800, 900, 1000]}\n"
     ]
    }
   ],
   "source": [
    "# Number of trees in random forest\n",
    "n_estimators = [int(x) for x in np.linspace(start = 100, stop = 1000, num = 10)]\n",
    "# Number of features to consider at every split\n",
    "max_features = ['auto', 'sqrt']\n",
    "# Maximum number of levels in tree\n",
    "max_depth = [int(x) for x in np.linspace(10, 100, num = 10)]\n",
    "max_depth.append(None)\n",
    "# Minimum number of samples required to split a node\n",
    "min_samples_split = [2, 5, 10, 20, 50]\n",
    "# Minimum number of samples required at each leaf node\n",
    "min_samples_leaf = [1, 2, 4, 8, 16, 32]\n",
    "# Method of selecting samples for training each tree\n",
    "bootstrap = [True, False]\n",
    "# Create the random grid\n",
    "random_grid = {'n_estimators': n_estimators,\n",
    "               'max_features': max_features,\n",
    "               'max_depth': max_depth,\n",
    "               'min_samples_split': min_samples_split,\n",
    "               'min_samples_leaf': min_samples_leaf,\n",
    "               'bootstrap': bootstrap}\n",
    "pprint(random_grid)"
   ]
  },
  {
   "cell_type": "code",
   "execution_count": 21,
   "metadata": {},
   "outputs": [
    {
     "data": {
      "text/plain": [
       "RandomizedSearchCV(cv=5, error_score='raise-deprecating',\n",
       "                   estimator=RandomForestRegressor(bootstrap=True,\n",
       "                                                   criterion='mse',\n",
       "                                                   max_depth=None,\n",
       "                                                   max_features='auto',\n",
       "                                                   max_leaf_nodes=None,\n",
       "                                                   min_impurity_decrease=0.0,\n",
       "                                                   min_impurity_split=None,\n",
       "                                                   min_samples_leaf=1,\n",
       "                                                   min_samples_split=2,\n",
       "                                                   min_weight_fraction_leaf=0.0,\n",
       "                                                   n_estimators='warn',\n",
       "                                                   n_jobs=None, oob_score=False,\n",
       "                                                   random_sta...\n",
       "                   param_distributions={'bootstrap': [True, False],\n",
       "                                        'max_depth': [10, 20, 30, 40, 50, 60,\n",
       "                                                      70, 80, 90, 100, None],\n",
       "                                        'max_features': ['auto', 'sqrt'],\n",
       "                                        'min_samples_leaf': [1, 2, 4, 8, 16,\n",
       "                                                             32],\n",
       "                                        'min_samples_split': [2, 5, 10, 20, 50],\n",
       "                                        'n_estimators': [100, 200, 300, 400,\n",
       "                                                         500, 600, 700, 800,\n",
       "                                                         900, 1000]},\n",
       "                   pre_dispatch='2*n_jobs', random_state=42, refit=True,\n",
       "                   return_train_score=False, scoring=None, verbose=0)"
      ]
     },
     "execution_count": 21,
     "metadata": {},
     "output_type": "execute_result"
    }
   ],
   "source": [
    "#Random Search Training\n",
    "rf_random = RandomizedSearchCV(estimator = rf, param_distributions = random_grid, n_iter = 50,\n",
    "                              cv = 5, random_state = 42, n_jobs = -1)\n",
    "\n",
    "rf_random.fit(train_features, train_target)"
   ]
  },
  {
   "cell_type": "code",
   "execution_count": 22,
   "metadata": {},
   "outputs": [
    {
     "data": {
      "text/plain": [
       "{'n_estimators': 1000,\n",
       " 'min_samples_split': 2,\n",
       " 'min_samples_leaf': 1,\n",
       " 'max_features': 'sqrt',\n",
       " 'max_depth': 100,\n",
       " 'bootstrap': False}"
      ]
     },
     "execution_count": 22,
     "metadata": {},
     "output_type": "execute_result"
    }
   ],
   "source": [
    "rf_random.best_params_"
   ]
  },
  {
   "cell_type": "markdown",
   "metadata": {},
   "source": [
    "Now testing optimized random forest"
   ]
  },
  {
   "cell_type": "code",
   "execution_count": 23,
   "metadata": {},
   "outputs": [
    {
     "name": "stdout",
     "output_type": "stream",
     "text": [
      "Mean Squared Error:  1586317.6677488303\n",
      "CV Results:  [-1515634.0809642   -856641.34880255 -1332940.63733162 -1104520.17186467\n",
      "  -569939.25852185]\n",
      "Mean CV Results:  -1075935.0994969807\n"
     ]
    }
   ],
   "source": [
    "optimized_rf =  rf_random.best_estimator_\n",
    "test_pred = optimized_rf.predict(test_features)\n",
    "cv_results = cross_val_score(optimized_rf, train_features, train_target, cv=5, scoring = 'neg_mean_squared_error')\n",
    "print('Mean Squared Error: ', mean_squared_error(test_target, test_pred))\n",
    "print(\"CV Results: \", cv_results)\n",
    "print(\"Mean CV Results: \", np.mean(cv_results))\n",
    "\n",
    "#Mean Squared Error slightly decreases."
   ]
  },
  {
   "cell_type": "code",
   "execution_count": 24,
   "metadata": {},
   "outputs": [
    {
     "data": {
      "text/plain": [
       "array([ 2581.231     ,  2115.0815    ,  2933.0955    , ...,\n",
       "       14966.431     ,  3594.32      ,  2835.44166667])"
      ]
     },
     "execution_count": 24,
     "metadata": {},
     "output_type": "execute_result"
    }
   ],
   "source": [
    "test_pred"
   ]
  },
  {
   "cell_type": "code",
   "execution_count": 25,
   "metadata": {},
   "outputs": [
    {
     "name": "stdout",
     "output_type": "stream",
     "text": [
      "0           #1B\n",
      "1           #C4\n",
      "2       #GARDEN\n",
      "3           #2C\n",
      "4            #9\n",
      "         ...   \n",
      "1995        #4H\n",
      "1996       #11K\n",
      "1997       #44A\n",
      "1998       #15M\n",
      "1999         #3\n",
      "Name: addr_unit, Length: 2000, dtype: object\n"
     ]
    }
   ],
   "source": [
    "test_rental_id = test_df.iloc[:,0]\n",
    "print(test_rental_id)"
   ]
  },
  {
   "cell_type": "code",
   "execution_count": 190,
   "metadata": {},
   "outputs": [
    {
     "data": {
      "text/plain": [
       "0"
      ]
     },
     "execution_count": 190,
     "metadata": {},
     "output_type": "execute_result"
    }
   ],
   "source": [
    "# checking for any missing values in test3.csv\n",
    "submit2_features.isnull().sum().sum()"
   ]
  },
  {
   "cell_type": "code",
   "execution_count": 191,
   "metadata": {},
   "outputs": [
    {
     "data": {
      "text/html": [
       "<div>\n",
       "<style scoped>\n",
       "    .dataframe tbody tr th:only-of-type {\n",
       "        vertical-align: middle;\n",
       "    }\n",
       "\n",
       "    .dataframe tbody tr th {\n",
       "        vertical-align: top;\n",
       "    }\n",
       "\n",
       "    .dataframe thead th {\n",
       "        text-align: right;\n",
       "    }\n",
       "</style>\n",
       "<table border=\"1\" class=\"dataframe\">\n",
       "  <thead>\n",
       "    <tr style=\"text-align: right;\">\n",
       "      <th></th>\n",
       "      <th>bedrooms</th>\n",
       "      <th>bathrooms</th>\n",
       "      <th>size_sqft</th>\n",
       "      <th>addr_zip</th>\n",
       "      <th>bin</th>\n",
       "      <th>bbl</th>\n",
       "      <th>floor_count</th>\n",
       "      <th>has_doorman</th>\n",
       "      <th>has_elevator</th>\n",
       "      <th>has_fireplace</th>\n",
       "      <th>...</th>\n",
       "      <th>penal_law</th>\n",
       "      <th>robbery</th>\n",
       "      <th>burglary</th>\n",
       "      <th>misdemenor</th>\n",
       "      <th>felony</th>\n",
       "      <th>violation</th>\n",
       "      <th>has_garden</th>\n",
       "      <th>has_childrens_playroom</th>\n",
       "      <th>Number of Incidents</th>\n",
       "      <th>no_fee</th>\n",
       "    </tr>\n",
       "  </thead>\n",
       "  <tbody>\n",
       "  </tbody>\n",
       "</table>\n",
       "<p>0 rows × 38 columns</p>\n",
       "</div>"
      ],
      "text/plain": [
       "Empty DataFrame\n",
       "Columns: [bedrooms, bathrooms, size_sqft, addr_zip, bin, bbl, floor_count, has_doorman, has_elevator, has_fireplace, has_dishwasher, is_furnished, has_gym, allows_pets, has_washer_dryer, has_garage, has_roofdeck, has_concierge, has_pool, precinct, petit_larceny, harrassment_2, assault_3, criminal_mischief, grand_larceny, public_order, felony_assault, dangerous_drugs, penal_law, robbery, burglary, misdemenor, felony, violation, has_garden, has_childrens_playroom, Number of Incidents, no_fee]\n",
       "Index: []\n",
       "\n",
       "[0 rows x 38 columns]"
      ]
     },
     "execution_count": 191,
     "metadata": {},
     "output_type": "execute_result"
    }
   ],
   "source": [
    "submit2_features[submit2_features['bin'].isnull()]"
   ]
  },
  {
   "cell_type": "code",
   "execution_count": 192,
   "metadata": {},
   "outputs": [
    {
     "ename": "NameError",
     "evalue": "name 'optimized_rf' is not defined",
     "output_type": "error",
     "traceback": [
      "\u001b[0;31m---------------------------------------------------------------------------\u001b[0m",
      "\u001b[0;31mNameError\u001b[0m                                 Traceback (most recent call last)",
      "\u001b[0;32m<ipython-input-192-270ec7636a1d>\u001b[0m in \u001b[0;36m<module>\u001b[0;34m()\u001b[0m\n\u001b[0;32m----> 1\u001b[0;31m \u001b[0mprint\u001b[0m\u001b[0;34m(\u001b[0m\u001b[0moptimized_rf\u001b[0m\u001b[0;34m.\u001b[0m\u001b[0mscore\u001b[0m\u001b[0;34m(\u001b[0m\u001b[0mtrain_features\u001b[0m\u001b[0;34m,\u001b[0m \u001b[0mtrain_target\u001b[0m\u001b[0;34m)\u001b[0m\u001b[0;34m)\u001b[0m\u001b[0;34m\u001b[0m\u001b[0m\n\u001b[0m",
      "\u001b[0;31mNameError\u001b[0m: name 'optimized_rf' is not defined"
     ]
    }
   ],
   "source": [
    "print(optimized_rf.score(train_features, train_target))"
   ]
  },
  {
   "cell_type": "code",
   "execution_count": 193,
   "metadata": {},
   "outputs": [],
   "source": [
    "# Create submission file for test2.csv (Commented out so the .csv doesn't get overwritten)\n",
    "#submit1_df['predictions'] = optimized_rf.predict(submit1_features)\n",
    "#submit1_df['predictions'].to_csv('test2_submission.csv', header=True)"
   ]
  },
  {
   "cell_type": "code",
   "execution_count": 194,
   "metadata": {},
   "outputs": [
    {
     "ename": "NameError",
     "evalue": "name 'optimized_rf' is not defined",
     "output_type": "error",
     "traceback": [
      "\u001b[0;31m---------------------------------------------------------------------------\u001b[0m",
      "\u001b[0;31mNameError\u001b[0m                                 Traceback (most recent call last)",
      "\u001b[0;32m<ipython-input-194-ea55588c304e>\u001b[0m in \u001b[0;36m<module>\u001b[0;34m()\u001b[0m\n\u001b[1;32m      1\u001b[0m \u001b[0;31m# Checking feature importance for optimized random forest\u001b[0m\u001b[0;34m\u001b[0m\u001b[0;34m\u001b[0m\u001b[0m\n\u001b[0;32m----> 2\u001b[0;31m \u001b[0mgetImportances\u001b[0m\u001b[0;34m(\u001b[0m\u001b[0moptimized_rf\u001b[0m\u001b[0;34m)\u001b[0m\u001b[0;34m\u001b[0m\u001b[0m\n\u001b[0m",
      "\u001b[0;31mNameError\u001b[0m: name 'optimized_rf' is not defined"
     ]
    }
   ],
   "source": [
    "# Checking feature importance for optimized random forest\n",
    "getImportances(optimized_rf)"
   ]
  },
  {
   "cell_type": "code",
   "execution_count": 195,
   "metadata": {},
   "outputs": [
    {
     "name": "stdout",
     "output_type": "stream",
     "text": [
      "{'alpha': 0.9,\n",
      " 'criterion': 'friedman_mse',\n",
      " 'init': None,\n",
      " 'learning_rate': 0.1,\n",
      " 'loss': 'ls',\n",
      " 'max_depth': 3,\n",
      " 'max_features': None,\n",
      " 'max_leaf_nodes': None,\n",
      " 'min_impurity_decrease': 0.0,\n",
      " 'min_impurity_split': None,\n",
      " 'min_samples_leaf': 1,\n",
      " 'min_samples_split': 2,\n",
      " 'min_weight_fraction_leaf': 0.0,\n",
      " 'n_estimators': 100,\n",
      " 'presort': 'auto',\n",
      " 'random_state': 42,\n",
      " 'subsample': 1.0,\n",
      " 'verbose': 0,\n",
      " 'warm_start': False}\n"
     ]
    }
   ],
   "source": [
    "gb = GradientBoostingRegressor(n_estimators=100, random_state=42)\n",
    "\n",
    "# not too important to care about. just wanted to see parameters inside\n",
    "from pprint import pprint\n",
    "\n",
    "pprint(gb.get_params())"
   ]
  },
  {
   "cell_type": "code",
   "execution_count": 196,
   "metadata": {},
   "outputs": [
    {
     "name": "stdout",
     "output_type": "stream",
     "text": [
      "Mean Squared Error:  1754816.4661056257\n",
      "CV Results:  [-1311875.49959971 -1129005.24136111 -1471949.9249243  -1228566.8290144\n",
      "  -721664.13634098]\n",
      "Mean CV Results:  -1172612.3262480982\n"
     ]
    }
   ],
   "source": [
    "# Testing generic gradient boosting regressor again\n",
    "gb.fit(train_features, train_target)\n",
    "test_pred = gb.predict(test_features)\n",
    "cv_results = cross_val_score(gb, train_features, train_target, cv=5, scoring = 'neg_mean_squared_error')\n",
    "print('Mean Squared Error: ', mean_squared_error(test_target, test_pred))\n",
    "print(\"CV Results: \", cv_results)\n",
    "print(\"Mean CV Results: \", np.mean(cv_results))"
   ]
  },
  {
   "cell_type": "code",
   "execution_count": 197,
   "metadata": {},
   "outputs": [
    {
     "name": "stdout",
     "output_type": "stream",
     "text": [
      "R-squared for Train: 0.91\n",
      "R-squared for Test: 0.76\n"
     ]
    }
   ],
   "source": [
    "# Using the R-squared value allows us to see how much of the variance in the data our model is explains.\n",
    "print(\"R-squared for Train: %.2f\" %gb.score(train_features, train_target))\n",
    "print(\"R-squared for Test: %.2f\" %gb.score(test_features, test_target))"
   ]
  },
  {
   "cell_type": "code",
   "execution_count": 198,
   "metadata": {},
   "outputs": [
    {
     "name": "stdout",
     "output_type": "stream",
     "text": [
      "{'learning_rate': [0.1, 0.05, 0.02, 0.01],\n",
      " 'max_depth': [2, 4, 6, 8, 10],\n",
      " 'max_features': [1.0, 0.5, 0.3, 0.1, 0.01, 0.001],\n",
      " 'min_samples_leaf': [3, 5, 7, 9, 15, 20],\n",
      " 'n_estimators': [100, 200, 300, 400, 500]}\n"
     ]
    }
   ],
   "source": [
    "# Number of trees to be modeled \n",
    "n_estimators = [100, 200, 300, 400, 500]\n",
    "    \n",
    "# Number of features to consider when searching for a best split\n",
    "max_features = [1.0, 0.5, 0.3, 0.1, 0.01, 0.001]\n",
    "\n",
    "# Represents the impact of each tree \n",
    "learning_rate = [0.1, 0.05, 0.02, 0.01]\n",
    "    \n",
    "# Maximum number of levels in tree\n",
    "max_depth = [2, 4, 6, 8, 10]\n",
    "    \n",
    "# Minimum number of samples required at each leaf node\n",
    "min_samples_leaf = [3, 5, 7, 9, 15, 20]\n",
    "    \n",
    "# Create the random grid\n",
    "random_grid = {'n_estimators': n_estimators,\n",
    "               'max_features': max_features,\n",
    "               'learning_rate': learning_rate,\n",
    "               'max_depth': max_depth,\n",
    "               'min_samples_leaf': min_samples_leaf}\n",
    "pprint(random_grid)"
   ]
  },
  {
   "cell_type": "code",
   "execution_count": 125,
   "metadata": {},
   "outputs": [
    {
     "data": {
      "text/plain": [
       "RandomizedSearchCV(cv=5, error_score='raise',\n",
       "          estimator=GradientBoostingRegressor(alpha=0.9, criterion='friedman_mse', init=None,\n",
       "             learning_rate=0.1, loss='ls', max_depth=3, max_features=None,\n",
       "             max_leaf_nodes=None, min_impurity_decrease=0.0,\n",
       "             min_impurity_split=None, min_samples_leaf=1,\n",
       "             min_samples_split=2, min_weight_fraction_leaf=0.0,\n",
       "             n_estimators=100, presort='auto', random_state=42,\n",
       "             subsample=1.0, verbose=0, warm_start=False),\n",
       "          fit_params=None, iid=True, n_iter=50, n_jobs=-1,\n",
       "          param_distributions={'n_estimators': [100, 200, 300, 400, 500], 'max_features': [1.0, 0.5, 0.3, 0.1, 0.01, 0.001], 'learning_rate': [0.1, 0.05, 0.02, 0.01], 'max_depth': [2, 4, 6, 8, 10], 'min_samples_leaf': [3, 5, 7, 9, 15, 20]},\n",
       "          pre_dispatch='2*n_jobs', random_state=42, refit=True,\n",
       "          return_train_score='warn', scoring=None, verbose=0)"
      ]
     },
     "execution_count": 125,
     "metadata": {},
     "output_type": "execute_result"
    }
   ],
   "source": [
    "# Random Search Training for Gradient Boosting \n",
    "gb_random = RandomizedSearchCV(estimator = gb, param_distributions = random_grid, n_iter = 50,\n",
    "                              cv = 5, random_state = 42, n_jobs = -1)\n",
    "\n",
    "gb_random.fit(train_features, train_target)"
   ]
  },
  {
   "cell_type": "code",
   "execution_count": 126,
   "metadata": {},
   "outputs": [
    {
     "data": {
      "text/plain": [
       "{'n_estimators': 500,\n",
       " 'min_samples_leaf': 5,\n",
       " 'max_features': 0.3,\n",
       " 'max_depth': 8,\n",
       " 'learning_rate': 0.05}"
      ]
     },
     "execution_count": 126,
     "metadata": {},
     "output_type": "execute_result"
    }
   ],
   "source": [
    "gb_random.best_params_"
   ]
  },
  {
   "cell_type": "code",
   "execution_count": 133,
   "metadata": {},
   "outputs": [
    {
     "name": "stdout",
     "output_type": "stream",
     "text": [
      "Mean Squared Error:  1470943.685917053\n",
      "CV Results:  [-1221758.80874211  -823390.74026016 -1302643.91971086  -927322.60413624\n",
      "  -626734.61123314]\n",
      "Mean CV Results:  -980370.1368165023\n"
     ]
    }
   ],
   "source": [
    "optimized_gb =  gb_random.best_estimator_\n",
    "test_pred = optimized_gb.predict(test_features)\n",
    "cv_results = cross_val_score(optimized_gb, train_features, train_target, cv=5, scoring = 'neg_mean_squared_error')\n",
    "print('Mean Squared Error: ', mean_squared_error(test_target, test_pred))\n",
    "print(\"CV Results: \", cv_results)\n",
    "print(\"Mean CV Results: \", np.mean(cv_results))"
   ]
  },
  {
   "cell_type": "code",
   "execution_count": 199,
   "metadata": {},
   "outputs": [],
   "source": [
    "lr = LinearRegression()\n",
    "dt = DecisionTreeRegressor()\n",
    "rf = RandomForestRegressor()\n",
    "gb = GradientBoostingRegressor()\n",
    "optimized_dt = dtr_cv.best_estimator_\n",
    "optimized_gb =  gb_random.best_estimator_\n",
    "\n",
    "estimators = [lr, dt, rf, gb, optimized_dt, optimized_gb]\n",
    "\n",
    "train_r2 = []\n",
    "test_r2 = []\n",
    "\n",
    "def getRSquared(estimator):\n",
    "    estimator.fit(train_features, train_target)\n",
    "    test_pred = estimator.predict(test_features)\n",
    "    train_cv_results = cross_val_score(estimator, train_features, train_target, cv=5, scoring = 'r2')\n",
    "    test_cv_results = cross_val_score(estimator, test_features, test_pred, cv=5, scoring = 'r2')\n",
    "    train_r2.append(np.mean(train_cv_results))\n",
    "    test_r2.append(np.mean(test_cv_results))"
   ]
  },
  {
   "cell_type": "code",
   "execution_count": 200,
   "metadata": {},
   "outputs": [],
   "source": [
    "for estimator in estimators:\n",
    "    getRSquared(estimator)"
   ]
  },
  {
   "cell_type": "code",
   "execution_count": 208,
   "metadata": {},
   "outputs": [
    {
     "data": {
      "image/png": "[encoded data removed]",
      "text/plain": [
       "<Figure size 432x288 with 1 Axes>"
      ]
     },
     "metadata": {},
     "output_type": "display_data"
    }
   ],
   "source": [
    "n = 6\n",
    "ind = np.arange(n)  # the x locations for the groups\n",
    "width = 0.2       # the width of the bars\n",
    "\n",
    "fig = plt.figure()\n",
    "ax = fig.add_subplot(111)\n",
    "\n",
    "train_rect = ax.bar(ind, train_r2, width, color='r')\n",
    "test_rect = ax.bar(ind+width, test_r2, width, color='g')\n",
    "\n",
    "ax.set_ylabel('R2')\n",
    "ax.set_xticks(ind+width)\n",
    "ax.set_xticklabels( ['lr', 'dt', 'rf', 'gb', 'optimized_dt', 'optimized_gb'], rotation=45 )\n",
    "ax.legend( (train_rect[0], test_rect[0]), ('R2: Train', 'R2: Test'), loc=1, bbox_to_anchor=(0.5, 0.5, 0.8, 0.5) )\n",
    "plt.ylim((0.5,1.1))\n",
    "\n",
    "plt.show()"
   ]
  },
  {
   "cell_type": "code",
   "execution_count": 215,
   "metadata": {},
   "outputs": [],
   "source": [
    "# Create submission file for test3.csv (Commented out so the .csv doesn't get overwritten)\n",
    "submit2_df['predictions'] = optimized_gb.predict(submit2_features)\n",
    "submit2_df[['rental_id','predictions']].to_csv('test3_submission.csv', header=True, index=False)"
   ]
  }
 ],
 "metadata": {
  "kernelspec": {
   "display_name": "Python 3",
   "language": "python",
   "name": "python3"
  },
  "language_info": {
   "codemirror_mode": {
    "name": "ipython",
    "version": 3
   },
   "file_extension": ".py",
   "mimetype": "text/x-python",
   "name": "python",
   "nbconvert_exporter": "python",
   "pygments_lexer": "ipython3",
   "version": "3.6.5"
  }
 },
 "nbformat": 4,
 "nbformat_minor": 2
}
